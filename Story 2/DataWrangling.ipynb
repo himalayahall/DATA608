{
 "cells": [
  {
   "cell_type": "code",
   "execution_count": 1,
   "id": "095350cc",
   "metadata": {},
   "outputs": [],
   "source": [
    "#!pip install fredapi"
   ]
  },
  {
   "cell_type": "code",
   "execution_count": 1,
   "id": "f046f1f3",
   "metadata": {},
   "outputs": [],
   "source": [
    "import pandas as pd\n",
    "import numpy as np\n",
    "from fredapi import Fred\n",
    "from tqdm import tqdm\n",
    "\n",
    "from typing import Any"
   ]
  },
  {
   "cell_type": "code",
   "execution_count": 2,
   "id": "c7183d5b",
   "metadata": {},
   "outputs": [
    {
     "name": "stdout",
     "output_type": "stream",
     "text": [
      "Please enter your FRED API Key: ········\n"
     ]
    }
   ],
   "source": [
    "import getpass\n",
    "api_key = getpass.getpass(prompt='Please enter your FRED API Key: ')"
   ]
  },
  {
   "cell_type": "code",
   "execution_count": 3,
   "id": "192ef743",
   "metadata": {},
   "outputs": [],
   "source": [
    "# Function to load series data using Fred API. \n",
    "# Inputs:\n",
    "#    series_id : ID of series rto load (e.g. UNRATE for unemployment rate, CPIAUSCL for CPI)\n",
    "#    value_col_name: name of value column. This is used to name the column that will contain\n",
    "#                    values for the series\n",
    "def fred_series(series_id : str, value_col_name = 'VALUE') -> pd.DataFrame:\n",
    "    fred = Fred(api_key=api_key)\n",
    "    raw_data = fred.get_series(series_id)\n",
    "    \n",
    "    # reset index - this will generate an index for the dataframe. And it will move the YYYY-MM-DD\n",
    "    # index to a column named 'index'. In addition, the value column name will be 0\n",
    "    data = raw_data.reset_index()\n",
    "    \n",
    "    # Rename columns\n",
    "    data = data.rename(columns={\"index\":\"DATE\", 0:value_col_name})\n",
    "    \n",
    "    # Round values to 2 decimal places\n",
    "    data[value_col_name] = round(data[value_col_name], 2)\n",
    "    return data"
   ]
  },
  {
   "cell_type": "code",
   "execution_count": 4,
   "id": "de3fa0e4",
   "metadata": {},
   "outputs": [],
   "source": [
    "from collections import namedtuple\n",
    "\n",
    "# Series - namedtuple containing series id, name of target value column, csv file name\n",
    "SeriesSource = namedtuple('SeriesSource', ['id', 'value_col', 'file_name'])\n",
    "\n",
    "# SeriesData - namedtuple containing series and data\n",
    "SeriesData = namedtuple('SeriesData', ['series', 'data'])\n"
   ]
  },
  {
   "cell_type": "code",
   "execution_count": 5,
   "id": "23ee150b",
   "metadata": {},
   "outputs": [
    {
     "data": {
      "text/plain": [
       "[SeriesSource(id='FEDFUNDS', value_col='EFFR', file_name='effr.csv'),\n",
       " SeriesSource(id='UNRATE', value_col='UNEMPLOYMENT', file_name='unrate.csv'),\n",
       " SeriesSource(id='NROU', value_col='NROU', file_name='nrou.csv'),\n",
       " SeriesSource(id='CPIAUCSL', value_col='CPI', file_name='cpi.csv'),\n",
       " SeriesSource(id='DPCCRV1Q225SBEA', value_col='PCE', file_name='pce.csv'),\n",
       " SeriesSource(id='FPCPITOTLZGUSA', value_col='INFLATION', file_name='inflation.csv')]"
      ]
     },
     "execution_count": 5,
     "metadata": {},
     "output_type": "execute_result"
    }
   ],
   "source": [
    "# Define series data sources\n",
    "source = [\n",
    "           SeriesSource(id='FEDFUNDS', value_col='EFFR', file_name='effr.csv'),\n",
    "    \n",
    "           SeriesSource(id='UNRATE', value_col='UNEMPLOYMENT', file_name='unrate.csv'),\n",
    " \n",
    "           SeriesSource(id='NROU', value_col='NROU', file_name='nrou.csv'),\n",
    "\n",
    "           SeriesSource(id='CPIAUCSL', value_col='CPI', file_name='cpi.csv'),\n",
    "\n",
    "           SeriesSource(id='DPCCRV1Q225SBEA', value_col='PCE', file_name='pce.csv'),\n",
    "\n",
    "           SeriesSource(id='FPCPITOTLZGUSA', value_col='INFLATION', file_name='inflation.csv')\n",
    "         ]\n",
    "source"
   ]
  },
  {
   "cell_type": "code",
   "execution_count": 6,
   "id": "d9400cf5",
   "metadata": {},
   "outputs": [
    {
     "name": "stderr",
     "output_type": "stream",
     "text": [
      "Fetching series data: 100%|███████████████████████| 6/6 [00:01<00:00,  3.14it/s]\n"
     ]
    }
   ],
   "source": [
    "# Fetch series data\n",
    "target = []\n",
    "for src in tqdm(source, \"Fetching series data\"):\n",
    "    data = fred_series(src.id, src.value_col)\n",
    "    target.append(SeriesData(series=src, data=data))\n",
    " "
   ]
  },
  {
   "cell_type": "code",
   "execution_count": 7,
   "id": "e304e0e3",
   "metadata": {},
   "outputs": [
    {
     "name": "stderr",
     "output_type": "stream",
     "text": [
      "Saving series data: 100%|████████████████████████| 6/6 [00:00<00:00, 215.95it/s]\n"
     ]
    }
   ],
   "source": [
    "# Persist series data\n",
    "for seriesData in tqdm(target, \"Saving series data\"):\n",
    "    seriesData.data.to_csv(seriesData.series.file_name, index=False)"
   ]
  },
  {
   "cell_type": "code",
   "execution_count": 9,
   "id": "bc8104c3",
   "metadata": {},
   "outputs": [
    {
     "data": {
      "text/plain": [
       "SeriesData(series=SeriesSource(id='UNRATE', value_col='UNEMPLOYMENT', file_name='unrate.csv'), data=          DATE  UNEMPLOYMENT\n",
       "0   1948-01-01           3.4\n",
       "1   1948-02-01           3.8\n",
       "2   1948-03-01           4.0\n",
       "3   1948-04-01           3.9\n",
       "4   1948-05-01           3.5\n",
       "..         ...           ...\n",
       "903 2023-04-01           3.4\n",
       "904 2023-05-01           3.7\n",
       "905 2023-06-01           3.6\n",
       "906 2023-07-01           3.5\n",
       "907 2023-08-01           3.8\n",
       "\n",
       "[908 rows x 2 columns])"
      ]
     },
     "execution_count": 9,
     "metadata": {},
     "output_type": "execute_result"
    }
   ],
   "source": [
    "target[1]"
   ]
  },
  {
   "cell_type": "code",
   "execution_count": null,
   "id": "87bc3cd8",
   "metadata": {},
   "outputs": [],
   "source": []
  }
 ],
 "metadata": {
  "kernelspec": {
   "display_name": "Python 3 (ipykernel)",
   "language": "python",
   "name": "python3"
  },
  "language_info": {
   "codemirror_mode": {
    "name": "ipython",
    "version": 3
   },
   "file_extension": ".py",
   "mimetype": "text/x-python",
   "name": "python",
   "nbconvert_exporter": "python",
   "pygments_lexer": "ipython3",
   "version": "3.11.4"
  }
 },
 "nbformat": 4,
 "nbformat_minor": 5
}
