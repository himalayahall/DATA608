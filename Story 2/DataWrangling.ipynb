{
 "cells": [
  {
   "cell_type": "code",
   "execution_count": null,
   "id": "095350cc",
   "metadata": {},
   "outputs": [],
   "source": [
    "!pip install fredapi"
   ]
  },
  {
   "cell_type": "code",
   "execution_count": 14,
   "id": "f046f1f3",
   "metadata": {},
   "outputs": [],
   "source": [
    "import pandas as pd\n",
    "import json\n",
    "import numpy as np\n",
    "from fredapi import Fred\n",
    "from tqdm import tqdm\n",
    "\n",
    "from typing import Any"
   ]
  },
  {
   "cell_type": "code",
   "execution_count": null,
   "id": "c7183d5b",
   "metadata": {},
   "outputs": [],
   "source": [
    "import getpass\n",
    "api_key = getpass.getpass(prompt='Please enter your FRED API Key: ')"
   ]
  },
  {
   "cell_type": "code",
   "execution_count": 17,
   "id": "192ef743",
   "metadata": {},
   "outputs": [],
   "source": [
    "def fred_series(series_id : str, value_col_name = 'VALUE') -> Any:\n",
    "    fred = Fred(api_key=api_key)\n",
    "    raw_data = fred.get_series(series_id)\n",
    "    data = raw_data.reset_index()\n",
    "    data = data.rename(columns={\"index\":\"DATE\", 0:value_col_name})\n",
    "    data[value_col_name] = round(data[value_col_name], 2)\n",
    "    return data"
   ]
  },
  {
   "cell_type": "code",
   "execution_count": 32,
   "id": "de3fa0e4",
   "metadata": {},
   "outputs": [
    {
     "data": {
      "text/plain": [
       "[Series(id='FEDFUNDS', value_col='EFFR', file_name='effr.csv', data=None),\n",
       " Series(id='UNRATE', value_col='UNEMPLOYMENT', file_name='unrate.csv', data=None),\n",
       " Series(id='CPIAUCSL', value_col='CPI', file_name='cpi.csv', data=None),\n",
       " Series(id='FPCPITOTLZGUSA', value_col='INFLATION', file_name='inflation.csv', data=None)]"
      ]
     },
     "execution_count": 32,
     "metadata": {},
     "output_type": "execute_result"
    }
   ],
   "source": [
    "from collections import namedtuple\n",
    "\n",
    "# Series - named tuple containing series ID, name of target value column, csv file name (without csv suffix)\n",
    "Series = namedtuple('Series', ['id', 'value_col', 'file_name', 'data'], defaults=[None, None, None, None])\n",
    "\n",
    "source = [Series(id='FEDFUNDS', value_col='EFFR', file_name='effr.csv'), \n",
    "          Series(id='UNRATE', value_col='UNEMPLOYMENT', file_name='unrate.csv'),\n",
    "          Series(id='CPIAUCSL', value_col='CPI', file_name='cpi.csv'),\n",
    "          Series(id='FPCPITOTLZGUSA', value_col='INFLATION', file_name='inflation.csv')\n",
    "         ]\n",
    "source"
   ]
  },
  {
   "cell_type": "code",
   "execution_count": 33,
   "id": "d9400cf5",
   "metadata": {},
   "outputs": [
    {
     "name": "stderr",
     "output_type": "stream",
     "text": [
      "Fetching series data: 100%|███████████████████████| 4/4 [00:01<00:00,  2.66it/s]\n"
     ]
    }
   ],
   "source": [
    "target = []\n",
    "for series in tqdm(source, \"Fetching series data\"):\n",
    "    data = fred_series(series.id, series.value_col)\n",
    "    target.append(Series(id=series.id, value_col=series.value_col, file_name=series.file_name, data=data))\n",
    " "
   ]
  },
  {
   "cell_type": "code",
   "execution_count": 34,
   "id": "e304e0e3",
   "metadata": {},
   "outputs": [
    {
     "name": "stderr",
     "output_type": "stream",
     "text": [
      "Saving series data: 100%|████████████████████████| 4/4 [00:00<00:00, 258.21it/s]\n"
     ]
    }
   ],
   "source": [
    "for series in tqdm(target, \"Saving series data\"):\n",
    "    series.data.to_csv(series.file_name, index=False)"
   ]
  },
  {
   "cell_type": "code",
   "execution_count": null,
   "id": "ee76adb1",
   "metadata": {},
   "outputs": [],
   "source": []
  }
 ],
 "metadata": {
  "kernelspec": {
   "display_name": "Python 3 (ipykernel)",
   "language": "python",
   "name": "python3"
  },
  "language_info": {
   "codemirror_mode": {
    "name": "ipython",
    "version": 3
   },
   "file_extension": ".py",
   "mimetype": "text/x-python",
   "name": "python",
   "nbconvert_exporter": "python",
   "pygments_lexer": "ipython3",
   "version": "3.11.4"
  }
 },
 "nbformat": 4,
 "nbformat_minor": 5
}
