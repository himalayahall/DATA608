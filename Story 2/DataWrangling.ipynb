{
 "cells": [
  {
   "cell_type": "code",
   "execution_count": 1,
   "id": "4054e3f2",
   "metadata": {},
   "outputs": [],
   "source": [
    "import pandas as pd\n",
    "import requests\n",
    "import json\n",
    "import numpy as np\n",
    "from scipy import signal\n",
    "from datetime import datetime\n",
    "from tqdm import tqdm"
   ]
  },
  {
   "cell_type": "code",
   "execution_count": 2,
   "id": "e1fb821a",
   "metadata": {},
   "outputs": [],
   "source": [
    "period_map = {'January' : 1, 'February': 2, 'March' : 3, 'April' : 4, 'May' : 5, 'June' : 6, 'July' : 7, 'August' : 8, 'September' : 9, 'October' : 10, 'November' : 11, 'December' : 12}"
   ]
  },
  {
   "cell_type": "code",
   "execution_count": 23,
   "id": "0ac83c45",
   "metadata": {},
   "outputs": [],
   "source": [
    "from typing import Dict\n",
    "from typing import List\n",
    "from typing import Any\n",
    "\n",
    "def bls_gov_to_dataframe(raw_json: List[str], value_col_name: str) -> Any:\n",
    "    df = pd.DataFrame(columns = [\"DATE\",value_col_name])\n",
    "    for json_data in raw_json:\n",
    "        for series in json_data['Results']['series']:\n",
    "            seriesId = series['seriesID']\n",
    "            for item in series['data']:\n",
    "                year = item['year']\n",
    "                value = item['value']\n",
    "\n",
    "                periodName = item['periodName']\n",
    "                period = period_map[periodName]\n",
    "\n",
    "                df.loc[len(df.index)] = [str(year) + '-' + str(period) + '-01', float(value)]\n",
    "                \n",
    "    df['DATE'] = pd.to_datetime(df['DATE'], format='%Y-%m-%d')\n",
    "    df.sort_values(by=['DATE'], inplace=True)\n",
    "    df.reset_index(drop=True, inplace=True)\n",
    "    return df\n",
    "\n",
    "def bls_gov_request(url: str, headers : Dict[str, str], \n",
    "                    series : List[str], \n",
    "                    startYear: int, \n",
    "                    endYear: int) -> Any:\n",
    "    resp_json = []\n",
    "    # Split requests in 10 year chunks (limit enforced by endpoint)\n",
    "    years = [(s, s + 10) if s + 10 < endYear else (s, endYear) for s in range(startYear, endYear, 11)]\n",
    "    for y in tqdm(years):\n",
    "        start_year = y[0]\n",
    "        end_year = y[1]\n",
    "\n",
    "        data = json.dumps({\"seriesid\": series, \"startyear\":str(start_year), \"endyear\":str(end_year)})\n",
    "\n",
    "        print(f'Start Year: {start_year}, End Year: {end_year}, Url: {url}')\n",
    "        resp = requests.post(url, data=data, headers=headers)\n",
    "        print(f'Status: {resp.status_code}')\n",
    "\n",
    "        txt = resp.json()\n",
    "        resp_json.append(txt)\n",
    "        \n",
    "    return resp_json\n",
    "\n"
   ]
  },
  {
   "cell_type": "code",
   "execution_count": 20,
   "id": "5c633250",
   "metadata": {},
   "outputs": [],
   "source": [
    "# Data from US Bureau of Labor and Statistics\n",
    "headers = {'Content-type': 'application/json'}\n",
    "url = 'https://api.bls.gov/publicAPI/v2/timeseries/data/'"
   ]
  },
  {
   "cell_type": "code",
   "execution_count": 25,
   "id": "e097f7b3",
   "metadata": {},
   "outputs": [
    {
     "name": "stderr",
     "output_type": "stream",
     "text": [
      "\r",
      "  0%|                                                     | 0/3 [00:00<?, ?it/s]"
     ]
    },
    {
     "name": "stdout",
     "output_type": "stream",
     "text": [
      "Start Year: 2000, End Year: 2010, Url: https://api.bls.gov/publicAPI/v2/timeseries/data/\n"
     ]
    },
    {
     "name": "stderr",
     "output_type": "stream",
     "text": [
      "\r",
      " 33%|███████████████                              | 1/3 [00:00<00:00,  2.79it/s]"
     ]
    },
    {
     "name": "stdout",
     "output_type": "stream",
     "text": [
      "Status: 200\n",
      "Start Year: 2011, End Year: 2021, Url: https://api.bls.gov/publicAPI/v2/timeseries/data/\n"
     ]
    },
    {
     "name": "stderr",
     "output_type": "stream",
     "text": [
      "\r",
      " 67%|██████████████████████████████               | 2/3 [00:00<00:00,  2.57it/s]"
     ]
    },
    {
     "name": "stdout",
     "output_type": "stream",
     "text": [
      "Status: 200\n",
      "Start Year: 2022, End Year: 2024, Url: https://api.bls.gov/publicAPI/v2/timeseries/data/\n"
     ]
    },
    {
     "name": "stderr",
     "output_type": "stream",
     "text": [
      "100%|█████████████████████████████████████████████| 3/3 [00:01<00:00,  2.87it/s]"
     ]
    },
    {
     "name": "stdout",
     "output_type": "stream",
     "text": [
      "Status: 200\n",
      "Loaded CPI data: 260 rows\n"
     ]
    },
    {
     "name": "stderr",
     "output_type": "stream",
     "text": [
      "\n"
     ]
    },
    {
     "data": {
      "text/html": [
       "<div>\n",
       "<style scoped>\n",
       "    .dataframe tbody tr th:only-of-type {\n",
       "        vertical-align: middle;\n",
       "    }\n",
       "\n",
       "    .dataframe tbody tr th {\n",
       "        vertical-align: top;\n",
       "    }\n",
       "\n",
       "    .dataframe thead th {\n",
       "        text-align: right;\n",
       "    }\n",
       "</style>\n",
       "<table border=\"1\" class=\"dataframe\">\n",
       "  <thead>\n",
       "    <tr style=\"text-align: right;\">\n",
       "      <th></th>\n",
       "      <th>DATE</th>\n",
       "      <th>CPI</th>\n",
       "    </tr>\n",
       "  </thead>\n",
       "  <tbody>\n",
       "    <tr>\n",
       "      <th>0</th>\n",
       "      <td>2000-01-01</td>\n",
       "      <td>100.3</td>\n",
       "    </tr>\n",
       "    <tr>\n",
       "      <th>1</th>\n",
       "      <td>2000-02-01</td>\n",
       "      <td>100.7</td>\n",
       "    </tr>\n",
       "    <tr>\n",
       "      <th>2</th>\n",
       "      <td>2000-03-01</td>\n",
       "      <td>101.2</td>\n",
       "    </tr>\n",
       "    <tr>\n",
       "      <th>3</th>\n",
       "      <td>2000-04-01</td>\n",
       "      <td>101.3</td>\n",
       "    </tr>\n",
       "    <tr>\n",
       "      <th>4</th>\n",
       "      <td>2000-05-01</td>\n",
       "      <td>101.2</td>\n",
       "    </tr>\n",
       "  </tbody>\n",
       "</table>\n",
       "</div>"
      ],
      "text/plain": [
       "        DATE    CPI\n",
       "0 2000-01-01  100.3\n",
       "1 2000-02-01  100.7\n",
       "2 2000-03-01  101.2\n",
       "3 2000-04-01  101.3\n",
       "4 2000-05-01  101.2"
      ]
     },
     "execution_count": 25,
     "metadata": {},
     "output_type": "execute_result"
    }
   ],
   "source": [
    "# Chained CPI for All Urban Consumers, U.S. city average (C-CPI-U)\n",
    "# Series Id: SUUR0000SA0L1E\n",
    "# Not Seasonally Adjusted\n",
    "# Series Title: All items less food and energy in U.S. city average, all urban consumers, chained, not seasonally adjusted\n",
    "# Area: U.S. city average\n",
    "# Item: All items less food and energy\n",
    "# Base Period: DECEMBER 1999=100\n",
    "cpi_resp = bls_gov_request(url=url, headers=headers, series=['SUUR0000SA0L1E'], startYear=2000, endYear=2024)\n",
    "cpi = bls_gov_to_dataframe(cpi_resp, 'CPI')\n",
    "print(f'Loaded CPI data: {len(cpi)} rows')\n",
    "cpi.head()"
   ]
  },
  {
   "cell_type": "code",
   "execution_count": 22,
   "id": "495bfaeb",
   "metadata": {},
   "outputs": [],
   "source": [
    "cpi.to_csv('cpi_2000_2023.csv', index=False)"
   ]
  },
  {
   "cell_type": "code",
   "execution_count": 28,
   "id": "32ab7e28",
   "metadata": {},
   "outputs": [
    {
     "name": "stderr",
     "output_type": "stream",
     "text": [
      "\r",
      "  0%|                                                     | 0/3 [00:00<?, ?it/s]"
     ]
    },
    {
     "name": "stdout",
     "output_type": "stream",
     "text": [
      "Start Year: 2000, End Year: 2010, Url: https://api.bls.gov/publicAPI/v2/timeseries/data/\n"
     ]
    },
    {
     "name": "stderr",
     "output_type": "stream",
     "text": [
      "\r",
      " 33%|███████████████                              | 1/3 [00:00<00:01,  1.84it/s]"
     ]
    },
    {
     "name": "stdout",
     "output_type": "stream",
     "text": [
      "Status: 200\n",
      "Start Year: 2011, End Year: 2021, Url: https://api.bls.gov/publicAPI/v2/timeseries/data/\n"
     ]
    },
    {
     "name": "stderr",
     "output_type": "stream",
     "text": [
      "\r",
      " 67%|██████████████████████████████               | 2/3 [00:00<00:00,  2.07it/s]"
     ]
    },
    {
     "name": "stdout",
     "output_type": "stream",
     "text": [
      "Status: 200\n",
      "Start Year: 2022, End Year: 2024, Url: https://api.bls.gov/publicAPI/v2/timeseries/data/\n"
     ]
    },
    {
     "name": "stderr",
     "output_type": "stream",
     "text": [
      "100%|█████████████████████████████████████████████| 3/3 [00:01<00:00,  2.15it/s]"
     ]
    },
    {
     "name": "stdout",
     "output_type": "stream",
     "text": [
      "Status: 200\n",
      "Loaded Unemployment data: 260 rows\n"
     ]
    },
    {
     "name": "stderr",
     "output_type": "stream",
     "text": [
      "\n"
     ]
    },
    {
     "data": {
      "text/html": [
       "<div>\n",
       "<style scoped>\n",
       "    .dataframe tbody tr th:only-of-type {\n",
       "        vertical-align: middle;\n",
       "    }\n",
       "\n",
       "    .dataframe tbody tr th {\n",
       "        vertical-align: top;\n",
       "    }\n",
       "\n",
       "    .dataframe thead th {\n",
       "        text-align: right;\n",
       "    }\n",
       "</style>\n",
       "<table border=\"1\" class=\"dataframe\">\n",
       "  <thead>\n",
       "    <tr style=\"text-align: right;\">\n",
       "      <th></th>\n",
       "      <th>DATE</th>\n",
       "      <th>UNEMPLOYMENT</th>\n",
       "    </tr>\n",
       "  </thead>\n",
       "  <tbody>\n",
       "    <tr>\n",
       "      <th>0</th>\n",
       "      <td>2000-01-01</td>\n",
       "      <td>4.0</td>\n",
       "    </tr>\n",
       "    <tr>\n",
       "      <th>1</th>\n",
       "      <td>2000-02-01</td>\n",
       "      <td>4.1</td>\n",
       "    </tr>\n",
       "    <tr>\n",
       "      <th>2</th>\n",
       "      <td>2000-03-01</td>\n",
       "      <td>4.0</td>\n",
       "    </tr>\n",
       "    <tr>\n",
       "      <th>3</th>\n",
       "      <td>2000-04-01</td>\n",
       "      <td>3.8</td>\n",
       "    </tr>\n",
       "    <tr>\n",
       "      <th>4</th>\n",
       "      <td>2000-05-01</td>\n",
       "      <td>4.0</td>\n",
       "    </tr>\n",
       "  </tbody>\n",
       "</table>\n",
       "</div>"
      ],
      "text/plain": [
       "        DATE  UNEMPLOYMENT\n",
       "0 2000-01-01           4.0\n",
       "1 2000-02-01           4.1\n",
       "2 2000-03-01           4.0\n",
       "3 2000-04-01           3.8\n",
       "4 2000-05-01           4.0"
      ]
     },
     "execution_count": 28,
     "metadata": {},
     "output_type": "execute_result"
    }
   ],
   "source": [
    "# Labor Force Statistics from the Current Population Survey\n",
    "\n",
    "# Series Id: LNS14000000\n",
    "# Seasonally Adjusted\n",
    "# Series title: (Seas) Unemployment Rate\n",
    "# Labor force status: Unemployment rate\n",
    "# Type of data: Percent or rate\n",
    "# Age: 16 years and over\n",
    "    \n",
    "unrate_resp = bls_gov_request(url=url, headers=headers, series=['LNS14000000'], startYear=2000, endYear=2024)\n",
    "unrate = bls_gov_to_dataframe(unrate_resp, 'UNEMPLOYMENT')\n",
    "print(f'Loaded Unemployment data: {len(unrate)} rows')\n",
    "unrate.head()"
   ]
  },
  {
   "cell_type": "code",
   "execution_count": 29,
   "id": "b59963aa",
   "metadata": {},
   "outputs": [],
   "source": [
    "unrate.to_csv('unemployment_2000_2023.csv', index=False)"
   ]
  },
  {
   "cell_type": "code",
   "execution_count": 30,
   "id": "ccaebc05",
   "metadata": {
    "scrolled": false
   },
   "outputs": [
    {
     "name": "stdout",
     "output_type": "stream",
     "text": [
      "Start Date: 2000-01-01, End Date: 2023-08-15, Url: https://markets.newyorkfed.org/api/rates/unsecured/effr/search.json\n",
      "Status: 200\n"
     ]
    },
    {
     "name": "stderr",
     "output_type": "stream",
     "text": [
      "100%|████████████████████████████████████| 5812/5812 [00:00<00:00, 24545.18it/s]"
     ]
    },
    {
     "name": "stdout",
     "output_type": "stream",
     "text": [
      "278\n"
     ]
    },
    {
     "name": "stderr",
     "output_type": "stream",
     "text": [
      "\n"
     ]
    },
    {
     "data": {
      "text/html": [
       "<div>\n",
       "<style scoped>\n",
       "    .dataframe tbody tr th:only-of-type {\n",
       "        vertical-align: middle;\n",
       "    }\n",
       "\n",
       "    .dataframe tbody tr th {\n",
       "        vertical-align: top;\n",
       "    }\n",
       "\n",
       "    .dataframe thead th {\n",
       "        text-align: right;\n",
       "    }\n",
       "</style>\n",
       "<table border=\"1\" class=\"dataframe\">\n",
       "  <thead>\n",
       "    <tr style=\"text-align: right;\">\n",
       "      <th></th>\n",
       "      <th>DATE</th>\n",
       "      <th>EFFR</th>\n",
       "    </tr>\n",
       "  </thead>\n",
       "  <tbody>\n",
       "    <tr>\n",
       "      <th>0</th>\n",
       "      <td>2000-07-01</td>\n",
       "      <td>6.64</td>\n",
       "    </tr>\n",
       "    <tr>\n",
       "      <th>1</th>\n",
       "      <td>2000-08-01</td>\n",
       "      <td>6.65</td>\n",
       "    </tr>\n",
       "    <tr>\n",
       "      <th>2</th>\n",
       "      <td>2000-09-01</td>\n",
       "      <td>6.60</td>\n",
       "    </tr>\n",
       "    <tr>\n",
       "      <th>3</th>\n",
       "      <td>2000-10-01</td>\n",
       "      <td>6.59</td>\n",
       "    </tr>\n",
       "    <tr>\n",
       "      <th>4</th>\n",
       "      <td>2000-11-01</td>\n",
       "      <td>6.62</td>\n",
       "    </tr>\n",
       "    <tr>\n",
       "      <th>5</th>\n",
       "      <td>2000-12-01</td>\n",
       "      <td>5.41</td>\n",
       "    </tr>\n",
       "    <tr>\n",
       "      <th>6</th>\n",
       "      <td>2001-01-01</td>\n",
       "      <td>5.74</td>\n",
       "    </tr>\n",
       "    <tr>\n",
       "      <th>7</th>\n",
       "      <td>2001-02-01</td>\n",
       "      <td>5.59</td>\n",
       "    </tr>\n",
       "    <tr>\n",
       "      <th>8</th>\n",
       "      <td>2001-03-01</td>\n",
       "      <td>5.29</td>\n",
       "    </tr>\n",
       "    <tr>\n",
       "      <th>9</th>\n",
       "      <td>2001-04-01</td>\n",
       "      <td>4.67</td>\n",
       "    </tr>\n",
       "  </tbody>\n",
       "</table>\n",
       "</div>"
      ],
      "text/plain": [
       "        DATE  EFFR\n",
       "0 2000-07-01  6.64\n",
       "1 2000-08-01  6.65\n",
       "2 2000-09-01  6.60\n",
       "3 2000-10-01  6.59\n",
       "4 2000-11-01  6.62\n",
       "5 2000-12-01  5.41\n",
       "6 2001-01-01  5.74\n",
       "7 2001-02-01  5.59\n",
       "8 2001-03-01  5.29\n",
       "9 2001-04-01  4.67"
      ]
     },
     "execution_count": 30,
     "metadata": {},
     "output_type": "execute_result"
    }
   ],
   "source": [
    "headers = {'Content-type': 'application/json'}\n",
    "start_date = '2000-01-01'\n",
    "end_date = '2023-08-15'\n",
    "search_type='rate'\n",
    "url = 'https://markets.newyorkfed.org/api/rates/unsecured/effr/search.json'\n",
    "data = {\"startDate\":start_date, \"endDate\":end_date, 'type':search_type}\n",
    "\n",
    "months_seen = dict()\n",
    "\n",
    "print(f'Start Date: {start_date}, End Date: {end_date}, Url: {url}')\n",
    "res = requests.get(url, params=data, headers=headers)\n",
    "print(f'Status: {res.status_code}')\n",
    "\n",
    "effr_resp_json = res.json()\n",
    "effr = pd.DataFrame(columns = [\"DATE\",\"EFFR\"])\n",
    "for r in tqdm(effr_resp_json['refRates']):\n",
    "    effectiveDate = r['effectiveDate']\n",
    "    sd = datetime.strptime(effectiveDate, '%Y-%m-%d')\n",
    "    YYYY_MM = str(sd.year) + '-' + str(sd.month)\n",
    "    if YYYY_MM not in months_seen.keys():\n",
    "        months_seen[YYYY_MM] = 1\n",
    "        percentRate = r['percentRate']\n",
    "        effectiveDate = YYYY_MM + '-01'\n",
    "        effr.loc[len(effr.index)] = [effectiveDate, float(percentRate)]\n",
    "\n",
    "effr['DATE'] = pd.to_datetime(effr['DATE'], format='%Y-%m-%d')\n",
    "effr.sort_values(by=['DATE'], inplace=True)\n",
    "effr.reset_index(drop=True, inplace=True)\n",
    "print(len(effr))\n",
    "effr.head(n=10)"
   ]
  },
  {
   "cell_type": "code",
   "execution_count": 31,
   "id": "dc144b20",
   "metadata": {},
   "outputs": [],
   "source": [
    "effr.to_csv('effr_2000_2023.csv', index=False)"
   ]
  }
 ],
 "metadata": {
  "kernelspec": {
   "display_name": "Python 3 (ipykernel)",
   "language": "python",
   "name": "python3"
  },
  "language_info": {
   "codemirror_mode": {
    "name": "ipython",
    "version": 3
   },
   "file_extension": ".py",
   "mimetype": "text/x-python",
   "name": "python",
   "nbconvert_exporter": "python",
   "pygments_lexer": "ipython3",
   "version": "3.11.4"
  }
 },
 "nbformat": 4,
 "nbformat_minor": 5
}
