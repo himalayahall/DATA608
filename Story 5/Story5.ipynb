{
 "cells": [
  {
   "cell_type": "code",
   "execution_count": 104,
   "metadata": {},
   "outputs": [],
   "source": [
    "import pandas as pd\n",
    "import plotly.express as px\n",
    "import matplotlib.pyplot as plt\n"
   ]
  },
  {
   "cell_type": "markdown",
   "metadata": {},
   "source": [
    "#  Cyclonic Storm Data (North Atlantic Hurricanes)\n",
    "\n",
    "Data is sourced from the [United States EPA](https://www.epa.gov/climate-indicators/climate-change-indicators-tropical-cyclone-activity#tab-4).\n",
    "\n",
    "## Number of Hurricanes in the North Atlantic, 1878–2020\n",
    "\n",
    "\n"
   ]
  },
  {
   "cell_type": "code",
   "execution_count": 105,
   "metadata": {},
   "outputs": [
    {
     "data": {
      "text/html": [
       "<div>\n",
       "<style scoped>\n",
       "    .dataframe tbody tr th:only-of-type {\n",
       "        vertical-align: middle;\n",
       "    }\n",
       "\n",
       "    .dataframe tbody tr th {\n",
       "        vertical-align: top;\n",
       "    }\n",
       "\n",
       "    .dataframe thead th {\n",
       "        text-align: right;\n",
       "    }\n",
       "</style>\n",
       "<table border=\"1\" class=\"dataframe\">\n",
       "  <thead>\n",
       "    <tr style=\"text-align: right;\">\n",
       "      <th></th>\n",
       "      <th>Year</th>\n",
       "      <th>Total hurricanes (adjusted)</th>\n",
       "      <th>Total hurricanes (unadjusted)</th>\n",
       "      <th>Hurricanes reaching the United States</th>\n",
       "    </tr>\n",
       "  </thead>\n",
       "  <tbody>\n",
       "    <tr>\n",
       "      <th>0</th>\n",
       "      <td>1880</td>\n",
       "      <td>9.63874</td>\n",
       "      <td>6.6</td>\n",
       "      <td>2.6</td>\n",
       "    </tr>\n",
       "    <tr>\n",
       "      <th>1</th>\n",
       "      <td>1881</td>\n",
       "      <td>8.24872</td>\n",
       "      <td>5.2</td>\n",
       "      <td>2.4</td>\n",
       "    </tr>\n",
       "    <tr>\n",
       "      <th>2</th>\n",
       "      <td>1882</td>\n",
       "      <td>7.82772</td>\n",
       "      <td>4.8</td>\n",
       "      <td>1.8</td>\n",
       "    </tr>\n",
       "    <tr>\n",
       "      <th>3</th>\n",
       "      <td>1883</td>\n",
       "      <td>7.23736</td>\n",
       "      <td>4.2</td>\n",
       "      <td>1.2</td>\n",
       "    </tr>\n",
       "    <tr>\n",
       "      <th>4</th>\n",
       "      <td>1884</td>\n",
       "      <td>8.38944</td>\n",
       "      <td>5.4</td>\n",
       "      <td>2.2</td>\n",
       "    </tr>\n",
       "  </tbody>\n",
       "</table>\n",
       "</div>"
      ],
      "text/plain": [
       "   Year  Total hurricanes (adjusted)  Total hurricanes (unadjusted)   \n",
       "0  1880                      9.63874                            6.6  \\\n",
       "1  1881                      8.24872                            5.2   \n",
       "2  1882                      7.82772                            4.8   \n",
       "3  1883                      7.23736                            4.2   \n",
       "4  1884                      8.38944                            5.4   \n",
       "\n",
       "   Hurricanes reaching the United States  \n",
       "0                                    2.6  \n",
       "1                                    2.4  \n",
       "2                                    1.8  \n",
       "3                                    1.2  \n",
       "4                                    2.2  "
      ]
     },
     "execution_count": 105,
     "metadata": {},
     "output_type": "execute_result"
    }
   ],
   "source": [
    "hurricanes_df = pd.read_csv('epa_hurricanes_in_north_atlantic.csv')\n",
    "hurricanes_df.head()"
   ]
  },
  {
   "cell_type": "markdown",
   "metadata": {},
   "source": [
    "## Accumulated Cyclone Energy Index (ACE), 1950–2020\n",
    "\n",
    "Accumulated Cyclone Energy (ACE) Index, account sfor cyclone strength, duration, and frequency, from 1950 through 2020."
   ]
  },
  {
   "cell_type": "code",
   "execution_count": 106,
   "metadata": {},
   "outputs": [
    {
     "data": {
      "text/html": [
       "<div>\n",
       "<style scoped>\n",
       "    .dataframe tbody tr th:only-of-type {\n",
       "        vertical-align: middle;\n",
       "    }\n",
       "\n",
       "    .dataframe tbody tr th {\n",
       "        vertical-align: top;\n",
       "    }\n",
       "\n",
       "    .dataframe thead th {\n",
       "        text-align: right;\n",
       "    }\n",
       "</style>\n",
       "<table border=\"1\" class=\"dataframe\">\n",
       "  <thead>\n",
       "    <tr style=\"text-align: right;\">\n",
       "      <th></th>\n",
       "      <th>Year</th>\n",
       "      <th>Adjusted ACE Index (as % of 1981-2010 median)</th>\n",
       "    </tr>\n",
       "  </thead>\n",
       "  <tbody>\n",
       "    <tr>\n",
       "      <th>0</th>\n",
       "      <td>1950</td>\n",
       "      <td>228.108108</td>\n",
       "    </tr>\n",
       "    <tr>\n",
       "      <th>1</th>\n",
       "      <td>1951</td>\n",
       "      <td>136.216216</td>\n",
       "    </tr>\n",
       "    <tr>\n",
       "      <th>2</th>\n",
       "      <td>1952</td>\n",
       "      <td>74.594595</td>\n",
       "    </tr>\n",
       "    <tr>\n",
       "      <th>3</th>\n",
       "      <td>1953</td>\n",
       "      <td>107.027027</td>\n",
       "    </tr>\n",
       "    <tr>\n",
       "      <th>4</th>\n",
       "      <td>1954</td>\n",
       "      <td>120.000000</td>\n",
       "    </tr>\n",
       "  </tbody>\n",
       "</table>\n",
       "</div>"
      ],
      "text/plain": [
       "   Year  Adjusted ACE Index (as % of 1981-2010 median)\n",
       "0  1950                                     228.108108\n",
       "1  1951                                     136.216216\n",
       "2  1952                                      74.594595\n",
       "3  1953                                     107.027027\n",
       "4  1954                                     120.000000"
      ]
     },
     "execution_count": 106,
     "metadata": {},
     "output_type": "execute_result"
    }
   ],
   "source": [
    "ace_df = pd.read_csv('epa_north_atlantic_tropical_cyclone_activity_accumulated_cyclone_energy_index.csv')\n",
    "ace_df.head()"
   ]
  },
  {
   "cell_type": "markdown",
   "metadata": {},
   "source": [
    "## Power Dissipation Index, 1950–2019\n",
    "\n",
    "Power Dissipation Index (PDI), accounts for cyclone strength, duration, and frequency.\n"
   ]
  },
  {
   "cell_type": "code",
   "execution_count": 107,
   "metadata": {},
   "outputs": [
    {
     "data": {
      "text/html": [
       "<div>\n",
       "<style scoped>\n",
       "    .dataframe tbody tr th:only-of-type {\n",
       "        vertical-align: middle;\n",
       "    }\n",
       "\n",
       "    .dataframe tbody tr th {\n",
       "        vertical-align: top;\n",
       "    }\n",
       "\n",
       "    .dataframe thead th {\n",
       "        text-align: right;\n",
       "    }\n",
       "</style>\n",
       "<table border=\"1\" class=\"dataframe\">\n",
       "  <thead>\n",
       "    <tr style=\"text-align: right;\">\n",
       "      <th></th>\n",
       "      <th>Year</th>\n",
       "      <th>Smoothed SST (F)</th>\n",
       "      <th>Smoothed Power Dissipation Index (10^11 m^3/s^2)</th>\n",
       "    </tr>\n",
       "  </thead>\n",
       "  <tbody>\n",
       "    <tr>\n",
       "      <th>0</th>\n",
       "      <td>1951</td>\n",
       "      <td>82.10660</td>\n",
       "      <td>2.6784</td>\n",
       "    </tr>\n",
       "    <tr>\n",
       "      <th>1</th>\n",
       "      <td>1952</td>\n",
       "      <td>82.21388</td>\n",
       "      <td>2.2490</td>\n",
       "    </tr>\n",
       "    <tr>\n",
       "      <th>2</th>\n",
       "      <td>1953</td>\n",
       "      <td>82.15412</td>\n",
       "      <td>2.1383</td>\n",
       "    </tr>\n",
       "    <tr>\n",
       "      <th>3</th>\n",
       "      <td>1954</td>\n",
       "      <td>82.01354</td>\n",
       "      <td>2.3011</td>\n",
       "    </tr>\n",
       "    <tr>\n",
       "      <th>4</th>\n",
       "      <td>1955</td>\n",
       "      <td>81.94550</td>\n",
       "      <td>2.2156</td>\n",
       "    </tr>\n",
       "  </tbody>\n",
       "</table>\n",
       "</div>"
      ],
      "text/plain": [
       "   Year  Smoothed SST (F)  Smoothed Power Dissipation Index (10^11 m^3/s^2)\n",
       "0  1951          82.10660                                            2.6784\n",
       "1  1952          82.21388                                            2.2490\n",
       "2  1953          82.15412                                            2.1383\n",
       "3  1954          82.01354                                            2.3011\n",
       "4  1955          81.94550                                            2.2156"
      ]
     },
     "execution_count": 107,
     "metadata": {},
     "output_type": "execute_result"
    }
   ],
   "source": [
    "pdi_df = pd.read_csv('epa_north_atlantic_tropical_cyclone_power_dissipation_index.csv')\n",
    "pdi_df.head()"
   ]
  },
  {
   "cell_type": "code",
   "execution_count": 108,
   "metadata": {},
   "outputs": [
    {
     "data": {
      "text/html": [
       "<div>\n",
       "<style scoped>\n",
       "    .dataframe tbody tr th:only-of-type {\n",
       "        vertical-align: middle;\n",
       "    }\n",
       "\n",
       "    .dataframe tbody tr th {\n",
       "        vertical-align: top;\n",
       "    }\n",
       "\n",
       "    .dataframe thead th {\n",
       "        text-align: right;\n",
       "    }\n",
       "</style>\n",
       "<table border=\"1\" class=\"dataframe\">\n",
       "  <thead>\n",
       "    <tr style=\"text-align: right;\">\n",
       "      <th></th>\n",
       "      <th>Year</th>\n",
       "      <th>Total hurricanes (adjusted)</th>\n",
       "      <th>Total hurricanes (unadjusted)</th>\n",
       "      <th>Hurricanes reaching the United States</th>\n",
       "      <th>Adjusted ACE Index (as % of 1981-2010 median)</th>\n",
       "      <th>Smoothed SST (F)</th>\n",
       "      <th>Smoothed Power Dissipation Index (10^11 m^3/s^2)</th>\n",
       "    </tr>\n",
       "  </thead>\n",
       "  <tbody>\n",
       "    <tr>\n",
       "      <th>0</th>\n",
       "      <td>1951</td>\n",
       "      <td>8.34138</td>\n",
       "      <td>7.6</td>\n",
       "      <td>2.0</td>\n",
       "      <td>136.216216</td>\n",
       "      <td>82.10660</td>\n",
       "      <td>2.6784</td>\n",
       "    </tr>\n",
       "    <tr>\n",
       "      <th>1</th>\n",
       "      <td>1952</td>\n",
       "      <td>8.30516</td>\n",
       "      <td>7.6</td>\n",
       "      <td>2.0</td>\n",
       "      <td>74.594595</td>\n",
       "      <td>82.21388</td>\n",
       "      <td>2.2490</td>\n",
       "    </tr>\n",
       "    <tr>\n",
       "      <th>2</th>\n",
       "      <td>1953</td>\n",
       "      <td>7.86162</td>\n",
       "      <td>7.2</td>\n",
       "      <td>1.8</td>\n",
       "      <td>107.027027</td>\n",
       "      <td>82.15412</td>\n",
       "      <td>2.1383</td>\n",
       "    </tr>\n",
       "    <tr>\n",
       "      <th>3</th>\n",
       "      <td>1954</td>\n",
       "      <td>7.03774</td>\n",
       "      <td>6.4</td>\n",
       "      <td>2.0</td>\n",
       "      <td>120.000000</td>\n",
       "      <td>82.01354</td>\n",
       "      <td>2.3011</td>\n",
       "    </tr>\n",
       "    <tr>\n",
       "      <th>4</th>\n",
       "      <td>1955</td>\n",
       "      <td>6.60828</td>\n",
       "      <td>6.0</td>\n",
       "      <td>2.0</td>\n",
       "      <td>170.810811</td>\n",
       "      <td>81.94550</td>\n",
       "      <td>2.2156</td>\n",
       "    </tr>\n",
       "  </tbody>\n",
       "</table>\n",
       "</div>"
      ],
      "text/plain": [
       "   Year  Total hurricanes (adjusted)  Total hurricanes (unadjusted)   \n",
       "0  1951                      8.34138                            7.6  \\\n",
       "1  1952                      8.30516                            7.6   \n",
       "2  1953                      7.86162                            7.2   \n",
       "3  1954                      7.03774                            6.4   \n",
       "4  1955                      6.60828                            6.0   \n",
       "\n",
       "   Hurricanes reaching the United States   \n",
       "0                                    2.0  \\\n",
       "1                                    2.0   \n",
       "2                                    1.8   \n",
       "3                                    2.0   \n",
       "4                                    2.0   \n",
       "\n",
       "   Adjusted ACE Index (as % of 1981-2010 median)  Smoothed SST (F)   \n",
       "0                                     136.216216          82.10660  \\\n",
       "1                                      74.594595          82.21388   \n",
       "2                                     107.027027          82.15412   \n",
       "3                                     120.000000          82.01354   \n",
       "4                                     170.810811          81.94550   \n",
       "\n",
       "   Smoothed Power Dissipation Index (10^11 m^3/s^2)  \n",
       "0                                            2.6784  \n",
       "1                                            2.2490  \n",
       "2                                            2.1383  \n",
       "3                                            2.3011  \n",
       "4                                            2.2156  "
      ]
     },
     "execution_count": 108,
     "metadata": {},
     "output_type": "execute_result"
    }
   ],
   "source": [
    "merged_df = hurricanes_df.merge(ace_df, on='Year', how='inner').merge(pdi_df, on='Year', how='inner')\n",
    "merged_df.head()"
   ]
  },
  {
   "cell_type": "code",
   "execution_count": 109,
   "metadata": {},
   "outputs": [
    {
     "data": {
      "text/html": [
       "<div>\n",
       "<style scoped>\n",
       "    .dataframe tbody tr th:only-of-type {\n",
       "        vertical-align: middle;\n",
       "    }\n",
       "\n",
       "    .dataframe tbody tr th {\n",
       "        vertical-align: top;\n",
       "    }\n",
       "\n",
       "    .dataframe thead th {\n",
       "        text-align: right;\n",
       "    }\n",
       "</style>\n",
       "<table border=\"1\" class=\"dataframe\">\n",
       "  <thead>\n",
       "    <tr style=\"text-align: right;\">\n",
       "      <th></th>\n",
       "      <th>Year</th>\n",
       "      <th>Total hurricanes (adjusted)</th>\n",
       "      <th>Total hurricanes (unadjusted)</th>\n",
       "      <th>Hurricanes reaching the United States</th>\n",
       "      <th>Adjusted ACE Index (as % of 1981-2010 median)</th>\n",
       "      <th>Smoothed SST (F)</th>\n",
       "      <th>Smoothed Power Dissipation Index (10^11 m^3/s^2)</th>\n",
       "      <th>Total hurricanes (unadjusted, 5Y Moving Average)</th>\n",
       "    </tr>\n",
       "  </thead>\n",
       "  <tbody>\n",
       "    <tr>\n",
       "      <th>0</th>\n",
       "      <td>1951</td>\n",
       "      <td>8.34138</td>\n",
       "      <td>7.6</td>\n",
       "      <td>2.0</td>\n",
       "      <td>136.216216</td>\n",
       "      <td>82.10660</td>\n",
       "      <td>2.6784</td>\n",
       "      <td>NaN</td>\n",
       "    </tr>\n",
       "    <tr>\n",
       "      <th>1</th>\n",
       "      <td>1952</td>\n",
       "      <td>8.30516</td>\n",
       "      <td>7.6</td>\n",
       "      <td>2.0</td>\n",
       "      <td>74.594595</td>\n",
       "      <td>82.21388</td>\n",
       "      <td>2.2490</td>\n",
       "      <td>NaN</td>\n",
       "    </tr>\n",
       "    <tr>\n",
       "      <th>2</th>\n",
       "      <td>1953</td>\n",
       "      <td>7.86162</td>\n",
       "      <td>7.2</td>\n",
       "      <td>1.8</td>\n",
       "      <td>107.027027</td>\n",
       "      <td>82.15412</td>\n",
       "      <td>2.1383</td>\n",
       "      <td>NaN</td>\n",
       "    </tr>\n",
       "    <tr>\n",
       "      <th>3</th>\n",
       "      <td>1954</td>\n",
       "      <td>7.03774</td>\n",
       "      <td>6.4</td>\n",
       "      <td>2.0</td>\n",
       "      <td>120.000000</td>\n",
       "      <td>82.01354</td>\n",
       "      <td>2.3011</td>\n",
       "      <td>NaN</td>\n",
       "    </tr>\n",
       "    <tr>\n",
       "      <th>4</th>\n",
       "      <td>1955</td>\n",
       "      <td>6.60828</td>\n",
       "      <td>6.0</td>\n",
       "      <td>2.0</td>\n",
       "      <td>170.810811</td>\n",
       "      <td>81.94550</td>\n",
       "      <td>2.2156</td>\n",
       "      <td>6.96</td>\n",
       "    </tr>\n",
       "  </tbody>\n",
       "</table>\n",
       "</div>"
      ],
      "text/plain": [
       "   Year  Total hurricanes (adjusted)  Total hurricanes (unadjusted)   \n",
       "0  1951                      8.34138                            7.6  \\\n",
       "1  1952                      8.30516                            7.6   \n",
       "2  1953                      7.86162                            7.2   \n",
       "3  1954                      7.03774                            6.4   \n",
       "4  1955                      6.60828                            6.0   \n",
       "\n",
       "   Hurricanes reaching the United States   \n",
       "0                                    2.0  \\\n",
       "1                                    2.0   \n",
       "2                                    1.8   \n",
       "3                                    2.0   \n",
       "4                                    2.0   \n",
       "\n",
       "   Adjusted ACE Index (as % of 1981-2010 median)  Smoothed SST (F)   \n",
       "0                                     136.216216          82.10660  \\\n",
       "1                                      74.594595          82.21388   \n",
       "2                                     107.027027          82.15412   \n",
       "3                                     120.000000          82.01354   \n",
       "4                                     170.810811          81.94550   \n",
       "\n",
       "   Smoothed Power Dissipation Index (10^11 m^3/s^2)   \n",
       "0                                            2.6784  \\\n",
       "1                                            2.2490   \n",
       "2                                            2.1383   \n",
       "3                                            2.3011   \n",
       "4                                            2.2156   \n",
       "\n",
       "   Total hurricanes (unadjusted, 5Y Moving Average)  \n",
       "0                                               NaN  \n",
       "1                                               NaN  \n",
       "2                                               NaN  \n",
       "3                                               NaN  \n",
       "4                                              6.96  "
      ]
     },
     "execution_count": 109,
     "metadata": {},
     "output_type": "execute_result"
    }
   ],
   "source": [
    "merged_df['Total hurricanes (unadjusted, 5Y Moving Average)'] = merged_df['Total hurricanes (unadjusted)'].rolling(window=5).mean()\n",
    "merged_df.head()"
   ]
  },
  {
   "cell_type": "code",
   "execution_count": 110,
   "metadata": {},
   "outputs": [
    {
     "data": {
      "text/html": [
       "<div>\n",
       "<style scoped>\n",
       "    .dataframe tbody tr th:only-of-type {\n",
       "        vertical-align: middle;\n",
       "    }\n",
       "\n",
       "    .dataframe tbody tr th {\n",
       "        vertical-align: top;\n",
       "    }\n",
       "\n",
       "    .dataframe thead th {\n",
       "        text-align: right;\n",
       "    }\n",
       "</style>\n",
       "<table border=\"1\" class=\"dataframe\">\n",
       "  <thead>\n",
       "    <tr style=\"text-align: right;\">\n",
       "      <th></th>\n",
       "      <th>Year</th>\n",
       "      <th>Anomaly</th>\n",
       "    </tr>\n",
       "  </thead>\n",
       "  <tbody>\n",
       "    <tr>\n",
       "      <th>0</th>\n",
       "      <td>1851</td>\n",
       "      <td>-0.11</td>\n",
       "    </tr>\n",
       "    <tr>\n",
       "      <th>1</th>\n",
       "      <td>1852</td>\n",
       "      <td>-0.08</td>\n",
       "    </tr>\n",
       "    <tr>\n",
       "      <th>2</th>\n",
       "      <td>1853</td>\n",
       "      <td>-0.07</td>\n",
       "    </tr>\n",
       "    <tr>\n",
       "      <th>3</th>\n",
       "      <td>1854</td>\n",
       "      <td>-0.13</td>\n",
       "    </tr>\n",
       "    <tr>\n",
       "      <th>4</th>\n",
       "      <td>1855</td>\n",
       "      <td>-0.09</td>\n",
       "    </tr>\n",
       "  </tbody>\n",
       "</table>\n",
       "</div>"
      ],
      "text/plain": [
       "   Year  Anomaly\n",
       "0  1851    -0.11\n",
       "1  1852    -0.08\n",
       "2  1853    -0.07\n",
       "3  1854    -0.13\n",
       "4  1855    -0.09"
      ]
     },
     "execution_count": 110,
     "metadata": {},
     "output_type": "execute_result"
    }
   ],
   "source": [
    "temp_df = pd.read_csv('temp_land_ocean_data_cleaned.csv')\n",
    "temp_df.head()"
   ]
  },
  {
   "cell_type": "code",
   "execution_count": 121,
   "metadata": {},
   "outputs": [
    {
     "data": {
      "text/html": [
       "<div>\n",
       "<style scoped>\n",
       "    .dataframe tbody tr th:only-of-type {\n",
       "        vertical-align: middle;\n",
       "    }\n",
       "\n",
       "    .dataframe tbody tr th {\n",
       "        vertical-align: top;\n",
       "    }\n",
       "\n",
       "    .dataframe thead th {\n",
       "        text-align: right;\n",
       "    }\n",
       "</style>\n",
       "<table border=\"1\" class=\"dataframe\">\n",
       "  <thead>\n",
       "    <tr style=\"text-align: right;\">\n",
       "      <th></th>\n",
       "      <th>Year</th>\n",
       "      <th>Anomaly</th>\n",
       "      <th>CumAnomaly</th>\n",
       "    </tr>\n",
       "  </thead>\n",
       "  <tbody>\n",
       "    <tr>\n",
       "      <th>0</th>\n",
       "      <td>1851</td>\n",
       "      <td>-0.11</td>\n",
       "      <td>-0.11</td>\n",
       "    </tr>\n",
       "    <tr>\n",
       "      <th>1</th>\n",
       "      <td>1852</td>\n",
       "      <td>-0.08</td>\n",
       "      <td>-0.19</td>\n",
       "    </tr>\n",
       "    <tr>\n",
       "      <th>2</th>\n",
       "      <td>1853</td>\n",
       "      <td>-0.07</td>\n",
       "      <td>-0.26</td>\n",
       "    </tr>\n",
       "    <tr>\n",
       "      <th>3</th>\n",
       "      <td>1854</td>\n",
       "      <td>-0.13</td>\n",
       "      <td>-0.39</td>\n",
       "    </tr>\n",
       "    <tr>\n",
       "      <th>4</th>\n",
       "      <td>1855</td>\n",
       "      <td>-0.09</td>\n",
       "      <td>-0.48</td>\n",
       "    </tr>\n",
       "  </tbody>\n",
       "</table>\n",
       "</div>"
      ],
      "text/plain": [
       "   Year  Anomaly  CumAnomaly\n",
       "0  1851    -0.11       -0.11\n",
       "1  1852    -0.08       -0.19\n",
       "2  1853    -0.07       -0.26\n",
       "3  1854    -0.13       -0.39\n",
       "4  1855    -0.09       -0.48"
      ]
     },
     "execution_count": 121,
     "metadata": {},
     "output_type": "execute_result"
    }
   ],
   "source": [
    "temp_df['CumAnomaly'] = temp_df['Anomaly'].cumsum()\n",
    "temp_df.head()"
   ]
  },
  {
   "cell_type": "code",
   "execution_count": 112,
   "metadata": {},
   "outputs": [
    {
     "data": {
      "text/html": [
       "<div>\n",
       "<style scoped>\n",
       "    .dataframe tbody tr th:only-of-type {\n",
       "        vertical-align: middle;\n",
       "    }\n",
       "\n",
       "    .dataframe tbody tr th {\n",
       "        vertical-align: top;\n",
       "    }\n",
       "\n",
       "    .dataframe thead th {\n",
       "        text-align: right;\n",
       "    }\n",
       "</style>\n",
       "<table border=\"1\" class=\"dataframe\">\n",
       "  <thead>\n",
       "    <tr style=\"text-align: right;\">\n",
       "      <th></th>\n",
       "      <th>Year</th>\n",
       "      <th>Total hurricanes (adjusted)</th>\n",
       "      <th>Total hurricanes (unadjusted)</th>\n",
       "      <th>Hurricanes reaching the United States</th>\n",
       "      <th>Adjusted ACE Index (as % of 1981-2010 median)</th>\n",
       "      <th>Smoothed SST (F)</th>\n",
       "      <th>Smoothed Power Dissipation Index (10^11 m^3/s^2)</th>\n",
       "      <th>Total hurricanes (unadjusted, 5Y Moving Average)</th>\n",
       "      <th>Anomaly</th>\n",
       "      <th>CumAnomaly</th>\n",
       "    </tr>\n",
       "  </thead>\n",
       "  <tbody>\n",
       "    <tr>\n",
       "      <th>0</th>\n",
       "      <td>1951</td>\n",
       "      <td>8.34138</td>\n",
       "      <td>7.6</td>\n",
       "      <td>2.0</td>\n",
       "      <td>136.216216</td>\n",
       "      <td>82.10660</td>\n",
       "      <td>2.6784</td>\n",
       "      <td>NaN</td>\n",
       "      <td>-0.10</td>\n",
       "      <td>-16.68</td>\n",
       "    </tr>\n",
       "    <tr>\n",
       "      <th>1</th>\n",
       "      <td>1952</td>\n",
       "      <td>8.30516</td>\n",
       "      <td>7.6</td>\n",
       "      <td>2.0</td>\n",
       "      <td>74.594595</td>\n",
       "      <td>82.21388</td>\n",
       "      <td>2.2490</td>\n",
       "      <td>NaN</td>\n",
       "      <td>0.09</td>\n",
       "      <td>-16.59</td>\n",
       "    </tr>\n",
       "    <tr>\n",
       "      <th>2</th>\n",
       "      <td>1953</td>\n",
       "      <td>7.86162</td>\n",
       "      <td>7.2</td>\n",
       "      <td>1.8</td>\n",
       "      <td>107.027027</td>\n",
       "      <td>82.15412</td>\n",
       "      <td>2.1383</td>\n",
       "      <td>NaN</td>\n",
       "      <td>0.11</td>\n",
       "      <td>-16.48</td>\n",
       "    </tr>\n",
       "    <tr>\n",
       "      <th>3</th>\n",
       "      <td>1954</td>\n",
       "      <td>7.03774</td>\n",
       "      <td>6.4</td>\n",
       "      <td>2.0</td>\n",
       "      <td>120.000000</td>\n",
       "      <td>82.01354</td>\n",
       "      <td>2.3011</td>\n",
       "      <td>NaN</td>\n",
       "      <td>-0.04</td>\n",
       "      <td>-16.52</td>\n",
       "    </tr>\n",
       "    <tr>\n",
       "      <th>4</th>\n",
       "      <td>1955</td>\n",
       "      <td>6.60828</td>\n",
       "      <td>6.0</td>\n",
       "      <td>2.0</td>\n",
       "      <td>170.810811</td>\n",
       "      <td>81.94550</td>\n",
       "      <td>2.2156</td>\n",
       "      <td>6.96</td>\n",
       "      <td>-0.08</td>\n",
       "      <td>-16.60</td>\n",
       "    </tr>\n",
       "  </tbody>\n",
       "</table>\n",
       "</div>"
      ],
      "text/plain": [
       "   Year  Total hurricanes (adjusted)  Total hurricanes (unadjusted)   \n",
       "0  1951                      8.34138                            7.6  \\\n",
       "1  1952                      8.30516                            7.6   \n",
       "2  1953                      7.86162                            7.2   \n",
       "3  1954                      7.03774                            6.4   \n",
       "4  1955                      6.60828                            6.0   \n",
       "\n",
       "   Hurricanes reaching the United States   \n",
       "0                                    2.0  \\\n",
       "1                                    2.0   \n",
       "2                                    1.8   \n",
       "3                                    2.0   \n",
       "4                                    2.0   \n",
       "\n",
       "   Adjusted ACE Index (as % of 1981-2010 median)  Smoothed SST (F)   \n",
       "0                                     136.216216          82.10660  \\\n",
       "1                                      74.594595          82.21388   \n",
       "2                                     107.027027          82.15412   \n",
       "3                                     120.000000          82.01354   \n",
       "4                                     170.810811          81.94550   \n",
       "\n",
       "   Smoothed Power Dissipation Index (10^11 m^3/s^2)   \n",
       "0                                            2.6784  \\\n",
       "1                                            2.2490   \n",
       "2                                            2.1383   \n",
       "3                                            2.3011   \n",
       "4                                            2.2156   \n",
       "\n",
       "   Total hurricanes (unadjusted, 5Y Moving Average)  Anomaly  CumAnomaly  \n",
       "0                                               NaN    -0.10      -16.68  \n",
       "1                                               NaN     0.09      -16.59  \n",
       "2                                               NaN     0.11      -16.48  \n",
       "3                                               NaN    -0.04      -16.52  \n",
       "4                                              6.96    -0.08      -16.60  "
      ]
     },
     "execution_count": 112,
     "metadata": {},
     "output_type": "execute_result"
    }
   ],
   "source": [
    "merged_df = merged_df.merge(temp_df, on='Year', how='inner')\n",
    "merged_df.head()"
   ]
  },
  {
   "cell_type": "markdown",
   "metadata": {},
   "source": [
    "# Exploratory Data Analysis"
   ]
  },
  {
   "cell_type": "markdown",
   "metadata": {},
   "source": [
    "## Global Land and Sea Temperature Anomalies\n",
    "\n",
    "Global Land and Sea Temperature Anomalies, with respect to the 1901-2000 average, shows a rise in temperature and intensity."
   ]
  },
  {
   "cell_type": "code",
   "execution_count": 196,
   "metadata": {},
   "outputs": [
    {
     "name": "stderr",
     "output_type": "stream",
     "text": [
      "/usr/local/lib/python3.11/site-packages/plotly/graph_objs/_deprecations.py:378: DeprecationWarning:\n",
      "\n",
      "plotly.graph_objs.Line is deprecated.\n",
      "Please replace it with one of the following more specific types\n",
      "  - plotly.graph_objs.scatter.Line\n",
      "  - plotly.graph_objs.layout.shape.Line\n",
      "  - etc.\n",
      "\n",
      "\n"
     ]
    },
    {
     "data": {
      "application/vnd.plotly.v1+json": {
       "config": {
        "plotlyServerURL": "https://plot.ly"
       },
       "data": [
        {
         "customdata": [
          -0.198,
          -0.14400000000000002,
          -0.12600000000000003,
          -0.234,
          -0.162,
          -0.27,
          -0.558,
          -0.36000000000000004,
          -0.198,
          -0.25200000000000006,
          -0.5040000000000001,
          -0.5040000000000001,
          -0.324,
          -0.324,
          -0.28800000000000003,
          -0.18000000000000002,
          -0.30600000000000005,
          -0.27,
          -0.216,
          -0.216,
          -0.342,
          -0.342,
          -0.36000000000000004,
          -0.36000000000000004,
          -0.342,
          -0.41400000000000003,
          -0.12600000000000003,
          0.216,
          -0.12600000000000003,
          -0.30600000000000005,
          -0.234,
          -0.216,
          -0.378,
          -0.5040000000000001,
          -0.648,
          -0.432,
          -0.54,
          -0.41400000000000003,
          -0.054,
          -0.45,
          -0.41400000000000003,
          -0.36000000000000004,
          -0.5940000000000001,
          -0.45,
          -0.432,
          -0.162,
          -0.054,
          -0.342,
          -0.396,
          -0.18000000000000002,
          -0.108,
          -0.41400000000000003,
          -0.468,
          -0.8280000000000001,
          -0.5760000000000001,
          -0.324,
          -0.558,
          -0.666,
          -0.81,
          -0.666,
          -0.882,
          -0.468,
          -0.7200000000000001,
          -0.342,
          -0.12600000000000003,
          -0.41400000000000003,
          -0.8280000000000001,
          -0.63,
          -0.342,
          -0.468,
          -0.396,
          -0.396,
          -0.5040000000000001,
          -0.30600000000000005,
          -0.5040000000000001,
          -0.108,
          -0.342,
          -0.27,
          -0.5040000000000001,
          -0.342,
          -0.09000000000000001,
          -0.14400000000000002,
          -0.396,
          -0.342,
          -0.216,
          -0.27,
          -0.054,
          0.07200000000000001,
          -0.036000000000000004,
          0.234,
          0.378,
          0.27,
          0.09000000000000001,
          0.41400000000000003,
          0.324,
          0.054,
          -0.054,
          -0.07200000000000001,
          -0.12600000000000003,
          -0.18000000000000002,
          -0.18000000000000002,
          0.162,
          0.198,
          -0.07200000000000001,
          -0.14400000000000002,
          -0.30600000000000005,
          -0.07200000000000001,
          0.216,
          0.14400000000000002,
          0,
          0.18000000000000002,
          0.054,
          0.09000000000000001,
          -0.054,
          -0.234,
          -0.036000000000000004,
          0,
          -0.07200000000000001,
          0.036000000000000004,
          0.216,
          -0.07200000000000001,
          -0.036000000000000004,
          0.378,
          -0.018000000000000002,
          0.036000000000000004,
          -0.108,
          0.27,
          0.234,
          0.27,
          0.5940000000000001,
          0.5760000000000001,
          0.378,
          0.5760000000000001,
          0.45,
          0.28800000000000003,
          0.396,
          0.468,
          0.774,
          0.522,
          0.774,
          0.774,
          0.5760000000000001,
          0.432,
          0.45,
          0.846,
          0.7020000000000001,
          0.7200000000000001,
          1.2240000000000002,
          0.792,
          0.81,
          0.846,
          1.1340000000000001,
          1.08,
          1.044,
          1.1700000000000002,
          1.2060000000000002,
          1.26,
          0.9540000000000001,
          1.1340000000000001,
          1.368,
          1.1520000000000001,
          1.1340000000000001,
          1.2240000000000002,
          1.35,
          1.494,
          1.9440000000000002,
          1.71,
          1.548,
          1.692,
          1.872,
          1.566,
          1.6740000000000002,
          1.8
         ],
         "hovertemplate": "%{y:.2f} <span>&#x2103; (%{customdata:.2f} <span>&#8457;</span>)<extra></extra>",
         "marker": {
          "color": [
           "#2b8cbe",
           "#2b8cbe",
           "#2b8cbe",
           "#2b8cbe",
           "#2b8cbe",
           "#2b8cbe",
           "#2b8cbe",
           "#2b8cbe",
           "#2b8cbe",
           "#2b8cbe",
           "#2b8cbe",
           "#2b8cbe",
           "#2b8cbe",
           "#2b8cbe",
           "#2b8cbe",
           "#2b8cbe",
           "#2b8cbe",
           "#2b8cbe",
           "#2b8cbe",
           "#2b8cbe",
           "#2b8cbe",
           "#2b8cbe",
           "#2b8cbe",
           "#2b8cbe",
           "#2b8cbe",
           "#2b8cbe",
           "#2b8cbe",
           "#de2d26",
           "#2b8cbe",
           "#2b8cbe",
           "#2b8cbe",
           "#2b8cbe",
           "#2b8cbe",
           "#2b8cbe",
           "#2b8cbe",
           "#2b8cbe",
           "#2b8cbe",
           "#2b8cbe",
           "#2b8cbe",
           "#2b8cbe",
           "#2b8cbe",
           "#2b8cbe",
           "#2b8cbe",
           "#2b8cbe",
           "#2b8cbe",
           "#2b8cbe",
           "#2b8cbe",
           "#2b8cbe",
           "#2b8cbe",
           "#2b8cbe",
           "#2b8cbe",
           "#2b8cbe",
           "#2b8cbe",
           "#2b8cbe",
           "#2b8cbe",
           "#2b8cbe",
           "#2b8cbe",
           "#2b8cbe",
           "#2b8cbe",
           "#2b8cbe",
           "#2b8cbe",
           "#2b8cbe",
           "#2b8cbe",
           "#2b8cbe",
           "#2b8cbe",
           "#2b8cbe",
           "#2b8cbe",
           "#2b8cbe",
           "#2b8cbe",
           "#2b8cbe",
           "#2b8cbe",
           "#2b8cbe",
           "#2b8cbe",
           "#2b8cbe",
           "#2b8cbe",
           "#2b8cbe",
           "#2b8cbe",
           "#2b8cbe",
           "#2b8cbe",
           "#2b8cbe",
           "#2b8cbe",
           "#2b8cbe",
           "#2b8cbe",
           "#2b8cbe",
           "#2b8cbe",
           "#2b8cbe",
           "#2b8cbe",
           "#de2d26",
           "#2b8cbe",
           "#de2d26",
           "#de2d26",
           "#de2d26",
           "#de2d26",
           "#de2d26",
           "#de2d26",
           "#de2d26",
           "#2b8cbe",
           "#2b8cbe",
           "#2b8cbe",
           "#2b8cbe",
           "#2b8cbe",
           "#de2d26",
           "#de2d26",
           "#2b8cbe",
           "#2b8cbe",
           "#2b8cbe",
           "#2b8cbe",
           "#de2d26",
           "#de2d26",
           "#2b8cbe",
           "#de2d26",
           "#de2d26",
           "#de2d26",
           "#2b8cbe",
           "#2b8cbe",
           "#2b8cbe",
           "#2b8cbe",
           "#2b8cbe",
           "#de2d26",
           "#de2d26",
           "#2b8cbe",
           "#2b8cbe",
           "#de2d26",
           "#2b8cbe",
           "#de2d26",
           "#2b8cbe",
           "#de2d26",
           "#de2d26",
           "#de2d26",
           "#de2d26",
           "#de2d26",
           "#de2d26",
           "#de2d26",
           "#de2d26",
           "#de2d26",
           "#de2d26",
           "#de2d26",
           "#de2d26",
           "#de2d26",
           "#de2d26",
           "#de2d26",
           "#de2d26",
           "#de2d26",
           "#de2d26",
           "#de2d26",
           "#de2d26",
           "#de2d26",
           "#de2d26",
           "#de2d26",
           "#de2d26",
           "#de2d26",
           "#de2d26",
           "#de2d26",
           "#de2d26",
           "#de2d26",
           "#de2d26",
           "#de2d26",
           "#de2d26",
           "#de2d26",
           "#de2d26",
           "#de2d26",
           "#de2d26",
           "#de2d26",
           "#de2d26",
           "#de2d26",
           "#de2d26",
           "#de2d26",
           "#de2d26",
           "#de2d26",
           "#de2d26",
           "#de2d26",
           "#de2d26",
           "#de2d26"
          ]
         },
         "name": "Anomaly",
         "type": "bar",
         "x": [
          1851,
          1852,
          1853,
          1854,
          1855,
          1856,
          1857,
          1858,
          1859,
          1860,
          1861,
          1862,
          1863,
          1864,
          1865,
          1866,
          1867,
          1868,
          1869,
          1870,
          1871,
          1872,
          1873,
          1874,
          1875,
          1876,
          1877,
          1878,
          1879,
          1880,
          1881,
          1882,
          1883,
          1884,
          1885,
          1886,
          1887,
          1888,
          1889,
          1890,
          1891,
          1892,
          1893,
          1894,
          1895,
          1896,
          1897,
          1898,
          1899,
          1900,
          1901,
          1902,
          1903,
          1904,
          1905,
          1906,
          1907,
          1908,
          1909,
          1910,
          1911,
          1912,
          1913,
          1914,
          1915,
          1916,
          1917,
          1918,
          1919,
          1920,
          1921,
          1922,
          1923,
          1924,
          1925,
          1926,
          1927,
          1928,
          1929,
          1930,
          1931,
          1932,
          1933,
          1934,
          1935,
          1936,
          1937,
          1938,
          1939,
          1940,
          1941,
          1942,
          1943,
          1944,
          1945,
          1946,
          1947,
          1948,
          1949,
          1950,
          1951,
          1952,
          1953,
          1954,
          1955,
          1956,
          1957,
          1958,
          1959,
          1960,
          1961,
          1962,
          1963,
          1964,
          1965,
          1966,
          1967,
          1968,
          1969,
          1970,
          1971,
          1972,
          1973,
          1974,
          1975,
          1976,
          1977,
          1978,
          1979,
          1980,
          1981,
          1982,
          1983,
          1984,
          1985,
          1986,
          1987,
          1988,
          1989,
          1990,
          1991,
          1992,
          1993,
          1994,
          1995,
          1996,
          1997,
          1998,
          1999,
          2000,
          2001,
          2002,
          2003,
          2004,
          2005,
          2006,
          2007,
          2008,
          2009,
          2010,
          2011,
          2012,
          2013,
          2014,
          2015,
          2016,
          2017,
          2018,
          2019,
          2020,
          2021,
          2022,
          2023
         ],
         "y": [
          -0.11,
          -0.08,
          -0.07,
          -0.13,
          -0.09,
          -0.15,
          -0.31,
          -0.2,
          -0.11,
          -0.14,
          -0.28,
          -0.28,
          -0.18,
          -0.18,
          -0.16,
          -0.1,
          -0.17,
          -0.15,
          -0.12,
          -0.12,
          -0.19,
          -0.19,
          -0.2,
          -0.2,
          -0.19,
          -0.23,
          -0.07,
          0.12,
          -0.07,
          -0.17,
          -0.13,
          -0.12,
          -0.21,
          -0.28,
          -0.36,
          -0.24,
          -0.3,
          -0.23,
          -0.03,
          -0.25,
          -0.23,
          -0.2,
          -0.33,
          -0.25,
          -0.24,
          -0.09,
          -0.03,
          -0.19,
          -0.22,
          -0.1,
          -0.06,
          -0.23,
          -0.26,
          -0.46,
          -0.32,
          -0.18,
          -0.31,
          -0.37,
          -0.45,
          -0.37,
          -0.49,
          -0.26,
          -0.4,
          -0.19,
          -0.07,
          -0.23,
          -0.46,
          -0.35,
          -0.19,
          -0.26,
          -0.22,
          -0.22,
          -0.28,
          -0.17,
          -0.28,
          -0.06,
          -0.19,
          -0.15,
          -0.28,
          -0.19,
          -0.05,
          -0.08,
          -0.22,
          -0.19,
          -0.12,
          -0.15,
          -0.03,
          0.04,
          -0.02,
          0.13,
          0.21,
          0.15,
          0.05,
          0.23,
          0.18,
          0.03,
          -0.03,
          -0.04,
          -0.07,
          -0.1,
          -0.1,
          0.09,
          0.11,
          -0.04,
          -0.08,
          -0.17,
          -0.04,
          0.12,
          0.08,
          0,
          0.1,
          0.03,
          0.05,
          -0.03,
          -0.13,
          -0.02,
          0,
          -0.04,
          0.02,
          0.12,
          -0.04,
          -0.02,
          0.21,
          -0.01,
          0.02,
          -0.06,
          0.15,
          0.13,
          0.15,
          0.33,
          0.32,
          0.21,
          0.32,
          0.25,
          0.16,
          0.22,
          0.26,
          0.43,
          0.29,
          0.43,
          0.43,
          0.32,
          0.24,
          0.25,
          0.47,
          0.39,
          0.4,
          0.68,
          0.44,
          0.45,
          0.47,
          0.63,
          0.6,
          0.58,
          0.65,
          0.67,
          0.7,
          0.53,
          0.63,
          0.76,
          0.64,
          0.63,
          0.68,
          0.75,
          0.83,
          1.08,
          0.95,
          0.86,
          0.94,
          1.04,
          0.87,
          0.93,
          1
         ]
        },
        {
         "type": "bar",
         "visible": false,
         "x": [
          1851,
          1852,
          1853,
          1854,
          1855,
          1856,
          1857,
          1858,
          1859,
          1860,
          1861,
          1862,
          1863,
          1864,
          1865,
          1866,
          1867,
          1868,
          1869,
          1870,
          1871,
          1872,
          1873,
          1874,
          1875,
          1876,
          1877,
          1878,
          1879,
          1880,
          1881,
          1882,
          1883,
          1884,
          1885,
          1886,
          1887,
          1888,
          1889,
          1890,
          1891,
          1892,
          1893,
          1894,
          1895,
          1896,
          1897,
          1898,
          1899,
          1900,
          1901,
          1902,
          1903,
          1904,
          1905,
          1906,
          1907,
          1908,
          1909,
          1910,
          1911,
          1912,
          1913,
          1914,
          1915,
          1916,
          1917,
          1918,
          1919,
          1920,
          1921,
          1922,
          1923,
          1924,
          1925,
          1926,
          1927,
          1928,
          1929,
          1930,
          1931,
          1932,
          1933,
          1934,
          1935,
          1936,
          1937,
          1938,
          1939,
          1940,
          1941,
          1942,
          1943,
          1944,
          1945,
          1946,
          1947,
          1948,
          1949,
          1950,
          1951,
          1952,
          1953,
          1954,
          1955,
          1956,
          1957,
          1958,
          1959,
          1960,
          1961,
          1962,
          1963,
          1964,
          1965,
          1966,
          1967,
          1968,
          1969,
          1970,
          1971,
          1972,
          1973,
          1974,
          1975,
          1976,
          1977,
          1978,
          1979,
          1980,
          1981,
          1982,
          1983,
          1984,
          1985,
          1986,
          1987,
          1988,
          1989,
          1990,
          1991,
          1992,
          1993,
          1994,
          1995,
          1996,
          1997,
          1998,
          1999,
          2000,
          2001,
          2002,
          2003,
          2004,
          2005,
          2006,
          2007,
          2008,
          2009,
          2010,
          2011,
          2012,
          2013,
          2014,
          2015,
          2016,
          2017,
          2018,
          2019,
          2020,
          2021,
          2022,
          2023
         ],
         "xaxis": "x",
         "y": [
          -0.198,
          -0.14400000000000002,
          -0.12600000000000003,
          -0.234,
          -0.162,
          -0.27,
          -0.558,
          -0.36000000000000004,
          -0.198,
          -0.25200000000000006,
          -0.5040000000000001,
          -0.5040000000000001,
          -0.324,
          -0.324,
          -0.28800000000000003,
          -0.18000000000000002,
          -0.30600000000000005,
          -0.27,
          -0.216,
          -0.216,
          -0.342,
          -0.342,
          -0.36000000000000004,
          -0.36000000000000004,
          -0.342,
          -0.41400000000000003,
          -0.12600000000000003,
          0.216,
          -0.12600000000000003,
          -0.30600000000000005,
          -0.234,
          -0.216,
          -0.378,
          -0.5040000000000001,
          -0.648,
          -0.432,
          -0.54,
          -0.41400000000000003,
          -0.054,
          -0.45,
          -0.41400000000000003,
          -0.36000000000000004,
          -0.5940000000000001,
          -0.45,
          -0.432,
          -0.162,
          -0.054,
          -0.342,
          -0.396,
          -0.18000000000000002,
          -0.108,
          -0.41400000000000003,
          -0.468,
          -0.8280000000000001,
          -0.5760000000000001,
          -0.324,
          -0.558,
          -0.666,
          -0.81,
          -0.666,
          -0.882,
          -0.468,
          -0.7200000000000001,
          -0.342,
          -0.12600000000000003,
          -0.41400000000000003,
          -0.8280000000000001,
          -0.63,
          -0.342,
          -0.468,
          -0.396,
          -0.396,
          -0.5040000000000001,
          -0.30600000000000005,
          -0.5040000000000001,
          -0.108,
          -0.342,
          -0.27,
          -0.5040000000000001,
          -0.342,
          -0.09000000000000001,
          -0.14400000000000002,
          -0.396,
          -0.342,
          -0.216,
          -0.27,
          -0.054,
          0.07200000000000001,
          -0.036000000000000004,
          0.234,
          0.378,
          0.27,
          0.09000000000000001,
          0.41400000000000003,
          0.324,
          0.054,
          -0.054,
          -0.07200000000000001,
          -0.12600000000000003,
          -0.18000000000000002,
          -0.18000000000000002,
          0.162,
          0.198,
          -0.07200000000000001,
          -0.14400000000000002,
          -0.30600000000000005,
          -0.07200000000000001,
          0.216,
          0.14400000000000002,
          0,
          0.18000000000000002,
          0.054,
          0.09000000000000001,
          -0.054,
          -0.234,
          -0.036000000000000004,
          0,
          -0.07200000000000001,
          0.036000000000000004,
          0.216,
          -0.07200000000000001,
          -0.036000000000000004,
          0.378,
          -0.018000000000000002,
          0.036000000000000004,
          -0.108,
          0.27,
          0.234,
          0.27,
          0.5940000000000001,
          0.5760000000000001,
          0.378,
          0.5760000000000001,
          0.45,
          0.28800000000000003,
          0.396,
          0.468,
          0.774,
          0.522,
          0.774,
          0.774,
          0.5760000000000001,
          0.432,
          0.45,
          0.846,
          0.7020000000000001,
          0.7200000000000001,
          1.2240000000000002,
          0.792,
          0.81,
          0.846,
          1.1340000000000001,
          1.08,
          1.044,
          1.1700000000000002,
          1.2060000000000002,
          1.26,
          0.9540000000000001,
          1.1340000000000001,
          1.368,
          1.1520000000000001,
          1.1340000000000001,
          1.2240000000000002,
          1.35,
          1.494,
          1.9440000000000002,
          1.71,
          1.548,
          1.692,
          1.872,
          1.566,
          1.6740000000000002,
          1.8
         ],
         "yaxis": "y2"
        },
        {
         "line": {
          "color": "#31a354",
          "width": 2
         },
         "name": "LOWESS",
         "type": "scatter",
         "x": [
          1851,
          1852,
          1853,
          1854,
          1855,
          1856,
          1857,
          1858,
          1859,
          1860,
          1861,
          1862,
          1863,
          1864,
          1865,
          1866,
          1867,
          1868,
          1869,
          1870,
          1871,
          1872,
          1873,
          1874,
          1875,
          1876,
          1877,
          1878,
          1879,
          1880,
          1881,
          1882,
          1883,
          1884,
          1885,
          1886,
          1887,
          1888,
          1889,
          1890,
          1891,
          1892,
          1893,
          1894,
          1895,
          1896,
          1897,
          1898,
          1899,
          1900,
          1901,
          1902,
          1903,
          1904,
          1905,
          1906,
          1907,
          1908,
          1909,
          1910,
          1911,
          1912,
          1913,
          1914,
          1915,
          1916,
          1917,
          1918,
          1919,
          1920,
          1921,
          1922,
          1923,
          1924,
          1925,
          1926,
          1927,
          1928,
          1929,
          1930,
          1931,
          1932,
          1933,
          1934,
          1935,
          1936,
          1937,
          1938,
          1939,
          1940,
          1941,
          1942,
          1943,
          1944,
          1945,
          1946,
          1947,
          1948,
          1949,
          1950,
          1951,
          1952,
          1953,
          1954,
          1955,
          1956,
          1957,
          1958,
          1959,
          1960,
          1961,
          1962,
          1963,
          1964,
          1965,
          1966,
          1967,
          1968,
          1969,
          1970,
          1971,
          1972,
          1973,
          1974,
          1975,
          1976,
          1977,
          1978,
          1979,
          1980,
          1981,
          1982,
          1983,
          1984,
          1985,
          1986,
          1987,
          1988,
          1989,
          1990,
          1991,
          1992,
          1993,
          1994,
          1995,
          1996,
          1997,
          1998,
          1999,
          2000,
          2001,
          2002,
          2003,
          2004,
          2005,
          2006,
          2007,
          2008,
          2009,
          2010,
          2011,
          2012,
          2013,
          2014,
          2015,
          2016,
          2017,
          2018,
          2019,
          2020,
          2021,
          2022,
          2023
         ],
         "y": [
          -0.1654439658664724,
          -0.16629122079169517,
          -0.16712522270492766,
          -0.16794563782751498,
          -0.16875221414602953,
          -0.16954474847724482,
          -0.17032309533053738,
          -0.1710871045000402,
          -0.171836520418804,
          -0.17257103989418798,
          -0.1732903917488902,
          -0.17399431011833819,
          -0.17468243437680298,
          -0.1753543008496918,
          -0.17600940722526479,
          -0.17664723283049924,
          -0.1772672631477076,
          -0.1778690224567909,
          -0.17845204342193474,
          -0.17901587523160079,
          -0.17956010807411918,
          -0.18008436943891443,
          -0.18058828104464664,
          -0.18107144657049346,
          -0.18153344539225796,
          -0.1819738324992321,
          -0.18239213864227366,
          -0.18278786991013485,
          -0.1831606006814454,
          -0.18351000938418152,
          -0.1838358736449597,
          -0.18413802874100058,
          -0.18441639069083982,
          -0.1846709679606072,
          -0.1849018042509616,
          -0.18510891640242055,
          -0.18529226378197883,
          -0.18545178500925105,
          -0.18558738629455815,
          -0.18569901159068267,
          -0.18578677008227482,
          -0.18585084627176346,
          -0.18589149355390144,
          -0.18590904940377853,
          -0.18590385476181273,
          -0.1858762627043945,
          -0.18582666436533116,
          -0.18575561317252628,
          -0.18566381775845314,
          -0.1855518668651858,
          -0.18541992841004024,
          -0.18526749916261107,
          -0.18509287294553003,
          -0.18489215612836746,
          -0.18465829993246063,
          -0.18438059173045435,
          -0.18404596097126605,
          -0.18364468426560013,
          -0.18161987636341903,
          -0.17950481200081345,
          -0.17730647625847892,
          -0.1750305529736072,
          -0.17268167990893354,
          -0.17026236024284747,
          -0.16777287831298263,
          -0.1652145390326625,
          -0.16258876349696602,
          -0.15989415160926354,
          -0.15712838836265525,
          -0.15429017219248747,
          -0.15137962470582642,
          -0.14839627586369467,
          -0.14533911045707223,
          -0.14220603571308146,
          -0.13899206674539533,
          -0.13569045096767252,
          -0.13229387622629935,
          -0.12879404642695688,
          -0.1251825303639822,
          -0.12145230009611761,
          -0.11759725341284116,
          -0.11361159731347611,
          -0.10948906673947649,
          -0.10522390693372065,
          -0.10080989259329165,
          -0.0962397146936871,
          -0.09150729690715292,
          -0.08660807963556749,
          -0.0815386825990769,
          -0.07629461250128539,
          -0.0708706243712717,
          -0.06526158098656323,
          -0.05946261930650459,
          -0.053471461910610384,
          -0.04728809868209728,
          -0.04091474291051204,
          -0.034353850491163275,
          -0.027606990659945985,
          -0.020676180441026138,
          -0.013563662588539582,
          -0.0062717696188921345,
          0.0011953741847647204,
          0.008830646467445993,
          0.016625059737527505,
          0.024570016647146024,
          0.03265730649795624,
          0.04087833053803115,
          0.04922468123041116,
          0.057689995837983385,
          0.06627014388058085,
          0.07496123681945499,
          0.08376079032792556,
          0.09266681138486216,
          0.10167832781520313,
          0.11079662262618854,
          0.1200249661827117,
          0.13098220545197256,
          0.14215696284139262,
          0.15351169182107588,
          0.16500309088389792,
          0.17659370279331763,
          0.18825503555659395,
          0.19996717019356644,
          0.21171698335242864,
          0.2234961616886024,
          0.235299833921705,
          0.2471254495139863,
          0.25897192329234714,
          0.2708390659617679,
          0.2827272464156226,
          0.29463712687140003,
          0.3065693921758791,
          0.31852470759887747,
          0.330503774461378,
          0.34250727022530675,
          0.35453589785167755,
          0.36659043124736723,
          0.3786716949762523,
          0.3907805128241549,
          0.4029176259634177,
          0.41508376060987473,
          0.4272795754753668,
          0.4395056798718795,
          0.45176272695580383,
          0.46405145575522194,
          0.4763726664005248,
          0.4887271355509561,
          0.5011156553989903,
          0.5135390124276905,
          0.5259978782492323,
          0.5384929196304381,
          0.551024833764914,
          0.563594318595217,
          0.576201981601305,
          0.5888483531830435,
          0.6015339099395699,
          0.6142590420986175,
          0.6270240397365686,
          0.639829116225512,
          0.6526745192665936,
          0.6655604825770848,
          0.6784871552221129,
          0.6914546834021846,
          0.7044632460656354,
          0.7175130207441961,
          0.730604121606059,
          0.7437365509031643,
          0.7569101994492714,
          0.7701248093645378,
          0.7833799916931986,
          0.7966752070755838,
          0.8100097740891385,
          0.8233829162949058
         ]
        }
       ],
       "layout": {
        "template": {
         "data": {
          "bar": [
           {
            "error_x": {
             "color": "#2a3f5f"
            },
            "error_y": {
             "color": "#2a3f5f"
            },
            "marker": {
             "line": {
              "color": "#E5ECF6",
              "width": 0.5
             },
             "pattern": {
              "fillmode": "overlay",
              "size": 10,
              "solidity": 0.2
             }
            },
            "type": "bar"
           }
          ],
          "barpolar": [
           {
            "marker": {
             "line": {
              "color": "#E5ECF6",
              "width": 0.5
             },
             "pattern": {
              "fillmode": "overlay",
              "size": 10,
              "solidity": 0.2
             }
            },
            "type": "barpolar"
           }
          ],
          "carpet": [
           {
            "aaxis": {
             "endlinecolor": "#2a3f5f",
             "gridcolor": "white",
             "linecolor": "white",
             "minorgridcolor": "white",
             "startlinecolor": "#2a3f5f"
            },
            "baxis": {
             "endlinecolor": "#2a3f5f",
             "gridcolor": "white",
             "linecolor": "white",
             "minorgridcolor": "white",
             "startlinecolor": "#2a3f5f"
            },
            "type": "carpet"
           }
          ],
          "choropleth": [
           {
            "colorbar": {
             "outlinewidth": 0,
             "ticks": ""
            },
            "type": "choropleth"
           }
          ],
          "contour": [
           {
            "colorbar": {
             "outlinewidth": 0,
             "ticks": ""
            },
            "colorscale": [
             [
              0,
              "#0d0887"
             ],
             [
              0.1111111111111111,
              "#46039f"
             ],
             [
              0.2222222222222222,
              "#7201a8"
             ],
             [
              0.3333333333333333,
              "#9c179e"
             ],
             [
              0.4444444444444444,
              "#bd3786"
             ],
             [
              0.5555555555555556,
              "#d8576b"
             ],
             [
              0.6666666666666666,
              "#ed7953"
             ],
             [
              0.7777777777777778,
              "#fb9f3a"
             ],
             [
              0.8888888888888888,
              "#fdca26"
             ],
             [
              1,
              "#f0f921"
             ]
            ],
            "type": "contour"
           }
          ],
          "contourcarpet": [
           {
            "colorbar": {
             "outlinewidth": 0,
             "ticks": ""
            },
            "type": "contourcarpet"
           }
          ],
          "heatmap": [
           {
            "colorbar": {
             "outlinewidth": 0,
             "ticks": ""
            },
            "colorscale": [
             [
              0,
              "#0d0887"
             ],
             [
              0.1111111111111111,
              "#46039f"
             ],
             [
              0.2222222222222222,
              "#7201a8"
             ],
             [
              0.3333333333333333,
              "#9c179e"
             ],
             [
              0.4444444444444444,
              "#bd3786"
             ],
             [
              0.5555555555555556,
              "#d8576b"
             ],
             [
              0.6666666666666666,
              "#ed7953"
             ],
             [
              0.7777777777777778,
              "#fb9f3a"
             ],
             [
              0.8888888888888888,
              "#fdca26"
             ],
             [
              1,
              "#f0f921"
             ]
            ],
            "type": "heatmap"
           }
          ],
          "heatmapgl": [
           {
            "colorbar": {
             "outlinewidth": 0,
             "ticks": ""
            },
            "colorscale": [
             [
              0,
              "#0d0887"
             ],
             [
              0.1111111111111111,
              "#46039f"
             ],
             [
              0.2222222222222222,
              "#7201a8"
             ],
             [
              0.3333333333333333,
              "#9c179e"
             ],
             [
              0.4444444444444444,
              "#bd3786"
             ],
             [
              0.5555555555555556,
              "#d8576b"
             ],
             [
              0.6666666666666666,
              "#ed7953"
             ],
             [
              0.7777777777777778,
              "#fb9f3a"
             ],
             [
              0.8888888888888888,
              "#fdca26"
             ],
             [
              1,
              "#f0f921"
             ]
            ],
            "type": "heatmapgl"
           }
          ],
          "histogram": [
           {
            "marker": {
             "pattern": {
              "fillmode": "overlay",
              "size": 10,
              "solidity": 0.2
             }
            },
            "type": "histogram"
           }
          ],
          "histogram2d": [
           {
            "colorbar": {
             "outlinewidth": 0,
             "ticks": ""
            },
            "colorscale": [
             [
              0,
              "#0d0887"
             ],
             [
              0.1111111111111111,
              "#46039f"
             ],
             [
              0.2222222222222222,
              "#7201a8"
             ],
             [
              0.3333333333333333,
              "#9c179e"
             ],
             [
              0.4444444444444444,
              "#bd3786"
             ],
             [
              0.5555555555555556,
              "#d8576b"
             ],
             [
              0.6666666666666666,
              "#ed7953"
             ],
             [
              0.7777777777777778,
              "#fb9f3a"
             ],
             [
              0.8888888888888888,
              "#fdca26"
             ],
             [
              1,
              "#f0f921"
             ]
            ],
            "type": "histogram2d"
           }
          ],
          "histogram2dcontour": [
           {
            "colorbar": {
             "outlinewidth": 0,
             "ticks": ""
            },
            "colorscale": [
             [
              0,
              "#0d0887"
             ],
             [
              0.1111111111111111,
              "#46039f"
             ],
             [
              0.2222222222222222,
              "#7201a8"
             ],
             [
              0.3333333333333333,
              "#9c179e"
             ],
             [
              0.4444444444444444,
              "#bd3786"
             ],
             [
              0.5555555555555556,
              "#d8576b"
             ],
             [
              0.6666666666666666,
              "#ed7953"
             ],
             [
              0.7777777777777778,
              "#fb9f3a"
             ],
             [
              0.8888888888888888,
              "#fdca26"
             ],
             [
              1,
              "#f0f921"
             ]
            ],
            "type": "histogram2dcontour"
           }
          ],
          "mesh3d": [
           {
            "colorbar": {
             "outlinewidth": 0,
             "ticks": ""
            },
            "type": "mesh3d"
           }
          ],
          "parcoords": [
           {
            "line": {
             "colorbar": {
              "outlinewidth": 0,
              "ticks": ""
             }
            },
            "type": "parcoords"
           }
          ],
          "pie": [
           {
            "automargin": true,
            "type": "pie"
           }
          ],
          "scatter": [
           {
            "fillpattern": {
             "fillmode": "overlay",
             "size": 10,
             "solidity": 0.2
            },
            "type": "scatter"
           }
          ],
          "scatter3d": [
           {
            "line": {
             "colorbar": {
              "outlinewidth": 0,
              "ticks": ""
             }
            },
            "marker": {
             "colorbar": {
              "outlinewidth": 0,
              "ticks": ""
             }
            },
            "type": "scatter3d"
           }
          ],
          "scattercarpet": [
           {
            "marker": {
             "colorbar": {
              "outlinewidth": 0,
              "ticks": ""
             }
            },
            "type": "scattercarpet"
           }
          ],
          "scattergeo": [
           {
            "marker": {
             "colorbar": {
              "outlinewidth": 0,
              "ticks": ""
             }
            },
            "type": "scattergeo"
           }
          ],
          "scattergl": [
           {
            "marker": {
             "colorbar": {
              "outlinewidth": 0,
              "ticks": ""
             }
            },
            "type": "scattergl"
           }
          ],
          "scattermapbox": [
           {
            "marker": {
             "colorbar": {
              "outlinewidth": 0,
              "ticks": ""
             }
            },
            "type": "scattermapbox"
           }
          ],
          "scatterpolar": [
           {
            "marker": {
             "colorbar": {
              "outlinewidth": 0,
              "ticks": ""
             }
            },
            "type": "scatterpolar"
           }
          ],
          "scatterpolargl": [
           {
            "marker": {
             "colorbar": {
              "outlinewidth": 0,
              "ticks": ""
             }
            },
            "type": "scatterpolargl"
           }
          ],
          "scatterternary": [
           {
            "marker": {
             "colorbar": {
              "outlinewidth": 0,
              "ticks": ""
             }
            },
            "type": "scatterternary"
           }
          ],
          "surface": [
           {
            "colorbar": {
             "outlinewidth": 0,
             "ticks": ""
            },
            "colorscale": [
             [
              0,
              "#0d0887"
             ],
             [
              0.1111111111111111,
              "#46039f"
             ],
             [
              0.2222222222222222,
              "#7201a8"
             ],
             [
              0.3333333333333333,
              "#9c179e"
             ],
             [
              0.4444444444444444,
              "#bd3786"
             ],
             [
              0.5555555555555556,
              "#d8576b"
             ],
             [
              0.6666666666666666,
              "#ed7953"
             ],
             [
              0.7777777777777778,
              "#fb9f3a"
             ],
             [
              0.8888888888888888,
              "#fdca26"
             ],
             [
              1,
              "#f0f921"
             ]
            ],
            "type": "surface"
           }
          ],
          "table": [
           {
            "cells": {
             "fill": {
              "color": "#EBF0F8"
             },
             "line": {
              "color": "white"
             }
            },
            "header": {
             "fill": {
              "color": "#C8D4E3"
             },
             "line": {
              "color": "white"
             }
            },
            "type": "table"
           }
          ]
         },
         "layout": {
          "annotationdefaults": {
           "arrowcolor": "#2a3f5f",
           "arrowhead": 0,
           "arrowwidth": 1
          },
          "autotypenumbers": "strict",
          "coloraxis": {
           "colorbar": {
            "outlinewidth": 0,
            "ticks": ""
           }
          },
          "colorscale": {
           "diverging": [
            [
             0,
             "#8e0152"
            ],
            [
             0.1,
             "#c51b7d"
            ],
            [
             0.2,
             "#de77ae"
            ],
            [
             0.3,
             "#f1b6da"
            ],
            [
             0.4,
             "#fde0ef"
            ],
            [
             0.5,
             "#f7f7f7"
            ],
            [
             0.6,
             "#e6f5d0"
            ],
            [
             0.7,
             "#b8e186"
            ],
            [
             0.8,
             "#7fbc41"
            ],
            [
             0.9,
             "#4d9221"
            ],
            [
             1,
             "#276419"
            ]
           ],
           "sequential": [
            [
             0,
             "#0d0887"
            ],
            [
             0.1111111111111111,
             "#46039f"
            ],
            [
             0.2222222222222222,
             "#7201a8"
            ],
            [
             0.3333333333333333,
             "#9c179e"
            ],
            [
             0.4444444444444444,
             "#bd3786"
            ],
            [
             0.5555555555555556,
             "#d8576b"
            ],
            [
             0.6666666666666666,
             "#ed7953"
            ],
            [
             0.7777777777777778,
             "#fb9f3a"
            ],
            [
             0.8888888888888888,
             "#fdca26"
            ],
            [
             1,
             "#f0f921"
            ]
           ],
           "sequentialminus": [
            [
             0,
             "#0d0887"
            ],
            [
             0.1111111111111111,
             "#46039f"
            ],
            [
             0.2222222222222222,
             "#7201a8"
            ],
            [
             0.3333333333333333,
             "#9c179e"
            ],
            [
             0.4444444444444444,
             "#bd3786"
            ],
            [
             0.5555555555555556,
             "#d8576b"
            ],
            [
             0.6666666666666666,
             "#ed7953"
            ],
            [
             0.7777777777777778,
             "#fb9f3a"
            ],
            [
             0.8888888888888888,
             "#fdca26"
            ],
            [
             1,
             "#f0f921"
            ]
           ]
          },
          "colorway": [
           "#636efa",
           "#EF553B",
           "#00cc96",
           "#ab63fa",
           "#FFA15A",
           "#19d3f3",
           "#FF6692",
           "#B6E880",
           "#FF97FF",
           "#FECB52"
          ],
          "font": {
           "color": "#2a3f5f"
          },
          "geo": {
           "bgcolor": "white",
           "lakecolor": "white",
           "landcolor": "#E5ECF6",
           "showlakes": true,
           "showland": true,
           "subunitcolor": "white"
          },
          "hoverlabel": {
           "align": "left"
          },
          "hovermode": "closest",
          "mapbox": {
           "style": "light"
          },
          "paper_bgcolor": "white",
          "plot_bgcolor": "#E5ECF6",
          "polar": {
           "angularaxis": {
            "gridcolor": "white",
            "linecolor": "white",
            "ticks": ""
           },
           "bgcolor": "#E5ECF6",
           "radialaxis": {
            "gridcolor": "white",
            "linecolor": "white",
            "ticks": ""
           }
          },
          "scene": {
           "xaxis": {
            "backgroundcolor": "#E5ECF6",
            "gridcolor": "white",
            "gridwidth": 2,
            "linecolor": "white",
            "showbackground": true,
            "ticks": "",
            "zerolinecolor": "white"
           },
           "yaxis": {
            "backgroundcolor": "#E5ECF6",
            "gridcolor": "white",
            "gridwidth": 2,
            "linecolor": "white",
            "showbackground": true,
            "ticks": "",
            "zerolinecolor": "white"
           },
           "zaxis": {
            "backgroundcolor": "#E5ECF6",
            "gridcolor": "white",
            "gridwidth": 2,
            "linecolor": "white",
            "showbackground": true,
            "ticks": "",
            "zerolinecolor": "white"
           }
          },
          "shapedefaults": {
           "line": {
            "color": "#2a3f5f"
           }
          },
          "ternary": {
           "aaxis": {
            "gridcolor": "white",
            "linecolor": "white",
            "ticks": ""
           },
           "baxis": {
            "gridcolor": "white",
            "linecolor": "white",
            "ticks": ""
           },
           "bgcolor": "#E5ECF6",
           "caxis": {
            "gridcolor": "white",
            "linecolor": "white",
            "ticks": ""
           }
          },
          "title": {
           "x": 0.05
          },
          "xaxis": {
           "automargin": true,
           "gridcolor": "white",
           "linecolor": "white",
           "ticks": "",
           "title": {
            "standoff": 15
           },
           "zerolinecolor": "white",
           "zerolinewidth": 2
          },
          "yaxis": {
           "automargin": true,
           "gridcolor": "white",
           "linecolor": "white",
           "ticks": "",
           "title": {
            "standoff": 15
           },
           "zerolinecolor": "white",
           "zerolinewidth": 2
          }
         }
        },
        "title": {
         "text": "\n<b>Global Land and Sea Temperature Anomalies (September-August)</b>\n<br>Temperature and intensity of Anomalies has been increasing since the late\n<br>1970s (Not adjusted for improvements in observation methods)\n"
        },
        "xaxis": {
         "anchor": "y",
         "domain": [
          0,
          0.94
         ]
        },
        "yaxis": {
         "anchor": "x",
         "domain": [
          0,
          1
         ],
         "dtick": 0.2,
         "title": {
          "text": "<span>&#x2103;</span>"
         }
        },
        "yaxis2": {
         "anchor": "x",
         "dtick": 0.36,
         "overlaying": "y",
         "side": "right",
         "title": {
          "text": "<span>&#8457;</span>"
         }
        }
       }
      }
     },
     "metadata": {},
     "output_type": "display_data"
    }
   ],
   "source": [
    "import plotly.graph_objects as go\n",
    "from plotly.subplots import make_subplots\n",
    "\n",
    "temp_df['AnomalyFahrenheit'] = (temp_df['Anomaly'] * 1.8)\n",
    "\n",
    "fig = make_subplots(specs=[[{\"secondary_y\": True}]])\n",
    "fig.add_trace(go.Bar(x=temp_df['Year'], \n",
    "                      y=temp_df['Anomaly'],\n",
    "                      name='Anomaly',\n",
    "                      marker = dict(color = ['#de2d26' if x>0 else '#2b8cbe' for x in temp_df[\"Anomaly\"]]),\n",
    "                      customdata=temp_df['AnomalyFahrenheit'],\n",
    "                      hovertemplate = '%{y:.2f} <span>&#x2103; (%{customdata:.2f} <span>&#8457;</span>)<extra></extra>')\n",
    ")\n",
    "\n",
    "fig.add_trace(go.Bar(x=temp_df['Year'], \n",
    "                      y=temp_df['AnomalyFahrenheit'],\n",
    "                      visible=False\n",
    "                      ),\n",
    "                      secondary_y=True\n",
    ")\n",
    "\n",
    "fig.update_layout(title_text='''\n",
    "<b>Global Land and Sea Temperature Anomalies (September-August)</b>\n",
    "<br>Temperature and intensity of Anomalies has been increasing since the late\n",
    "<br>1970s (Not adjusted for improvements in observation methods)\n",
    "''')\n",
    "fig.update_yaxes(title_text=\"<span>&#x2103;</span>\", secondary_y=False, dtick=0.2)\n",
    "fig.update_yaxes(title_text=\"<span>&#8457;</span>\", secondary_y=True, dtick=0.36)\n",
    "\n",
    "help_fig = px.scatter(temp_df, x=\"Year\", y=\"Anomaly\", trendline=\"lowess\", trendline_color_override=\"#31a354\")\n",
    "x_trend = help_fig[\"data\"][1]['x']\n",
    "y_trend = help_fig[\"data\"][1]['y']\n",
    "\n",
    "fig.add_trace(go.Line(x=x_trend, y=y_trend, name='LOWESS', line=dict(color='#31a354', width=2)))\n",
    "\n",
    "\n",
    "fig.show()"
   ]
  },
  {
   "cell_type": "code",
   "execution_count": 158,
   "metadata": {},
   "outputs": [
    {
     "data": {
      "text/plain": [
       "31.118"
      ]
     },
     "execution_count": 158,
     "metadata": {},
     "output_type": "execute_result"
    }
   ],
   "source": [
    "temp_df['AnomalyFahrenheit'].min()"
   ]
  },
  {
   "cell_type": "markdown",
   "metadata": {},
   "source": [
    "## Rising Temperatues - how does it impact Cyclonic Storms?\n",
    "\n",
    "Given the rise in Sea and Land Templature anomalies, one might expect a corresponding rise in the frequency and intensity of Cyclonic Storms. Let's see if data will help us validate (or not) our assumption."
   ]
  },
  {
   "cell_type": "markdown",
   "metadata": {},
   "source": [
    "## Tropical Cyclone Activity\n",
    "\n",
    "This indicator examines the frequency of hurricanes and other tropical storms in the Atlantic Ocean, Caribbean, and Gulf of Mexico."
   ]
  },
  {
   "cell_type": "code",
   "execution_count": 114,
   "metadata": {},
   "outputs": [
    {
     "data": {
      "application/vnd.plotly.v1+json": {
       "config": {
        "plotlyServerURL": "https://plot.ly"
       },
       "data": [
        {
         "hovertemplate": "variable=Total hurricanes (unadjusted)<br>Year=%{x}<br>Number of Hurricanes=%{y}<extra></extra>",
         "legendgroup": "Total hurricanes (unadjusted)",
         "line": {
          "color": "#636efa",
          "dash": "solid"
         },
         "marker": {
          "symbol": "circle"
         },
         "mode": "lines",
         "name": "Total hurricanes (unadjusted)",
         "orientation": "v",
         "showlegend": true,
         "type": "scatter",
         "x": [
          1951,
          1952,
          1953,
          1954,
          1955,
          1956,
          1957,
          1958,
          1959,
          1960,
          1961,
          1962,
          1963,
          1964,
          1965,
          1966,
          1967,
          1968,
          1969,
          1970,
          1971,
          1972,
          1973,
          1974,
          1975,
          1976,
          1977,
          1978,
          1979,
          1980,
          1981,
          1982,
          1983,
          1984,
          1985,
          1986,
          1987,
          1988,
          1989,
          1990,
          1991,
          1992,
          1993,
          1994,
          1995,
          1996,
          1997,
          1998,
          1999,
          2000,
          2001,
          2002,
          2003,
          2004,
          2005,
          2006,
          2007,
          2008,
          2009,
          2010,
          2011,
          2012,
          2013,
          2014,
          2015,
          2016,
          2017,
          2018
         ],
         "xaxis": "x",
         "y": [
          7.6,
          7.6,
          7.2,
          6.4,
          6,
          6,
          6,
          5,
          5.8,
          5.8,
          5.8,
          5.6,
          5.6,
          5.4,
          6,
          5.4,
          6.6,
          6.8,
          6.6,
          6,
          6,
          4.4,
          4.6,
          4.6,
          5,
          5.2,
          5.4,
          6,
          6.2,
          5.6,
          5.2,
          5.2,
          4.8,
          4.2,
          4.4,
          4.8,
          5.2,
          5.4,
          5.4,
          5.6,
          5.4,
          4.6,
          5.2,
          6.2,
          6,
          7.2,
          8.2,
          7.6,
          7.6,
          7.8,
          7.2,
          7.4,
          8.8,
          8,
          8.4,
          8.6,
          7.4,
          6.8,
          7.2,
          8,
          6.8,
          7.4,
          5.8,
          5.8,
          5.8,
          7,
          7,
          8.8
         ],
         "yaxis": "y"
        },
        {
         "hovertemplate": "variable=Total hurricanes (unadjusted, 5Y Moving Average)<br>Year=%{x}<br>Number of Hurricanes=%{y}<extra></extra>",
         "legendgroup": "Total hurricanes (unadjusted, 5Y Moving Average)",
         "line": {
          "color": "#EF553B",
          "dash": "solid"
         },
         "marker": {
          "symbol": "circle"
         },
         "mode": "lines",
         "name": "Total hurricanes (unadjusted, 5Y Moving Average)",
         "orientation": "v",
         "showlegend": true,
         "type": "scatter",
         "x": [
          1951,
          1952,
          1953,
          1954,
          1955,
          1956,
          1957,
          1958,
          1959,
          1960,
          1961,
          1962,
          1963,
          1964,
          1965,
          1966,
          1967,
          1968,
          1969,
          1970,
          1971,
          1972,
          1973,
          1974,
          1975,
          1976,
          1977,
          1978,
          1979,
          1980,
          1981,
          1982,
          1983,
          1984,
          1985,
          1986,
          1987,
          1988,
          1989,
          1990,
          1991,
          1992,
          1993,
          1994,
          1995,
          1996,
          1997,
          1998,
          1999,
          2000,
          2001,
          2002,
          2003,
          2004,
          2005,
          2006,
          2007,
          2008,
          2009,
          2010,
          2011,
          2012,
          2013,
          2014,
          2015,
          2016,
          2017,
          2018
         ],
         "xaxis": "x",
         "y": [
          null,
          null,
          null,
          null,
          6.959999999999999,
          6.639999999999999,
          6.32,
          5.880000000000001,
          5.76,
          5.72,
          5.68,
          5.6,
          5.72,
          5.639999999999999,
          5.68,
          5.6,
          5.8,
          6.04,
          6.279999999999999,
          6.279999999999999,
          6.4,
          5.959999999999999,
          5.5200000000000005,
          5.119999999999999,
          4.92,
          4.76,
          4.96,
          5.24,
          5.5600000000000005,
          5.680000000000001,
          5.680000000000001,
          5.64,
          5.4,
          5,
          4.76,
          4.68,
          4.680000000000001,
          4.8,
          5.040000000000001,
          5.279999999999999,
          5.4,
          5.279999999999999,
          5.24,
          5.4,
          5.48,
          5.84,
          6.56,
          7.039999999999999,
          7.3199999999999985,
          7.68,
          7.68,
          7.5200000000000005,
          7.76,
          7.840000000000001,
          7.959999999999999,
          8.239999999999998,
          8.24,
          7.840000000000001,
          7.6800000000000015,
          7.6,
          7.239999999999999,
          7.24,
          7.040000000000001,
          6.76,
          6.32,
          6.359999999999999,
          6.279999999999999,
          6.88
         ],
         "yaxis": "y"
        },
        {
         "hovertemplate": "variable=Hurricanes reaching the United States<br>Year=%{x}<br>Number of Hurricanes=%{y}<extra></extra>",
         "legendgroup": "Hurricanes reaching the United States",
         "line": {
          "color": "#00cc96",
          "dash": "solid"
         },
         "marker": {
          "symbol": "circle"
         },
         "mode": "lines",
         "name": "Hurricanes reaching the United States",
         "orientation": "v",
         "showlegend": true,
         "type": "scatter",
         "x": [
          1951,
          1952,
          1953,
          1954,
          1955,
          1956,
          1957,
          1958,
          1959,
          1960,
          1961,
          1962,
          1963,
          1964,
          1965,
          1966,
          1967,
          1968,
          1969,
          1970,
          1971,
          1972,
          1973,
          1974,
          1975,
          1976,
          1977,
          1978,
          1979,
          1980,
          1981,
          1982,
          1983,
          1984,
          1985,
          1986,
          1987,
          1988,
          1989,
          1990,
          1991,
          1992,
          1993,
          1994,
          1995,
          1996,
          1997,
          1998,
          1999,
          2000,
          2001,
          2002,
          2003,
          2004,
          2005,
          2006,
          2007,
          2008,
          2009,
          2010,
          2011,
          2012,
          2013,
          2014,
          2015,
          2016,
          2017,
          2018
         ],
         "xaxis": "x",
         "y": [
          2,
          2,
          1.8,
          2,
          2,
          1.6,
          1.6,
          1.6,
          1.6,
          1.4,
          1.4,
          1.6,
          1.4,
          1.6,
          1.8,
          1.8,
          1.4,
          1.4,
          1.6,
          1.6,
          1.4,
          1.2,
          1.2,
          0.8,
          0.8,
          0.8,
          1.2,
          1.2,
          1,
          0.8,
          1,
          0.6,
          1.6,
          2,
          2.2,
          2.2,
          2.6,
          1.4,
          1.2,
          1.2,
          1.2,
          0.6,
          1,
          1.2,
          1.2,
          1.6,
          2.2,
          1.8,
          1.4,
          1.4,
          1.2,
          1.8,
          3,
          3,
          3,
          3.2,
          2,
          0.8,
          1,
          1.2,
          0.6,
          0.8,
          0.8,
          1,
          1.2,
          1.6,
          1.8,
          3
         ],
         "yaxis": "y"
        }
       ],
       "layout": {
        "legend": {
         "title": {
          "text": "variable"
         },
         "tracegroupgap": 0
        },
        "template": {
         "data": {
          "bar": [
           {
            "error_x": {
             "color": "#2a3f5f"
            },
            "error_y": {
             "color": "#2a3f5f"
            },
            "marker": {
             "line": {
              "color": "#E5ECF6",
              "width": 0.5
             },
             "pattern": {
              "fillmode": "overlay",
              "size": 10,
              "solidity": 0.2
             }
            },
            "type": "bar"
           }
          ],
          "barpolar": [
           {
            "marker": {
             "line": {
              "color": "#E5ECF6",
              "width": 0.5
             },
             "pattern": {
              "fillmode": "overlay",
              "size": 10,
              "solidity": 0.2
             }
            },
            "type": "barpolar"
           }
          ],
          "carpet": [
           {
            "aaxis": {
             "endlinecolor": "#2a3f5f",
             "gridcolor": "white",
             "linecolor": "white",
             "minorgridcolor": "white",
             "startlinecolor": "#2a3f5f"
            },
            "baxis": {
             "endlinecolor": "#2a3f5f",
             "gridcolor": "white",
             "linecolor": "white",
             "minorgridcolor": "white",
             "startlinecolor": "#2a3f5f"
            },
            "type": "carpet"
           }
          ],
          "choropleth": [
           {
            "colorbar": {
             "outlinewidth": 0,
             "ticks": ""
            },
            "type": "choropleth"
           }
          ],
          "contour": [
           {
            "colorbar": {
             "outlinewidth": 0,
             "ticks": ""
            },
            "colorscale": [
             [
              0,
              "#0d0887"
             ],
             [
              0.1111111111111111,
              "#46039f"
             ],
             [
              0.2222222222222222,
              "#7201a8"
             ],
             [
              0.3333333333333333,
              "#9c179e"
             ],
             [
              0.4444444444444444,
              "#bd3786"
             ],
             [
              0.5555555555555556,
              "#d8576b"
             ],
             [
              0.6666666666666666,
              "#ed7953"
             ],
             [
              0.7777777777777778,
              "#fb9f3a"
             ],
             [
              0.8888888888888888,
              "#fdca26"
             ],
             [
              1,
              "#f0f921"
             ]
            ],
            "type": "contour"
           }
          ],
          "contourcarpet": [
           {
            "colorbar": {
             "outlinewidth": 0,
             "ticks": ""
            },
            "type": "contourcarpet"
           }
          ],
          "heatmap": [
           {
            "colorbar": {
             "outlinewidth": 0,
             "ticks": ""
            },
            "colorscale": [
             [
              0,
              "#0d0887"
             ],
             [
              0.1111111111111111,
              "#46039f"
             ],
             [
              0.2222222222222222,
              "#7201a8"
             ],
             [
              0.3333333333333333,
              "#9c179e"
             ],
             [
              0.4444444444444444,
              "#bd3786"
             ],
             [
              0.5555555555555556,
              "#d8576b"
             ],
             [
              0.6666666666666666,
              "#ed7953"
             ],
             [
              0.7777777777777778,
              "#fb9f3a"
             ],
             [
              0.8888888888888888,
              "#fdca26"
             ],
             [
              1,
              "#f0f921"
             ]
            ],
            "type": "heatmap"
           }
          ],
          "heatmapgl": [
           {
            "colorbar": {
             "outlinewidth": 0,
             "ticks": ""
            },
            "colorscale": [
             [
              0,
              "#0d0887"
             ],
             [
              0.1111111111111111,
              "#46039f"
             ],
             [
              0.2222222222222222,
              "#7201a8"
             ],
             [
              0.3333333333333333,
              "#9c179e"
             ],
             [
              0.4444444444444444,
              "#bd3786"
             ],
             [
              0.5555555555555556,
              "#d8576b"
             ],
             [
              0.6666666666666666,
              "#ed7953"
             ],
             [
              0.7777777777777778,
              "#fb9f3a"
             ],
             [
              0.8888888888888888,
              "#fdca26"
             ],
             [
              1,
              "#f0f921"
             ]
            ],
            "type": "heatmapgl"
           }
          ],
          "histogram": [
           {
            "marker": {
             "pattern": {
              "fillmode": "overlay",
              "size": 10,
              "solidity": 0.2
             }
            },
            "type": "histogram"
           }
          ],
          "histogram2d": [
           {
            "colorbar": {
             "outlinewidth": 0,
             "ticks": ""
            },
            "colorscale": [
             [
              0,
              "#0d0887"
             ],
             [
              0.1111111111111111,
              "#46039f"
             ],
             [
              0.2222222222222222,
              "#7201a8"
             ],
             [
              0.3333333333333333,
              "#9c179e"
             ],
             [
              0.4444444444444444,
              "#bd3786"
             ],
             [
              0.5555555555555556,
              "#d8576b"
             ],
             [
              0.6666666666666666,
              "#ed7953"
             ],
             [
              0.7777777777777778,
              "#fb9f3a"
             ],
             [
              0.8888888888888888,
              "#fdca26"
             ],
             [
              1,
              "#f0f921"
             ]
            ],
            "type": "histogram2d"
           }
          ],
          "histogram2dcontour": [
           {
            "colorbar": {
             "outlinewidth": 0,
             "ticks": ""
            },
            "colorscale": [
             [
              0,
              "#0d0887"
             ],
             [
              0.1111111111111111,
              "#46039f"
             ],
             [
              0.2222222222222222,
              "#7201a8"
             ],
             [
              0.3333333333333333,
              "#9c179e"
             ],
             [
              0.4444444444444444,
              "#bd3786"
             ],
             [
              0.5555555555555556,
              "#d8576b"
             ],
             [
              0.6666666666666666,
              "#ed7953"
             ],
             [
              0.7777777777777778,
              "#fb9f3a"
             ],
             [
              0.8888888888888888,
              "#fdca26"
             ],
             [
              1,
              "#f0f921"
             ]
            ],
            "type": "histogram2dcontour"
           }
          ],
          "mesh3d": [
           {
            "colorbar": {
             "outlinewidth": 0,
             "ticks": ""
            },
            "type": "mesh3d"
           }
          ],
          "parcoords": [
           {
            "line": {
             "colorbar": {
              "outlinewidth": 0,
              "ticks": ""
             }
            },
            "type": "parcoords"
           }
          ],
          "pie": [
           {
            "automargin": true,
            "type": "pie"
           }
          ],
          "scatter": [
           {
            "fillpattern": {
             "fillmode": "overlay",
             "size": 10,
             "solidity": 0.2
            },
            "type": "scatter"
           }
          ],
          "scatter3d": [
           {
            "line": {
             "colorbar": {
              "outlinewidth": 0,
              "ticks": ""
             }
            },
            "marker": {
             "colorbar": {
              "outlinewidth": 0,
              "ticks": ""
             }
            },
            "type": "scatter3d"
           }
          ],
          "scattercarpet": [
           {
            "marker": {
             "colorbar": {
              "outlinewidth": 0,
              "ticks": ""
             }
            },
            "type": "scattercarpet"
           }
          ],
          "scattergeo": [
           {
            "marker": {
             "colorbar": {
              "outlinewidth": 0,
              "ticks": ""
             }
            },
            "type": "scattergeo"
           }
          ],
          "scattergl": [
           {
            "marker": {
             "colorbar": {
              "outlinewidth": 0,
              "ticks": ""
             }
            },
            "type": "scattergl"
           }
          ],
          "scattermapbox": [
           {
            "marker": {
             "colorbar": {
              "outlinewidth": 0,
              "ticks": ""
             }
            },
            "type": "scattermapbox"
           }
          ],
          "scatterpolar": [
           {
            "marker": {
             "colorbar": {
              "outlinewidth": 0,
              "ticks": ""
             }
            },
            "type": "scatterpolar"
           }
          ],
          "scatterpolargl": [
           {
            "marker": {
             "colorbar": {
              "outlinewidth": 0,
              "ticks": ""
             }
            },
            "type": "scatterpolargl"
           }
          ],
          "scatterternary": [
           {
            "marker": {
             "colorbar": {
              "outlinewidth": 0,
              "ticks": ""
             }
            },
            "type": "scatterternary"
           }
          ],
          "surface": [
           {
            "colorbar": {
             "outlinewidth": 0,
             "ticks": ""
            },
            "colorscale": [
             [
              0,
              "#0d0887"
             ],
             [
              0.1111111111111111,
              "#46039f"
             ],
             [
              0.2222222222222222,
              "#7201a8"
             ],
             [
              0.3333333333333333,
              "#9c179e"
             ],
             [
              0.4444444444444444,
              "#bd3786"
             ],
             [
              0.5555555555555556,
              "#d8576b"
             ],
             [
              0.6666666666666666,
              "#ed7953"
             ],
             [
              0.7777777777777778,
              "#fb9f3a"
             ],
             [
              0.8888888888888888,
              "#fdca26"
             ],
             [
              1,
              "#f0f921"
             ]
            ],
            "type": "surface"
           }
          ],
          "table": [
           {
            "cells": {
             "fill": {
              "color": "#EBF0F8"
             },
             "line": {
              "color": "white"
             }
            },
            "header": {
             "fill": {
              "color": "#C8D4E3"
             },
             "line": {
              "color": "white"
             }
            },
            "type": "table"
           }
          ]
         },
         "layout": {
          "annotationdefaults": {
           "arrowcolor": "#2a3f5f",
           "arrowhead": 0,
           "arrowwidth": 1
          },
          "autotypenumbers": "strict",
          "coloraxis": {
           "colorbar": {
            "outlinewidth": 0,
            "ticks": ""
           }
          },
          "colorscale": {
           "diverging": [
            [
             0,
             "#8e0152"
            ],
            [
             0.1,
             "#c51b7d"
            ],
            [
             0.2,
             "#de77ae"
            ],
            [
             0.3,
             "#f1b6da"
            ],
            [
             0.4,
             "#fde0ef"
            ],
            [
             0.5,
             "#f7f7f7"
            ],
            [
             0.6,
             "#e6f5d0"
            ],
            [
             0.7,
             "#b8e186"
            ],
            [
             0.8,
             "#7fbc41"
            ],
            [
             0.9,
             "#4d9221"
            ],
            [
             1,
             "#276419"
            ]
           ],
           "sequential": [
            [
             0,
             "#0d0887"
            ],
            [
             0.1111111111111111,
             "#46039f"
            ],
            [
             0.2222222222222222,
             "#7201a8"
            ],
            [
             0.3333333333333333,
             "#9c179e"
            ],
            [
             0.4444444444444444,
             "#bd3786"
            ],
            [
             0.5555555555555556,
             "#d8576b"
            ],
            [
             0.6666666666666666,
             "#ed7953"
            ],
            [
             0.7777777777777778,
             "#fb9f3a"
            ],
            [
             0.8888888888888888,
             "#fdca26"
            ],
            [
             1,
             "#f0f921"
            ]
           ],
           "sequentialminus": [
            [
             0,
             "#0d0887"
            ],
            [
             0.1111111111111111,
             "#46039f"
            ],
            [
             0.2222222222222222,
             "#7201a8"
            ],
            [
             0.3333333333333333,
             "#9c179e"
            ],
            [
             0.4444444444444444,
             "#bd3786"
            ],
            [
             0.5555555555555556,
             "#d8576b"
            ],
            [
             0.6666666666666666,
             "#ed7953"
            ],
            [
             0.7777777777777778,
             "#fb9f3a"
            ],
            [
             0.8888888888888888,
             "#fdca26"
            ],
            [
             1,
             "#f0f921"
            ]
           ]
          },
          "colorway": [
           "#636efa",
           "#EF553B",
           "#00cc96",
           "#ab63fa",
           "#FFA15A",
           "#19d3f3",
           "#FF6692",
           "#B6E880",
           "#FF97FF",
           "#FECB52"
          ],
          "font": {
           "color": "#2a3f5f"
          },
          "geo": {
           "bgcolor": "white",
           "lakecolor": "white",
           "landcolor": "#E5ECF6",
           "showlakes": true,
           "showland": true,
           "subunitcolor": "white"
          },
          "hoverlabel": {
           "align": "left"
          },
          "hovermode": "closest",
          "mapbox": {
           "style": "light"
          },
          "paper_bgcolor": "white",
          "plot_bgcolor": "#E5ECF6",
          "polar": {
           "angularaxis": {
            "gridcolor": "white",
            "linecolor": "white",
            "ticks": ""
           },
           "bgcolor": "#E5ECF6",
           "radialaxis": {
            "gridcolor": "white",
            "linecolor": "white",
            "ticks": ""
           }
          },
          "scene": {
           "xaxis": {
            "backgroundcolor": "#E5ECF6",
            "gridcolor": "white",
            "gridwidth": 2,
            "linecolor": "white",
            "showbackground": true,
            "ticks": "",
            "zerolinecolor": "white"
           },
           "yaxis": {
            "backgroundcolor": "#E5ECF6",
            "gridcolor": "white",
            "gridwidth": 2,
            "linecolor": "white",
            "showbackground": true,
            "ticks": "",
            "zerolinecolor": "white"
           },
           "zaxis": {
            "backgroundcolor": "#E5ECF6",
            "gridcolor": "white",
            "gridwidth": 2,
            "linecolor": "white",
            "showbackground": true,
            "ticks": "",
            "zerolinecolor": "white"
           }
          },
          "shapedefaults": {
           "line": {
            "color": "#2a3f5f"
           }
          },
          "ternary": {
           "aaxis": {
            "gridcolor": "white",
            "linecolor": "white",
            "ticks": ""
           },
           "baxis": {
            "gridcolor": "white",
            "linecolor": "white",
            "ticks": ""
           },
           "bgcolor": "#E5ECF6",
           "caxis": {
            "gridcolor": "white",
            "linecolor": "white",
            "ticks": ""
           }
          },
          "title": {
           "x": 0.05
          },
          "xaxis": {
           "automargin": true,
           "gridcolor": "white",
           "linecolor": "white",
           "ticks": "",
           "title": {
            "standoff": 15
           },
           "zerolinecolor": "white",
           "zerolinewidth": 2
          },
          "yaxis": {
           "automargin": true,
           "gridcolor": "white",
           "linecolor": "white",
           "ticks": "",
           "title": {
            "standoff": 15
           },
           "zerolinecolor": "white",
           "zerolinewidth": 2
          }
         }
        },
        "title": {
         "text": "\nSince 1951, about six to seven hurricanes have formed in the North Atlantic every year. Roughly two per year make landfall in \n<br>the United States. Total number of hurricanes (particularly after being adjusted for improvements in observation methods) and\n<br>the number reaching the United States do not indicate a clear overall trend.\n        "
        },
        "xaxis": {
         "anchor": "y",
         "domain": [
          0,
          1
         ],
         "title": {
          "text": "Year"
         }
        },
        "yaxis": {
         "anchor": "x",
         "domain": [
          0,
          1
         ],
         "title": {
          "text": "Number of Hurricanes"
         }
        }
       }
      }
     },
     "metadata": {},
     "output_type": "display_data"
    }
   ],
   "source": [
    "px.line(merged_df, x='Year', y=['Total hurricanes (unadjusted)', 'Total hurricanes (unadjusted, 5Y Moving Average)', 'Hurricanes reaching the United States'], \n",
    "        labels={'Year':'Year', 'value':'Number of Hurricanes'}, \n",
    "        title='''\n",
    "Since 1951, about six to seven hurricanes have formed in the North Atlantic every year. Roughly two per year make landfall in \n",
    "<br>the United States. Total number of hurricanes (particularly after being adjusted for improvements in observation methods) and\n",
    "<br>the number reaching the United States do not indicate a clear overall trend.\n",
    "        ''')   "
   ]
  },
  {
   "cell_type": "markdown",
   "metadata": {},
   "source": [
    "## Power Dissipation Index\n",
    "\n",
    "This indicator examines the intensity of hurricanes and other tropical storms in the Atlantic Ocean, Caribbean, and Gulf of Mexico."
   ]
  },
  {
   "cell_type": "code",
   "execution_count": 115,
   "metadata": {},
   "outputs": [
    {
     "name": "stderr",
     "output_type": "stream",
     "text": [
      "/usr/local/lib/python3.11/site-packages/plotly/graph_objs/_deprecations.py:378: DeprecationWarning:\n",
      "\n",
      "plotly.graph_objs.Line is deprecated.\n",
      "Please replace it with one of the following more specific types\n",
      "  - plotly.graph_objs.scatter.Line\n",
      "  - plotly.graph_objs.layout.shape.Line\n",
      "  - etc.\n",
      "\n",
      "\n"
     ]
    },
    {
     "data": {
      "application/vnd.plotly.v1+json": {
       "config": {
        "plotlyServerURL": "https://plot.ly"
       },
       "data": [
        {
         "name": "Power Dissipation Index",
         "type": "scatter",
         "x": [
          1951,
          1952,
          1953,
          1954,
          1955,
          1956,
          1957,
          1958,
          1959,
          1960,
          1961,
          1962,
          1963,
          1964,
          1965,
          1966,
          1967,
          1968,
          1969,
          1970,
          1971,
          1972,
          1973,
          1974,
          1975,
          1976,
          1977,
          1978,
          1979,
          1980,
          1981,
          1982,
          1983,
          1984,
          1985,
          1986,
          1987,
          1988,
          1989,
          1990,
          1991,
          1992,
          1993,
          1994,
          1995,
          1996,
          1997,
          1998,
          1999,
          2000,
          2001,
          2002,
          2003,
          2004,
          2005,
          2006,
          2007,
          2008,
          2009,
          2010,
          2011,
          2012,
          2013,
          2014,
          2015,
          2016,
          2017,
          2018,
          2019
         ],
         "xaxis": "x",
         "y": [
          2.6784,
          2.249,
          2.1383,
          2.3011,
          2.2156,
          1.9505,
          1.783,
          1.778,
          2.0556,
          2.4492,
          2.5897,
          2.5354,
          2.4939,
          2.6379,
          2.7074,
          2.419,
          2.1363,
          1.9656,
          1.9072,
          1.9082,
          1.6771,
          1.424,
          1.3788,
          1.5631,
          1.718,
          1.5895,
          1.5082,
          1.9018,
          2.6182,
          2.8708,
          2.2747,
          1.4132,
          1.1123,
          1.3397,
          1.4556,
          1.4057,
          1.7075,
          2.3569,
          2.6223,
          2.2292,
          1.6827,
          1.3428,
          1.5155,
          2.4098,
          3.3501,
          3.654,
          3.5959,
          3.7471,
          3.8891,
          3.3709,
          2.7995,
          3.231,
          4.5551,
          5.5545,
          5.1439,
          3.8943,
          2.9178,
          2.6936,
          2.911,
          3.0732,
          2.9344,
          2.342,
          1.7643,
          1.7555,
          2.6053,
          3.8005,
          4.53,
          null,
          null
         ],
         "yaxis": "y"
        },
        {
         "line": {
          "color": "firebrick",
          "dash": "dot",
          "width": 2
         },
         "name": "Sea Surface Temperature",
         "type": "scatter",
         "x": [
          1951,
          1952,
          1953,
          1954,
          1955,
          1956,
          1957,
          1958,
          1959,
          1960,
          1961,
          1962,
          1963,
          1964,
          1965,
          1966,
          1967,
          1968,
          1969,
          1970,
          1971,
          1972,
          1973,
          1974,
          1975,
          1976,
          1977,
          1978,
          1979,
          1980,
          1981,
          1982,
          1983,
          1984,
          1985,
          1986,
          1987,
          1988,
          1989,
          1990,
          1991,
          1992,
          1993,
          1994,
          1995,
          1996,
          1997,
          1998,
          1999,
          2000,
          2001,
          2002,
          2003,
          2004,
          2005,
          2006,
          2007,
          2008,
          2009,
          2010,
          2011,
          2012,
          2013,
          2014,
          2015,
          2016,
          2017,
          2018,
          2019
         ],
         "xaxis": "x",
         "y": [
          82.1066,
          82.21388,
          82.15412,
          82.01354,
          81.9455,
          82.02902,
          82.09598,
          82.02362,
          81.87494,
          81.8078,
          81.8978,
          81.9482,
          81.85316,
          81.75254,
          81.7466,
          81.77846,
          81.81104,
          81.87872,
          81.91652,
          81.78728,
          81.55508,
          81.4136,
          81.37796,
          81.41198,
          81.51332,
          81.61736,
          81.68396,
          81.78962,
          81.97178,
          82.03964,
          81.88304,
          81.6503,
          81.50918,
          81.4901,
          81.60332,
          81.84002,
          82.05314,
          82.17536,
          82.16564,
          82.02452,
          81.82904,
          81.67334,
          81.734,
          81.95414,
          82.17032,
          82.37804,
          82.553,
          82.6268,
          82.55858,
          82.41872,
          82.41242,
          82.60628,
          82.86494,
          83.07068,
          83.06402,
          82.87646,
          82.71716,
          82.74092,
          82.93082,
          83.06348,
          83.07806,
          83.00318,
          82.9085,
          82.85504,
          82.84784,
          82.8437,
          82.7609,
          null,
          null
         ],
         "yaxis": "y2"
        }
       ],
       "layout": {
        "template": {
         "data": {
          "bar": [
           {
            "error_x": {
             "color": "#2a3f5f"
            },
            "error_y": {
             "color": "#2a3f5f"
            },
            "marker": {
             "line": {
              "color": "#E5ECF6",
              "width": 0.5
             },
             "pattern": {
              "fillmode": "overlay",
              "size": 10,
              "solidity": 0.2
             }
            },
            "type": "bar"
           }
          ],
          "barpolar": [
           {
            "marker": {
             "line": {
              "color": "#E5ECF6",
              "width": 0.5
             },
             "pattern": {
              "fillmode": "overlay",
              "size": 10,
              "solidity": 0.2
             }
            },
            "type": "barpolar"
           }
          ],
          "carpet": [
           {
            "aaxis": {
             "endlinecolor": "#2a3f5f",
             "gridcolor": "white",
             "linecolor": "white",
             "minorgridcolor": "white",
             "startlinecolor": "#2a3f5f"
            },
            "baxis": {
             "endlinecolor": "#2a3f5f",
             "gridcolor": "white",
             "linecolor": "white",
             "minorgridcolor": "white",
             "startlinecolor": "#2a3f5f"
            },
            "type": "carpet"
           }
          ],
          "choropleth": [
           {
            "colorbar": {
             "outlinewidth": 0,
             "ticks": ""
            },
            "type": "choropleth"
           }
          ],
          "contour": [
           {
            "colorbar": {
             "outlinewidth": 0,
             "ticks": ""
            },
            "colorscale": [
             [
              0,
              "#0d0887"
             ],
             [
              0.1111111111111111,
              "#46039f"
             ],
             [
              0.2222222222222222,
              "#7201a8"
             ],
             [
              0.3333333333333333,
              "#9c179e"
             ],
             [
              0.4444444444444444,
              "#bd3786"
             ],
             [
              0.5555555555555556,
              "#d8576b"
             ],
             [
              0.6666666666666666,
              "#ed7953"
             ],
             [
              0.7777777777777778,
              "#fb9f3a"
             ],
             [
              0.8888888888888888,
              "#fdca26"
             ],
             [
              1,
              "#f0f921"
             ]
            ],
            "type": "contour"
           }
          ],
          "contourcarpet": [
           {
            "colorbar": {
             "outlinewidth": 0,
             "ticks": ""
            },
            "type": "contourcarpet"
           }
          ],
          "heatmap": [
           {
            "colorbar": {
             "outlinewidth": 0,
             "ticks": ""
            },
            "colorscale": [
             [
              0,
              "#0d0887"
             ],
             [
              0.1111111111111111,
              "#46039f"
             ],
             [
              0.2222222222222222,
              "#7201a8"
             ],
             [
              0.3333333333333333,
              "#9c179e"
             ],
             [
              0.4444444444444444,
              "#bd3786"
             ],
             [
              0.5555555555555556,
              "#d8576b"
             ],
             [
              0.6666666666666666,
              "#ed7953"
             ],
             [
              0.7777777777777778,
              "#fb9f3a"
             ],
             [
              0.8888888888888888,
              "#fdca26"
             ],
             [
              1,
              "#f0f921"
             ]
            ],
            "type": "heatmap"
           }
          ],
          "heatmapgl": [
           {
            "colorbar": {
             "outlinewidth": 0,
             "ticks": ""
            },
            "colorscale": [
             [
              0,
              "#0d0887"
             ],
             [
              0.1111111111111111,
              "#46039f"
             ],
             [
              0.2222222222222222,
              "#7201a8"
             ],
             [
              0.3333333333333333,
              "#9c179e"
             ],
             [
              0.4444444444444444,
              "#bd3786"
             ],
             [
              0.5555555555555556,
              "#d8576b"
             ],
             [
              0.6666666666666666,
              "#ed7953"
             ],
             [
              0.7777777777777778,
              "#fb9f3a"
             ],
             [
              0.8888888888888888,
              "#fdca26"
             ],
             [
              1,
              "#f0f921"
             ]
            ],
            "type": "heatmapgl"
           }
          ],
          "histogram": [
           {
            "marker": {
             "pattern": {
              "fillmode": "overlay",
              "size": 10,
              "solidity": 0.2
             }
            },
            "type": "histogram"
           }
          ],
          "histogram2d": [
           {
            "colorbar": {
             "outlinewidth": 0,
             "ticks": ""
            },
            "colorscale": [
             [
              0,
              "#0d0887"
             ],
             [
              0.1111111111111111,
              "#46039f"
             ],
             [
              0.2222222222222222,
              "#7201a8"
             ],
             [
              0.3333333333333333,
              "#9c179e"
             ],
             [
              0.4444444444444444,
              "#bd3786"
             ],
             [
              0.5555555555555556,
              "#d8576b"
             ],
             [
              0.6666666666666666,
              "#ed7953"
             ],
             [
              0.7777777777777778,
              "#fb9f3a"
             ],
             [
              0.8888888888888888,
              "#fdca26"
             ],
             [
              1,
              "#f0f921"
             ]
            ],
            "type": "histogram2d"
           }
          ],
          "histogram2dcontour": [
           {
            "colorbar": {
             "outlinewidth": 0,
             "ticks": ""
            },
            "colorscale": [
             [
              0,
              "#0d0887"
             ],
             [
              0.1111111111111111,
              "#46039f"
             ],
             [
              0.2222222222222222,
              "#7201a8"
             ],
             [
              0.3333333333333333,
              "#9c179e"
             ],
             [
              0.4444444444444444,
              "#bd3786"
             ],
             [
              0.5555555555555556,
              "#d8576b"
             ],
             [
              0.6666666666666666,
              "#ed7953"
             ],
             [
              0.7777777777777778,
              "#fb9f3a"
             ],
             [
              0.8888888888888888,
              "#fdca26"
             ],
             [
              1,
              "#f0f921"
             ]
            ],
            "type": "histogram2dcontour"
           }
          ],
          "mesh3d": [
           {
            "colorbar": {
             "outlinewidth": 0,
             "ticks": ""
            },
            "type": "mesh3d"
           }
          ],
          "parcoords": [
           {
            "line": {
             "colorbar": {
              "outlinewidth": 0,
              "ticks": ""
             }
            },
            "type": "parcoords"
           }
          ],
          "pie": [
           {
            "automargin": true,
            "type": "pie"
           }
          ],
          "scatter": [
           {
            "fillpattern": {
             "fillmode": "overlay",
             "size": 10,
             "solidity": 0.2
            },
            "type": "scatter"
           }
          ],
          "scatter3d": [
           {
            "line": {
             "colorbar": {
              "outlinewidth": 0,
              "ticks": ""
             }
            },
            "marker": {
             "colorbar": {
              "outlinewidth": 0,
              "ticks": ""
             }
            },
            "type": "scatter3d"
           }
          ],
          "scattercarpet": [
           {
            "marker": {
             "colorbar": {
              "outlinewidth": 0,
              "ticks": ""
             }
            },
            "type": "scattercarpet"
           }
          ],
          "scattergeo": [
           {
            "marker": {
             "colorbar": {
              "outlinewidth": 0,
              "ticks": ""
             }
            },
            "type": "scattergeo"
           }
          ],
          "scattergl": [
           {
            "marker": {
             "colorbar": {
              "outlinewidth": 0,
              "ticks": ""
             }
            },
            "type": "scattergl"
           }
          ],
          "scattermapbox": [
           {
            "marker": {
             "colorbar": {
              "outlinewidth": 0,
              "ticks": ""
             }
            },
            "type": "scattermapbox"
           }
          ],
          "scatterpolar": [
           {
            "marker": {
             "colorbar": {
              "outlinewidth": 0,
              "ticks": ""
             }
            },
            "type": "scatterpolar"
           }
          ],
          "scatterpolargl": [
           {
            "marker": {
             "colorbar": {
              "outlinewidth": 0,
              "ticks": ""
             }
            },
            "type": "scatterpolargl"
           }
          ],
          "scatterternary": [
           {
            "marker": {
             "colorbar": {
              "outlinewidth": 0,
              "ticks": ""
             }
            },
            "type": "scatterternary"
           }
          ],
          "surface": [
           {
            "colorbar": {
             "outlinewidth": 0,
             "ticks": ""
            },
            "colorscale": [
             [
              0,
              "#0d0887"
             ],
             [
              0.1111111111111111,
              "#46039f"
             ],
             [
              0.2222222222222222,
              "#7201a8"
             ],
             [
              0.3333333333333333,
              "#9c179e"
             ],
             [
              0.4444444444444444,
              "#bd3786"
             ],
             [
              0.5555555555555556,
              "#d8576b"
             ],
             [
              0.6666666666666666,
              "#ed7953"
             ],
             [
              0.7777777777777778,
              "#fb9f3a"
             ],
             [
              0.8888888888888888,
              "#fdca26"
             ],
             [
              1,
              "#f0f921"
             ]
            ],
            "type": "surface"
           }
          ],
          "table": [
           {
            "cells": {
             "fill": {
              "color": "#EBF0F8"
             },
             "line": {
              "color": "white"
             }
            },
            "header": {
             "fill": {
              "color": "#C8D4E3"
             },
             "line": {
              "color": "white"
             }
            },
            "type": "table"
           }
          ]
         },
         "layout": {
          "annotationdefaults": {
           "arrowcolor": "#2a3f5f",
           "arrowhead": 0,
           "arrowwidth": 1
          },
          "autotypenumbers": "strict",
          "coloraxis": {
           "colorbar": {
            "outlinewidth": 0,
            "ticks": ""
           }
          },
          "colorscale": {
           "diverging": [
            [
             0,
             "#8e0152"
            ],
            [
             0.1,
             "#c51b7d"
            ],
            [
             0.2,
             "#de77ae"
            ],
            [
             0.3,
             "#f1b6da"
            ],
            [
             0.4,
             "#fde0ef"
            ],
            [
             0.5,
             "#f7f7f7"
            ],
            [
             0.6,
             "#e6f5d0"
            ],
            [
             0.7,
             "#b8e186"
            ],
            [
             0.8,
             "#7fbc41"
            ],
            [
             0.9,
             "#4d9221"
            ],
            [
             1,
             "#276419"
            ]
           ],
           "sequential": [
            [
             0,
             "#0d0887"
            ],
            [
             0.1111111111111111,
             "#46039f"
            ],
            [
             0.2222222222222222,
             "#7201a8"
            ],
            [
             0.3333333333333333,
             "#9c179e"
            ],
            [
             0.4444444444444444,
             "#bd3786"
            ],
            [
             0.5555555555555556,
             "#d8576b"
            ],
            [
             0.6666666666666666,
             "#ed7953"
            ],
            [
             0.7777777777777778,
             "#fb9f3a"
            ],
            [
             0.8888888888888888,
             "#fdca26"
            ],
            [
             1,
             "#f0f921"
            ]
           ],
           "sequentialminus": [
            [
             0,
             "#0d0887"
            ],
            [
             0.1111111111111111,
             "#46039f"
            ],
            [
             0.2222222222222222,
             "#7201a8"
            ],
            [
             0.3333333333333333,
             "#9c179e"
            ],
            [
             0.4444444444444444,
             "#bd3786"
            ],
            [
             0.5555555555555556,
             "#d8576b"
            ],
            [
             0.6666666666666666,
             "#ed7953"
            ],
            [
             0.7777777777777778,
             "#fb9f3a"
            ],
            [
             0.8888888888888888,
             "#fdca26"
            ],
            [
             1,
             "#f0f921"
            ]
           ]
          },
          "colorway": [
           "#636efa",
           "#EF553B",
           "#00cc96",
           "#ab63fa",
           "#FFA15A",
           "#19d3f3",
           "#FF6692",
           "#B6E880",
           "#FF97FF",
           "#FECB52"
          ],
          "font": {
           "color": "#2a3f5f"
          },
          "geo": {
           "bgcolor": "white",
           "lakecolor": "white",
           "landcolor": "#E5ECF6",
           "showlakes": true,
           "showland": true,
           "subunitcolor": "white"
          },
          "hoverlabel": {
           "align": "left"
          },
          "hovermode": "closest",
          "mapbox": {
           "style": "light"
          },
          "paper_bgcolor": "white",
          "plot_bgcolor": "#E5ECF6",
          "polar": {
           "angularaxis": {
            "gridcolor": "white",
            "linecolor": "white",
            "ticks": ""
           },
           "bgcolor": "#E5ECF6",
           "radialaxis": {
            "gridcolor": "white",
            "linecolor": "white",
            "ticks": ""
           }
          },
          "scene": {
           "xaxis": {
            "backgroundcolor": "#E5ECF6",
            "gridcolor": "white",
            "gridwidth": 2,
            "linecolor": "white",
            "showbackground": true,
            "ticks": "",
            "zerolinecolor": "white"
           },
           "yaxis": {
            "backgroundcolor": "#E5ECF6",
            "gridcolor": "white",
            "gridwidth": 2,
            "linecolor": "white",
            "showbackground": true,
            "ticks": "",
            "zerolinecolor": "white"
           },
           "zaxis": {
            "backgroundcolor": "#E5ECF6",
            "gridcolor": "white",
            "gridwidth": 2,
            "linecolor": "white",
            "showbackground": true,
            "ticks": "",
            "zerolinecolor": "white"
           }
          },
          "shapedefaults": {
           "line": {
            "color": "#2a3f5f"
           }
          },
          "ternary": {
           "aaxis": {
            "gridcolor": "white",
            "linecolor": "white",
            "ticks": ""
           },
           "baxis": {
            "gridcolor": "white",
            "linecolor": "white",
            "ticks": ""
           },
           "bgcolor": "#E5ECF6",
           "caxis": {
            "gridcolor": "white",
            "linecolor": "white",
            "ticks": ""
           }
          },
          "title": {
           "x": 0.05
          },
          "xaxis": {
           "automargin": true,
           "gridcolor": "white",
           "linecolor": "white",
           "ticks": "",
           "title": {
            "standoff": 15
           },
           "zerolinecolor": "white",
           "zerolinewidth": 2
          },
          "yaxis": {
           "automargin": true,
           "gridcolor": "white",
           "linecolor": "white",
           "ticks": "",
           "title": {
            "standoff": 15
           },
           "zerolinecolor": "white",
           "zerolinewidth": 2
          }
         }
        },
        "title": {
         "text": "\nThe PDI shows fluctuating cyclone intensity for most of the mid- to late 20th century, followed by a noticeable increase since 1995.\n<br>Despite the apparent increases in tropical cyclone activity in recent years, changes in observation methods over time make it difficult\n<br>to know whether tropical storm activity has actually shown an increase over time.\n"
        },
        "xaxis": {
         "anchor": "y",
         "domain": [
          0,
          0.94
         ]
        },
        "yaxis": {
         "anchor": "x",
         "domain": [
          0,
          1
         ],
         "title": {
          "text": "Power Dissipation Index"
         }
        },
        "yaxis2": {
         "anchor": "x",
         "overlaying": "y",
         "side": "right",
         "title": {
          "text": "Sea Surface Temperature (<span>&#8457;</span>)"
         }
        }
       }
      }
     },
     "metadata": {},
     "output_type": "display_data"
    }
   ],
   "source": [
    "import plotly.graph_objects as go\n",
    "from plotly.subplots import make_subplots\n",
    "\n",
    "fig = make_subplots(specs=[[{\"secondary_y\": True}]])\n",
    "fig.add_trace(go.Line(x=pdi_df['Year'], \n",
    "                      y=pdi_df['Smoothed Power Dissipation Index (10^11 m^3/s^2)'],\n",
    "                      name=\"Power Dissipation Index\"\n",
    "                      ),\n",
    "                      secondary_y=False\n",
    ")\n",
    "\n",
    "fig.add_trace(go.Line(x=pdi_df['Year'], \n",
    "                      y=pdi_df['Smoothed SST (F)'],\n",
    "                      name=\"Sea Surface Temperature\",\n",
    "                      line=dict(color='firebrick', width=2, dash='dot')\n",
    "                      ),\n",
    "                      secondary_y=True\n",
    ")\n",
    "\n",
    "fig.update_layout(title_text='''\n",
    "The PDI shows fluctuating cyclone intensity for most of the mid- to late 20th century, followed by a noticeable increase since 1995.\n",
    "<br>Despite the apparent increases in tropical cyclone activity in recent years, changes in observation methods over time make it difficult\n",
    "<br>to know whether tropical storm activity has actually shown an increase over time.\n",
    "''')\n",
    "fig.update_yaxes(title_text=\"Power Dissipation Index\", secondary_y=False)\n",
    "fig.update_yaxes(title_text=\"Sea Surface Temperature (<span>&#8457;</span>)\", secondary_y=True)\n",
    "\n",
    "fig.show()"
   ]
  },
  {
   "cell_type": "code",
   "execution_count": 116,
   "metadata": {},
   "outputs": [
    {
     "data": {
      "application/vnd.plotly.v1+json": {
       "config": {
        "plotlyServerURL": "https://plot.ly"
       },
       "data": [
        {
         "alignmentgroup": "True",
         "hovertemplate": "Acculumated Cyclone Energy Index=Adjusted ACE Index (as % of 1981-2010 median)<br>Year=%{x}<br>value=%{y}<extra></extra>",
         "legendgroup": "Adjusted ACE Index (as % of 1981-2010 median)",
         "marker": {
          "color": "#636efa",
          "pattern": {
           "shape": ""
          }
         },
         "name": "Adjusted ACE Index (as % of 1981-2010 median)",
         "offsetgroup": "Adjusted ACE Index (as % of 1981-2010 median)",
         "orientation": "v",
         "showlegend": true,
         "textposition": "auto",
         "type": "bar",
         "x": [
          1950,
          1951,
          1952,
          1953,
          1954,
          1955,
          1956,
          1957,
          1958,
          1959,
          1960,
          1961,
          1962,
          1963,
          1964,
          1965,
          1966,
          1967,
          1968,
          1969,
          1970,
          1971,
          1972,
          1973,
          1974,
          1975,
          1976,
          1977,
          1978,
          1979,
          1980,
          1981,
          1982,
          1983,
          1984,
          1985,
          1986,
          1987,
          1988,
          1989,
          1990,
          1991,
          1992,
          1993,
          1994,
          1995,
          1996,
          1997,
          1998,
          1999,
          2000,
          2001,
          2002,
          2003,
          2004,
          2005,
          2006,
          2007,
          2008,
          2009,
          2010,
          2011,
          2012,
          2013,
          2014,
          2015,
          2016,
          2017,
          2018,
          2019,
          2020
         ],
         "xaxis": "x",
         "y": [
          228.1081081,
          136.2162162,
          74.59459459,
          107.027027,
          120,
          170.8108108,
          61.62162162,
          85.40540541,
          118.9189189,
          83.24324324,
          78.91891892,
          221.6216216,
          38.91891892,
          127.5675676,
          183.7837838,
          90.81081081,
          156.7567568,
          131.8918919,
          48.64864865,
          179.4594595,
          43.24324324,
          104.8648649,
          38.91891892,
          51.89189189,
          73.51351351,
          82.16216216,
          90.81081081,
          27.02702703,
          68.10810811,
          100.5405405,
          161.0810811,
          108.1081081,
          34.59459459,
          18.37837838,
          90.81081081,
          95.13513514,
          38.91891892,
          36.75675676,
          111.3513514,
          145.9459459,
          104.8648649,
          38.91891892,
          82.16216216,
          42.16216216,
          34.59459459,
          246.4864865,
          179.4594595,
          44.32432432,
          196.7567568,
          191.3513514,
          128.6486486,
          118.9189189,
          72.43243243,
          190.2702703,
          245.4054054,
          270.2702703,
          85.40540541,
          80,
          157.8378378,
          57.2972973,
          178.3783784,
          136.2162162,
          139.4594595,
          38.91891892,
          72.43243243,
          68.10810811,
          152.4324324,
          241.0810811,
          144.8648649,
          143.7837838,
          194.5945946
         ],
         "yaxis": "y"
        }
       ],
       "layout": {
        "annotations": [
         {
          "showarrow": false,
          "text": "Above Normal",
          "x": 1,
          "xanchor": "left",
          "xref": "x domain",
          "y": 205.5,
          "yanchor": "middle",
          "yref": "y"
         },
         {
          "showarrow": false,
          "text": "Normal",
          "x": 1,
          "xanchor": "left",
          "xref": "x domain",
          "y": 95,
          "yanchor": "middle",
          "yref": "y"
         }
        ],
        "barmode": "relative",
        "legend": {
         "title": {
          "text": "Acculumated Cyclone Energy Index"
         },
         "tracegroupgap": 0
        },
        "shapes": [
         {
          "fillcolor": "red",
          "line": {
           "width": 0
          },
          "opacity": 0.4,
          "type": "rect",
          "x0": 0,
          "x1": 1,
          "xref": "x domain",
          "y0": 121,
          "y1": 290,
          "yref": "y"
         },
         {
          "fillcolor": "#2ca25f",
          "line": {
           "width": 0
          },
          "opacity": 0.4,
          "type": "rect",
          "x0": 0,
          "x1": 1,
          "xref": "x domain",
          "y0": 70,
          "y1": 120,
          "yref": "y"
         }
        ],
        "template": {
         "data": {
          "bar": [
           {
            "error_x": {
             "color": "#2a3f5f"
            },
            "error_y": {
             "color": "#2a3f5f"
            },
            "marker": {
             "line": {
              "color": "#E5ECF6",
              "width": 0.5
             },
             "pattern": {
              "fillmode": "overlay",
              "size": 10,
              "solidity": 0.2
             }
            },
            "type": "bar"
           }
          ],
          "barpolar": [
           {
            "marker": {
             "line": {
              "color": "#E5ECF6",
              "width": 0.5
             },
             "pattern": {
              "fillmode": "overlay",
              "size": 10,
              "solidity": 0.2
             }
            },
            "type": "barpolar"
           }
          ],
          "carpet": [
           {
            "aaxis": {
             "endlinecolor": "#2a3f5f",
             "gridcolor": "white",
             "linecolor": "white",
             "minorgridcolor": "white",
             "startlinecolor": "#2a3f5f"
            },
            "baxis": {
             "endlinecolor": "#2a3f5f",
             "gridcolor": "white",
             "linecolor": "white",
             "minorgridcolor": "white",
             "startlinecolor": "#2a3f5f"
            },
            "type": "carpet"
           }
          ],
          "choropleth": [
           {
            "colorbar": {
             "outlinewidth": 0,
             "ticks": ""
            },
            "type": "choropleth"
           }
          ],
          "contour": [
           {
            "colorbar": {
             "outlinewidth": 0,
             "ticks": ""
            },
            "colorscale": [
             [
              0,
              "#0d0887"
             ],
             [
              0.1111111111111111,
              "#46039f"
             ],
             [
              0.2222222222222222,
              "#7201a8"
             ],
             [
              0.3333333333333333,
              "#9c179e"
             ],
             [
              0.4444444444444444,
              "#bd3786"
             ],
             [
              0.5555555555555556,
              "#d8576b"
             ],
             [
              0.6666666666666666,
              "#ed7953"
             ],
             [
              0.7777777777777778,
              "#fb9f3a"
             ],
             [
              0.8888888888888888,
              "#fdca26"
             ],
             [
              1,
              "#f0f921"
             ]
            ],
            "type": "contour"
           }
          ],
          "contourcarpet": [
           {
            "colorbar": {
             "outlinewidth": 0,
             "ticks": ""
            },
            "type": "contourcarpet"
           }
          ],
          "heatmap": [
           {
            "colorbar": {
             "outlinewidth": 0,
             "ticks": ""
            },
            "colorscale": [
             [
              0,
              "#0d0887"
             ],
             [
              0.1111111111111111,
              "#46039f"
             ],
             [
              0.2222222222222222,
              "#7201a8"
             ],
             [
              0.3333333333333333,
              "#9c179e"
             ],
             [
              0.4444444444444444,
              "#bd3786"
             ],
             [
              0.5555555555555556,
              "#d8576b"
             ],
             [
              0.6666666666666666,
              "#ed7953"
             ],
             [
              0.7777777777777778,
              "#fb9f3a"
             ],
             [
              0.8888888888888888,
              "#fdca26"
             ],
             [
              1,
              "#f0f921"
             ]
            ],
            "type": "heatmap"
           }
          ],
          "heatmapgl": [
           {
            "colorbar": {
             "outlinewidth": 0,
             "ticks": ""
            },
            "colorscale": [
             [
              0,
              "#0d0887"
             ],
             [
              0.1111111111111111,
              "#46039f"
             ],
             [
              0.2222222222222222,
              "#7201a8"
             ],
             [
              0.3333333333333333,
              "#9c179e"
             ],
             [
              0.4444444444444444,
              "#bd3786"
             ],
             [
              0.5555555555555556,
              "#d8576b"
             ],
             [
              0.6666666666666666,
              "#ed7953"
             ],
             [
              0.7777777777777778,
              "#fb9f3a"
             ],
             [
              0.8888888888888888,
              "#fdca26"
             ],
             [
              1,
              "#f0f921"
             ]
            ],
            "type": "heatmapgl"
           }
          ],
          "histogram": [
           {
            "marker": {
             "pattern": {
              "fillmode": "overlay",
              "size": 10,
              "solidity": 0.2
             }
            },
            "type": "histogram"
           }
          ],
          "histogram2d": [
           {
            "colorbar": {
             "outlinewidth": 0,
             "ticks": ""
            },
            "colorscale": [
             [
              0,
              "#0d0887"
             ],
             [
              0.1111111111111111,
              "#46039f"
             ],
             [
              0.2222222222222222,
              "#7201a8"
             ],
             [
              0.3333333333333333,
              "#9c179e"
             ],
             [
              0.4444444444444444,
              "#bd3786"
             ],
             [
              0.5555555555555556,
              "#d8576b"
             ],
             [
              0.6666666666666666,
              "#ed7953"
             ],
             [
              0.7777777777777778,
              "#fb9f3a"
             ],
             [
              0.8888888888888888,
              "#fdca26"
             ],
             [
              1,
              "#f0f921"
             ]
            ],
            "type": "histogram2d"
           }
          ],
          "histogram2dcontour": [
           {
            "colorbar": {
             "outlinewidth": 0,
             "ticks": ""
            },
            "colorscale": [
             [
              0,
              "#0d0887"
             ],
             [
              0.1111111111111111,
              "#46039f"
             ],
             [
              0.2222222222222222,
              "#7201a8"
             ],
             [
              0.3333333333333333,
              "#9c179e"
             ],
             [
              0.4444444444444444,
              "#bd3786"
             ],
             [
              0.5555555555555556,
              "#d8576b"
             ],
             [
              0.6666666666666666,
              "#ed7953"
             ],
             [
              0.7777777777777778,
              "#fb9f3a"
             ],
             [
              0.8888888888888888,
              "#fdca26"
             ],
             [
              1,
              "#f0f921"
             ]
            ],
            "type": "histogram2dcontour"
           }
          ],
          "mesh3d": [
           {
            "colorbar": {
             "outlinewidth": 0,
             "ticks": ""
            },
            "type": "mesh3d"
           }
          ],
          "parcoords": [
           {
            "line": {
             "colorbar": {
              "outlinewidth": 0,
              "ticks": ""
             }
            },
            "type": "parcoords"
           }
          ],
          "pie": [
           {
            "automargin": true,
            "type": "pie"
           }
          ],
          "scatter": [
           {
            "fillpattern": {
             "fillmode": "overlay",
             "size": 10,
             "solidity": 0.2
            },
            "type": "scatter"
           }
          ],
          "scatter3d": [
           {
            "line": {
             "colorbar": {
              "outlinewidth": 0,
              "ticks": ""
             }
            },
            "marker": {
             "colorbar": {
              "outlinewidth": 0,
              "ticks": ""
             }
            },
            "type": "scatter3d"
           }
          ],
          "scattercarpet": [
           {
            "marker": {
             "colorbar": {
              "outlinewidth": 0,
              "ticks": ""
             }
            },
            "type": "scattercarpet"
           }
          ],
          "scattergeo": [
           {
            "marker": {
             "colorbar": {
              "outlinewidth": 0,
              "ticks": ""
             }
            },
            "type": "scattergeo"
           }
          ],
          "scattergl": [
           {
            "marker": {
             "colorbar": {
              "outlinewidth": 0,
              "ticks": ""
             }
            },
            "type": "scattergl"
           }
          ],
          "scattermapbox": [
           {
            "marker": {
             "colorbar": {
              "outlinewidth": 0,
              "ticks": ""
             }
            },
            "type": "scattermapbox"
           }
          ],
          "scatterpolar": [
           {
            "marker": {
             "colorbar": {
              "outlinewidth": 0,
              "ticks": ""
             }
            },
            "type": "scatterpolar"
           }
          ],
          "scatterpolargl": [
           {
            "marker": {
             "colorbar": {
              "outlinewidth": 0,
              "ticks": ""
             }
            },
            "type": "scatterpolargl"
           }
          ],
          "scatterternary": [
           {
            "marker": {
             "colorbar": {
              "outlinewidth": 0,
              "ticks": ""
             }
            },
            "type": "scatterternary"
           }
          ],
          "surface": [
           {
            "colorbar": {
             "outlinewidth": 0,
             "ticks": ""
            },
            "colorscale": [
             [
              0,
              "#0d0887"
             ],
             [
              0.1111111111111111,
              "#46039f"
             ],
             [
              0.2222222222222222,
              "#7201a8"
             ],
             [
              0.3333333333333333,
              "#9c179e"
             ],
             [
              0.4444444444444444,
              "#bd3786"
             ],
             [
              0.5555555555555556,
              "#d8576b"
             ],
             [
              0.6666666666666666,
              "#ed7953"
             ],
             [
              0.7777777777777778,
              "#fb9f3a"
             ],
             [
              0.8888888888888888,
              "#fdca26"
             ],
             [
              1,
              "#f0f921"
             ]
            ],
            "type": "surface"
           }
          ],
          "table": [
           {
            "cells": {
             "fill": {
              "color": "#EBF0F8"
             },
             "line": {
              "color": "white"
             }
            },
            "header": {
             "fill": {
              "color": "#C8D4E3"
             },
             "line": {
              "color": "white"
             }
            },
            "type": "table"
           }
          ]
         },
         "layout": {
          "annotationdefaults": {
           "arrowcolor": "#2a3f5f",
           "arrowhead": 0,
           "arrowwidth": 1
          },
          "autotypenumbers": "strict",
          "coloraxis": {
           "colorbar": {
            "outlinewidth": 0,
            "ticks": ""
           }
          },
          "colorscale": {
           "diverging": [
            [
             0,
             "#8e0152"
            ],
            [
             0.1,
             "#c51b7d"
            ],
            [
             0.2,
             "#de77ae"
            ],
            [
             0.3,
             "#f1b6da"
            ],
            [
             0.4,
             "#fde0ef"
            ],
            [
             0.5,
             "#f7f7f7"
            ],
            [
             0.6,
             "#e6f5d0"
            ],
            [
             0.7,
             "#b8e186"
            ],
            [
             0.8,
             "#7fbc41"
            ],
            [
             0.9,
             "#4d9221"
            ],
            [
             1,
             "#276419"
            ]
           ],
           "sequential": [
            [
             0,
             "#0d0887"
            ],
            [
             0.1111111111111111,
             "#46039f"
            ],
            [
             0.2222222222222222,
             "#7201a8"
            ],
            [
             0.3333333333333333,
             "#9c179e"
            ],
            [
             0.4444444444444444,
             "#bd3786"
            ],
            [
             0.5555555555555556,
             "#d8576b"
            ],
            [
             0.6666666666666666,
             "#ed7953"
            ],
            [
             0.7777777777777778,
             "#fb9f3a"
            ],
            [
             0.8888888888888888,
             "#fdca26"
            ],
            [
             1,
             "#f0f921"
            ]
           ],
           "sequentialminus": [
            [
             0,
             "#0d0887"
            ],
            [
             0.1111111111111111,
             "#46039f"
            ],
            [
             0.2222222222222222,
             "#7201a8"
            ],
            [
             0.3333333333333333,
             "#9c179e"
            ],
            [
             0.4444444444444444,
             "#bd3786"
            ],
            [
             0.5555555555555556,
             "#d8576b"
            ],
            [
             0.6666666666666666,
             "#ed7953"
            ],
            [
             0.7777777777777778,
             "#fb9f3a"
            ],
            [
             0.8888888888888888,
             "#fdca26"
            ],
            [
             1,
             "#f0f921"
            ]
           ]
          },
          "colorway": [
           "#636efa",
           "#EF553B",
           "#00cc96",
           "#ab63fa",
           "#FFA15A",
           "#19d3f3",
           "#FF6692",
           "#B6E880",
           "#FF97FF",
           "#FECB52"
          ],
          "font": {
           "color": "#2a3f5f"
          },
          "geo": {
           "bgcolor": "white",
           "lakecolor": "white",
           "landcolor": "#E5ECF6",
           "showlakes": true,
           "showland": true,
           "subunitcolor": "white"
          },
          "hoverlabel": {
           "align": "left"
          },
          "hovermode": "closest",
          "mapbox": {
           "style": "light"
          },
          "paper_bgcolor": "white",
          "plot_bgcolor": "#E5ECF6",
          "polar": {
           "angularaxis": {
            "gridcolor": "white",
            "linecolor": "white",
            "ticks": ""
           },
           "bgcolor": "#E5ECF6",
           "radialaxis": {
            "gridcolor": "white",
            "linecolor": "white",
            "ticks": ""
           }
          },
          "scene": {
           "xaxis": {
            "backgroundcolor": "#E5ECF6",
            "gridcolor": "white",
            "gridwidth": 2,
            "linecolor": "white",
            "showbackground": true,
            "ticks": "",
            "zerolinecolor": "white"
           },
           "yaxis": {
            "backgroundcolor": "#E5ECF6",
            "gridcolor": "white",
            "gridwidth": 2,
            "linecolor": "white",
            "showbackground": true,
            "ticks": "",
            "zerolinecolor": "white"
           },
           "zaxis": {
            "backgroundcolor": "#E5ECF6",
            "gridcolor": "white",
            "gridwidth": 2,
            "linecolor": "white",
            "showbackground": true,
            "ticks": "",
            "zerolinecolor": "white"
           }
          },
          "shapedefaults": {
           "line": {
            "color": "#2a3f5f"
           }
          },
          "ternary": {
           "aaxis": {
            "gridcolor": "white",
            "linecolor": "white",
            "ticks": ""
           },
           "baxis": {
            "gridcolor": "white",
            "linecolor": "white",
            "ticks": ""
           },
           "bgcolor": "#E5ECF6",
           "caxis": {
            "gridcolor": "white",
            "linecolor": "white",
            "ticks": ""
           }
          },
          "title": {
           "x": 0.05
          },
          "xaxis": {
           "automargin": true,
           "gridcolor": "white",
           "linecolor": "white",
           "ticks": "",
           "title": {
            "standoff": 15
           },
           "zerolinecolor": "white",
           "zerolinewidth": 2
          },
          "yaxis": {
           "automargin": true,
           "gridcolor": "white",
           "linecolor": "white",
           "ticks": "",
           "title": {
            "standoff": 15
           },
           "zerolinecolor": "white",
           "zerolinewidth": 2
          }
         }
        },
        "title": {
         "text": "\nAccording to the total annual ACE Index, cyclone intensity has risen noticeably over the past 20 years (see Normal band), and\n<br>eight of the 10 most active years since 1950 have occurred since the mid-1990s. Relatively high levels of cyclone activity (above\n<br>Normal) were also seen during the 1950s and 1960s. \n"
        },
        "xaxis": {
         "anchor": "y",
         "domain": [
          0,
          1
         ],
         "title": {
          "text": "Year"
         }
        },
        "yaxis": {
         "anchor": "x",
         "domain": [
          0,
          1
         ],
         "title": {
          "text": "value"
         }
        }
       }
      }
     },
     "metadata": {},
     "output_type": "display_data"
    }
   ],
   "source": [
    "fig = px.bar(ace_df, x='Year', y=['Adjusted ACE Index (as % of 1981-2010 median)'], \n",
    "        labels={'Year':'Year', 'variable':'Acculumated Cyclone Energy Index'}, \n",
    "        title='''\n",
    "According to the total annual ACE Index, cyclone intensity has risen noticeably over the past 20 years (see Normal band), and\n",
    "<br>eight of the 10 most active years since 1950 have occurred since the mid-1990s. Relatively high levels of cyclone activity (above\n",
    "<br>Normal) were also seen during the 1950s and 1960s. \n",
    "''' \n",
    ")\n",
    "\n",
    "fig.add_hrect(y0=121, y1=290, line_width=0, fillcolor=\"red\", opacity=0.4, annotation_text='Above Normal', annotation_position='outside right')\n",
    "fig.add_hrect(y0=70, y1=120, line_width=0, fillcolor=\"#2ca25f\", opacity=0.4, annotation_text='Normal', annotation_position='outside right')\n",
    "\n",
    "fig.show()"
   ]
  },
  {
   "cell_type": "code",
   "execution_count": 117,
   "metadata": {},
   "outputs": [
    {
     "name": "stdout",
     "output_type": "stream",
     "text": [
      "113.30034259971829\n",
      "104.8648649\n",
      "62.27805070919021\n",
      "175.57839330890852\n",
      "51.02229189052808\n"
     ]
    }
   ],
   "source": [
    "mean = ace_df['Adjusted ACE Index (as % of 1981-2010 median)'].mean()\n",
    "median = ace_df['Adjusted ACE Index (as % of 1981-2010 median)'].median()\n",
    "std = ace_df['Adjusted ACE Index (as % of 1981-2010 median)'].std()\n",
    "print(mean)\n",
    "print(median)\n",
    "print(std)\n",
    "print(mean+std)\n",
    "print (mean-std)\n",
    "\n"
   ]
  }
 ],
 "metadata": {
  "kernelspec": {
   "display_name": "Python 3",
   "language": "python",
   "name": "python3"
  },
  "language_info": {
   "codemirror_mode": {
    "name": "ipython",
    "version": 3
   },
   "file_extension": ".py",
   "mimetype": "text/x-python",
   "name": "python",
   "nbconvert_exporter": "python",
   "pygments_lexer": "ipython3",
   "version": "3.11.3"
  },
  "orig_nbformat": 4
 },
 "nbformat": 4,
 "nbformat_minor": 2
}
