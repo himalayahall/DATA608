{
 "nbformat": 4,
 "nbformat_minor": 0,
 "metadata": {
  "colab": {
   "provenance": [],
   "authorship_tag": "ABX9TyOwNVsXVN+M/fJfn2516Ik6",
   "include_colab_link": true
  },
  "kernelspec": {
   "name": "python3",
   "display_name": "Python 3"
  },
  "language_info": {
   "name": "python"
  }
 },
 "cells": [
  {
   "cell_type": "markdown",
   "metadata": {
    "id": "view-in-github",
    "colab_type": "text"
   },
   "source": [
    "<a href=\"https://colab.research.google.com/github/himalayahall/DATA608/blob/main/Story%201/Story1.ipynb\" target=\"_parent\"><img src=\"https://colab.research.google.com/assets/colab-badge.svg\" alt=\"Open In Colab\"/></a>"
   ]
  },
  {
   "cell_type": "code",
   "source": [
    "!sudo apt-get install texlive-xetex texlive-fonts-recommended texlive-plain-generic"
   ],
   "metadata": {
    "colab": {
     "base_uri": "https://localhost:8080/"
    },
    "id": "h95qgOZEk1tR",
    "outputId": "f8d5bc18-1dea-4464-9bda-9706e80a11f4",
    "pycharm": {
     "is_executing": true
    }
   },
   "execution_count": null,
   "outputs": [
    {
     "name": "stdout",
     "output_type": "stream",
     "text": [
      "Password:"
     ]
    }
   ]
  },
  {
   "cell_type": "code",
   "source": [
    "!jupyter nbconvert --to pdf Story1.ipynb"
   ],
   "metadata": {
    "colab": {
     "base_uri": "https://localhost:8080/"
    },
    "id": "3C8QZbqhik26",
    "outputId": "cff6aa7d-35b9-4422-9eee-9c9db068b405",
    "pycharm": {
     "is_executing": true
    }
   },
   "execution_count": null,
   "outputs": []
  },
  {
   "cell_type": "code",
   "execution_count": null,
   "metadata": {
    "id": "i_z3QKK3nsjH",
    "pycharm": {
     "is_executing": true
    }
   },
   "outputs": [],
   "source": [
    "import pandas as pd\n",
    "import numpy as np\n",
    "import matplotlib.pyplot as plt"
   ]
  },
  {
   "cell_type": "code",
   "source": [
    "funding_ds = pd.read_csv(\"https://raw.githubusercontent.com/himalayahall/DATA608/main/Story%201/IIJA%20FUNDING%20AS%20OF%20MARCH%202023.csv\")\n",
    "funding_ds.head(n=10)"
   ],
   "metadata": {
    "colab": {
     "base_uri": "https://localhost:8080/",
     "height": 374
    },
    "id": "Xs3si16Lnv_l",
    "outputId": "5df6b6b1-51bb-4f9b-a347-ab67829e19e4",
    "pycharm": {
     "is_executing": true
    }
   },
   "execution_count": null,
   "outputs": []
  },
  {
   "cell_type": "code",
   "source": [
    "funding_ds.dtypes"
   ],
   "metadata": {
    "colab": {
     "base_uri": "https://localhost:8080/"
    },
    "id": "8d_Ib7YG02vg",
    "outputId": "dc6c2e41-36cc-497c-c5f9-e38560036d85",
    "pycharm": {
     "is_executing": true
    }
   },
   "execution_count": null,
   "outputs": []
  },
  {
   "cell_type": "code",
   "source": [
    "funding_ds.rename(columns={\"State, Teritory or Tribal Nation\": \"STATE\", \"Total (Billions)\": \"FUNDING\"}, inplace=True)\n",
    "funding_ds = funding_ds.astype({'STATE' : 'string'})\n",
    "funding_ds.dtypes"
   ],
   "metadata": {
    "colab": {
     "base_uri": "https://localhost:8080/"
    },
    "id": "qB2gv9kr07cw",
    "outputId": "f1b743ec-4711-43c9-f349-d1b6cc93e090",
    "pycharm": {
     "is_executing": true
    }
   },
   "execution_count": null,
   "outputs": []
  },
  {
   "cell_type": "code",
   "source": [
    "funding_ds = funding_ds[funding_ds['STATE'] != 'AMERICAN SAMOA']\n",
    "funding_ds = funding_ds.reset_index(drop=True)\n",
    "funding_ds.head(n=10)"
   ],
   "metadata": {
    "colab": {
     "base_uri": "https://localhost:8080/",
     "height": 374
    },
    "id": "esoGkBqf4RLe",
    "outputId": "6cd12a13-93cc-4923-c8db-7f8749b75a37",
    "pycharm": {
     "is_executing": true
    }
   },
   "execution_count": null,
   "outputs": []
  },
  {
   "cell_type": "code",
   "source": [
    "election2020_ds = pd.read_csv(\"https://raw.githubusercontent.com/himalayahall/DATA608/main/Story%201/2020_Presidential_Elections.csv\", skip_blank_lines=True)\n",
    "election2020_ds.head(n = 5)"
   ],
   "metadata": {
    "colab": {
     "base_uri": "https://localhost:8080/",
     "height": 221
    },
    "id": "nZ7A4YaUpanq",
    "outputId": "b3393e49-2779-4b7d-e78c-9d2a7e1c9062",
    "pycharm": {
     "is_executing": true
    }
   },
   "execution_count": null,
   "outputs": []
  },
  {
   "cell_type": "code",
   "source": [
    "election2020_ds = election2020_ds.drop([0])\n",
    "election2020_ds.head(n=10)"
   ],
   "metadata": {
    "colab": {
     "base_uri": "https://localhost:8080/",
     "height": 374
    },
    "id": "G3mCBw0CtcJD",
    "outputId": "a1467ec3-ab71-4a2c-ab23-d2b4f08ae573",
    "pycharm": {
     "is_executing": true
    }
   },
   "execution_count": null,
   "outputs": []
  },
  {
   "cell_type": "code",
   "source": [
    "election2020_ds.tail(n=10)"
   ],
   "metadata": {
    "colab": {
     "base_uri": "https://localhost:8080/",
     "height": 374
    },
    "id": "plMrsinFtmal",
    "outputId": "91250bc9-b78a-4c66-f51f-1cac88aa1bec",
    "pycharm": {
     "is_executing": true
    }
   },
   "execution_count": null,
   "outputs": []
  },
  {
   "cell_type": "code",
   "source": [
    "election2020_ds = election2020_ds.drop([i for i in range(51, 56)])\n",
    "election2020_ds = election2020_ds.reset_index(drop=True)\n",
    "election2020_ds.tail(n=10)"
   ],
   "metadata": {
    "colab": {
     "base_uri": "https://localhost:8080/",
     "height": 374
    },
    "id": "yKOvWibxvLrJ",
    "outputId": "95215581-7792-4016-9b1f-e74a0e98545d",
    "pycharm": {
     "is_executing": true
    }
   },
   "execution_count": null,
   "outputs": []
  },
  {
   "cell_type": "code",
   "source": [
    "election2020_ds['BIDEN'] = election2020_ds['BIDEN'].str.replace('%', '', regex=False)\n",
    "election2020_ds['TRUMP'] = election2020_ds['TRUMP'].str.replace('%', '', regex=False)\n",
    "election2020_ds.head(n=10)"
   ],
   "metadata": {
    "colab": {
     "base_uri": "https://localhost:8080/",
     "height": 374
    },
    "id": "seh6BmcOy7SQ",
    "outputId": "6d34d162-6ddf-4783-ba48-68f70fd5770d",
    "pycharm": {
     "is_executing": true
    }
   },
   "execution_count": null,
   "outputs": []
  },
  {
   "cell_type": "code",
   "source": [
    "election2020_ds['STATE'] = election2020_ds['STATE'].str.upper()\n",
    "election2020_ds['STATE'] = election2020_ds['STATE'].str.replace('D.C.', 'DISTRICT OF COLUMBIA', regex=False)\n",
    "election2020_ds.head(n=10)\n"
   ],
   "metadata": {
    "colab": {
     "base_uri": "https://localhost:8080/",
     "height": 374
    },
    "id": "VY1QN_SI2_al",
    "outputId": "39994ca5-7895-4e2a-dee0-ba663bed0d67",
    "pycharm": {
     "is_executing": true
    }
   },
   "execution_count": null,
   "outputs": []
  },
  {
   "cell_type": "code",
   "source": [
    "election2020_ds = election2020_ds.astype({'STATE': 'string', 'BIDEN': 'float', 'TRUMP' : 'float'})\n",
    "election2020_ds.dtypes"
   ],
   "metadata": {
    "colab": {
     "base_uri": "https://localhost:8080/"
    },
    "id": "FYHPiDAMzweC",
    "outputId": "f12cf37c-01ff-48fe-a89a-d4dbc23bbbe6",
    "pycharm": {
     "is_executing": true
    }
   },
   "execution_count": null,
   "outputs": []
  },
  {
   "cell_type": "code",
   "source": [
    "election2020_ds['BIDEN_WON'] = election2020_ds.apply(lambda row: 'YES' if row.BIDEN > row.TRUMP else 'NO', axis=1)\n",
    "election2020_ds = election2020_ds.astype({'BIDEN_WON' : 'string'})\n",
    "\n",
    "election2020_ds['COLOR'] = election2020_ds.apply(lambda row: 'blue' if row.BIDEN_WON == 'YES' else 'red', axis=1)\n",
    "election2020_ds = election2020_ds.astype({'COLOR' : 'string'})\n",
    "election2020_ds.head(10)"
   ],
   "metadata": {
    "colab": {
     "base_uri": "https://localhost:8080/",
     "height": 374
    },
    "id": "DsdjQkcFN6Dy",
    "outputId": "b8e8560f-f413-42f1-845c-f8d52950e883",
    "pycharm": {
     "is_executing": true
    }
   },
   "execution_count": null,
   "outputs": []
  },
  {
   "cell_type": "code",
   "source": [
    "population_ds = pd.read_csv(\"https://raw.githubusercontent.com/himalayahall/DATA608/main/Story%201/NST_EST2022_POP.csv\", skip_blank_lines=True)\n",
    "population_ds.head(n=10)"
   ],
   "metadata": {
    "colab": {
     "base_uri": "https://localhost:8080/",
     "height": 407
    },
    "id": "E4X4XWkT1R6t",
    "outputId": "f68ddd37-474a-4e40-e3eb-6bf71b2ce32a",
    "pycharm": {
     "is_executing": true
    }
   },
   "execution_count": null,
   "outputs": []
  },
  {
   "cell_type": "code",
   "source": [
    "population_ds = population_ds.drop([i for i in range(0, 8)])\n",
    "population_ds = population_ds.reset_index(drop=True)\n",
    "population_ds.head(n=10)"
   ],
   "metadata": {
    "id": "WiGE6MLQ6T_b",
    "colab": {
     "base_uri": "https://localhost:8080/",
     "height": 391
    },
    "outputId": "cde116db-88d2-44c1-9851-47b2cf12ec87",
    "pycharm": {
     "is_executing": true
    }
   },
   "execution_count": null,
   "outputs": []
  },
  {
   "cell_type": "code",
   "source": [
    "population_ds = population_ds.drop(columns = [col for col in population_ds.columns if col in ['Unnamed: 1', 'Unnamed: 2', 'Unnamed: 3']])\n",
    "population_ds.columns = [\"STATE\", \"POPULATION\"]\n",
    "population_ds.tail(n=10)"
   ],
   "metadata": {
    "colab": {
     "base_uri": "https://localhost:8080/",
     "height": 374
    },
    "id": "eFIQn90ivC1H",
    "outputId": "ae57fe8e-84b5-4464-b26f-51036a4f9650",
    "pycharm": {
     "is_executing": true
    }
   },
   "execution_count": null,
   "outputs": []
  },
  {
   "cell_type": "code",
   "source": [
    "population_ds = population_ds.drop([i for i in range(51, 58)])\n",
    "\n",
    "population_ds['STATE'] = population_ds['STATE'].str.replace('.', '', regex=False)\n",
    "population_ds['STATE'] = population_ds['STATE'].str.upper()\n",
    "population_ds = population_ds.astype({'STATE' : 'string'})\n",
    "\n",
    "population_ds['POPULATION'] = population_ds['POPULATION'].str.replace(',', '', regex=False)\n",
    "population_ds = population_ds.astype({'POPULATION' : 'int'})\n",
    "\n",
    "population_ds = population_ds.reset_index(drop=True)\n",
    "population_ds.tail(n=10)"
   ],
   "metadata": {
    "colab": {
     "base_uri": "https://localhost:8080/",
     "height": 374
    },
    "id": "kx_bTWDJ_nRi",
    "outputId": "7ff4713e-4462-4668-e682-20f285fb8e43",
    "pycharm": {
     "is_executing": true
    }
   },
   "execution_count": null,
   "outputs": []
  },
  {
   "cell_type": "code",
   "source": [
    "population_ds.dtypes"
   ],
   "metadata": {
    "colab": {
     "base_uri": "https://localhost:8080/"
    },
    "id": "9VUiUHyow-xW",
    "outputId": "bfe754c6-0874-4c98-c022-f41b7cfb5f5b",
    "pycharm": {
     "is_executing": true
    }
   },
   "execution_count": null,
   "outputs": []
  },
  {
   "cell_type": "code",
   "source": [
    "plt.rcParams['figure.figsize'] = (20, 10)\n",
    "plt.rcParams['font.size'] = '20'\n",
    "plt.xticks(rotation = 'vertical')\n",
    "plt.bar(population_ds['STATE'],\n",
    "        population_ds['POPULATION'])"
   ],
   "metadata": {
    "colab": {
     "base_uri": "https://localhost:8080/",
     "height": 849
    },
    "id": "DEOvL5NxHTyi",
    "outputId": "db6f37a6-e283-405c-a99c-0ef87dd40e3e",
    "pycharm": {
     "is_executing": true
    }
   },
   "execution_count": null,
   "outputs": []
  },
  {
   "cell_type": "code",
   "source": [
    "plt.rcParams['figure.figsize'] = (20, 10)\n",
    "plt.rcParams['font.size'] = '20'\n",
    "plt.xticks(rotation = 'vertical')\n",
    "plt.bar(funding_ds['STATE'],\n",
    "        funding_ds['FUNDING'])"
   ],
   "metadata": {
    "colab": {
     "base_uri": "https://localhost:8080/",
     "height": 886
    },
    "id": "PekofhDIJwP7",
    "outputId": "7f250a6b-9efe-4463-9202-f42072a0eb88",
    "pycharm": {
     "is_executing": true
    }
   },
   "execution_count": null,
   "outputs": []
  },
  {
   "cell_type": "code",
   "source": [
    "funding_ds.head()"
   ],
   "metadata": {
    "colab": {
     "base_uri": "https://localhost:8080/",
     "height": 221
    },
    "id": "RNEQTNKxtA5m",
    "outputId": "c8fa9d8f-ebe0-4364-87fb-44609087ac49",
    "pycharm": {
     "is_executing": true
    }
   },
   "execution_count": null,
   "outputs": []
  },
  {
   "cell_type": "code",
   "source": [
    "comp = pd.merge(funding_ds, population_ds, how=\"outer\", on=[\"STATE\"], copy=True)\n",
    "comp = comp.dropna()\n",
    "comp = comp.astype({'POPULATION' : 'int'})\n",
    "comp.head()"
   ],
   "metadata": {
    "colab": {
     "base_uri": "https://localhost:8080/",
     "height": 221
    },
    "id": "W0V4kWcQp0Aj",
    "outputId": "e31db2e7-88d8-4a97-85f5-923577748f82",
    "pycharm": {
     "is_executing": true
    }
   },
   "execution_count": null,
   "outputs": []
  },
  {
   "cell_type": "code",
   "source": [
    "merged = pd.merge(comp, election2020_ds, how=\"outer\", on=[\"STATE\"], copy=True)\n",
    "merged = merged.dropna()\n",
    "merged = merged.astype({'POPULATION' : 'int'})\n",
    "merged = merged.drop(columns=[\"BIDEN\", \"TRUMP\"])\n",
    "merged.dtypes"
   ],
   "metadata": {
    "colab": {
     "base_uri": "https://localhost:8080/"
    },
    "id": "cMU-1Ul7yXol",
    "outputId": "db306fa4-0097-49d8-cbf7-6d4f71aae933",
    "pycharm": {
     "is_executing": true
    }
   },
   "execution_count": null,
   "outputs": []
  },
  {
   "cell_type": "code",
   "source": [
    "merged['PER_CAPITA_FUNDING'] = merged.apply(lambda row: (row.FUNDING * 1000000000) / row.POPULATION, axis=1)\n",
    "merged.head(n=10)"
   ],
   "metadata": {
    "colab": {
     "base_uri": "https://localhost:8080/",
     "height": 374
    },
    "id": "19AMrpnw1Yvh",
    "outputId": "a874d232-260a-4363-8a52-3dc88404b5ef",
    "pycharm": {
     "is_executing": true
    }
   },
   "execution_count": null,
   "outputs": []
  },
  {
   "cell_type": "code",
   "source": [
    "dems = len(merged[merged['BIDEN_WON'] == 'YES'])\n",
    "reps = len(merged) - dems\n",
    "\n",
    "plt.title(f'Per capita funding: {dems} Democratic, {reps} Republican')\n",
    "plt.rcParams['figure.figsize'] = (20, 10)\n",
    "plt.rcParams['font.size'] = '20'\n",
    "plt.xticks(rotation = 'vertical')\n",
    "plt.xlabel('State')\n",
    "plt.ylabel('Per capita funding')\n",
    "plt.bar(merged['STATE'],\n",
    "        merged['PER_CAPITA_FUNDING'],\n",
    "        color = merged['COLOR'])\n"
   ],
   "metadata": {
    "colab": {
     "base_uri": "https://localhost:8080/",
     "height": 848
    },
    "id": "QfrXR5aP25sY",
    "outputId": "f8c9757b-495e-46ce-d723-2fc8142676c7",
    "pycharm": {
     "is_executing": true
    }
   },
   "execution_count": null,
   "outputs": []
  },
  {
   "cell_type": "code",
   "source": [
    "top_n = 30\n",
    "n_largest = merged.nlargest(top_n, 'PER_CAPITA_FUNDING')\n",
    "dems = len(n_largest[n_largest['BIDEN_WON'] == 'YES'])\n",
    "reps = len(n_largest) - dems\n",
    "\n",
    "plt.title(f'Top {top_n} per capita funding: {dems} Democratic, {reps} Republican')\n",
    "plt.rcParams['figure.figsize'] = (20, 10)\n",
    "plt.rcParams['font.size'] = '20'\n",
    "plt.xticks(rotation = 'vertical')\n",
    "plt.xlabel('State')\n",
    "plt.ylabel('Per capita Funding')\n",
    "\n",
    "plt.bar(n_largest['STATE'],\n",
    "        n_largest['PER_CAPITA_FUNDING'],\n",
    "        color = n_largest['COLOR'],\n",
    "        label=['Republican' if s == 'NO' else 'Democratic' for s in n_largest['BIDEN_WON']])\n"
   ],
   "metadata": {
    "colab": {
     "base_uri": "https://localhost:8080/",
     "height": 848
    },
    "id": "_VcXNA3m6beD",
    "outputId": "cf510059-c966-4888-e38d-7f46ced93449",
    "pycharm": {
     "is_executing": true
    }
   },
   "execution_count": null,
   "outputs": []
  }
 ]
}
