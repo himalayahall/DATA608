{
 "cells": [
  {
   "cell_type": "code",
   "execution_count": 1,
   "id": "d4dc92f2",
   "metadata": {
    "tags": []
   },
   "outputs": [],
   "source": [
    "import pandas as pd\n",
    "from collections import namedtuple"
   ]
  },
  {
   "cell_type": "code",
   "execution_count": 2,
   "id": "9c8f022b-51c8-4c88-a2bb-7fc06d7551b2",
   "metadata": {
    "tags": []
   },
   "outputs": [],
   "source": [
    "job_title_to_datasrc = namedtuple('job_title_to_data', ['job_title', 'data_source'])\n",
    "comp_data = namedtuple('comp_data', ['state', 'annual_salary', 'monthly_pay', 'weekly_pay', 'hourly_wage'])"
   ]
  },
  {
   "cell_type": "code",
   "execution_count": 3,
   "id": "8278a3e3-65f0-4019-a6be-6f5430347116",
   "metadata": {
    "tags": []
   },
   "outputs": [
    {
     "data": {
      "text/plain": [
       "[job_title_to_data(job_title='Data Analyst', data_source='data-analyst.csv'),\n",
       " job_title_to_data(job_title='Data Engineer', data_source='data-engineer.csv'),\n",
       " job_title_to_data(job_title='Data Scientist', data_source='data-scientist.csv'),\n",
       " job_title_to_data(job_title='Data Warehouse Analyst', data_source='data-warehouse-analyst.csv'),\n",
       " job_title_to_data(job_title='Machine Learning Engineer', data_source='machine-learning-engineer.csv'),\n",
       " job_title_to_data(job_title='Business Analyst', data_source='business-analyst.csv')]"
      ]
     },
     "execution_count": 3,
     "metadata": {},
     "output_type": "execute_result"
    }
   ],
   "source": [
    "datasets = [\n",
    "    job_title_to_datasrc('Data Analyst', 'data-analyst.csv'),\n",
    "    job_title_to_datasrc('Data Engineer', 'data-engineer.csv'),\n",
    "    job_title_to_datasrc('Data Scientist', 'data-scientist.csv'),\n",
    "    job_title_to_datasrc('Data Warehouse Analyst', 'data-warehouse-analyst.csv'),\n",
    "    job_title_to_datasrc('Machine Learning Engineer', 'machine-learning-engineer.csv'),\n",
    "    job_title_to_datasrc('Business Analyst', 'business-analyst.csv')\n",
    "]\n",
    "datasets"
   ]
  },
  {
   "cell_type": "code",
   "execution_count": 4,
   "id": "d2aa432a-6eef-43d9-be80-3c9a08b22acd",
   "metadata": {
    "tags": []
   },
   "outputs": [],
   "source": [
    "data_frames = []"
   ]
  },
  {
   "cell_type": "code",
   "execution_count": 5,
   "id": "83a292db-8969-4c4f-88c3-f6a85fc684fb",
   "metadata": {
    "tags": []
   },
   "outputs": [],
   "source": [
    "for ds in datasets:\n",
    "    df = pd.read_csv(ds.data_source, delimiter='\\t')\n",
    "    df['Job Title'] = ds.job_title\n",
    "    data_frames.append(df)"
   ]
  },
  {
   "cell_type": "code",
   "execution_count": 9,
   "id": "46b10f3c-7ed0-47ef-a1aa-5d9e4062f7bb",
   "metadata": {
    "tags": []
   },
   "outputs": [
    {
     "data": {
      "text/html": [
       "<div>\n",
       "<style scoped>\n",
       "    .dataframe tbody tr th:only-of-type {\n",
       "        vertical-align: middle;\n",
       "    }\n",
       "\n",
       "    .dataframe tbody tr th {\n",
       "        vertical-align: top;\n",
       "    }\n",
       "\n",
       "    .dataframe thead th {\n",
       "        text-align: right;\n",
       "    }\n",
       "</style>\n",
       "<table border=\"1\" class=\"dataframe\">\n",
       "  <thead>\n",
       "    <tr style=\"text-align: right;\">\n",
       "      <th></th>\n",
       "      <th>State</th>\n",
       "      <th>Annual Salary</th>\n",
       "      <th>Monthly Pay</th>\n",
       "      <th>Weeky Pay</th>\n",
       "      <th>Hourly Wage</th>\n",
       "      <th>Job Title</th>\n",
       "    </tr>\n",
       "  </thead>\n",
       "  <tbody>\n",
       "    <tr>\n",
       "      <th>0</th>\n",
       "      <td>New York</td>\n",
       "      <td>$98,238</td>\n",
       "      <td>$8,186</td>\n",
       "      <td>$1,889</td>\n",
       "      <td>$47.23</td>\n",
       "      <td>Data Analyst</td>\n",
       "    </tr>\n",
       "    <tr>\n",
       "      <th>1</th>\n",
       "      <td>New Jersey</td>\n",
       "      <td>$84,878</td>\n",
       "      <td>$7,073</td>\n",
       "      <td>$1,632</td>\n",
       "      <td>$40.81</td>\n",
       "      <td>Data Analyst</td>\n",
       "    </tr>\n",
       "    <tr>\n",
       "      <th>2</th>\n",
       "      <td>Wisconsin</td>\n",
       "      <td>$84,340</td>\n",
       "      <td>$7,028</td>\n",
       "      <td>$1,621</td>\n",
       "      <td>$40.55</td>\n",
       "      <td>Data Analyst</td>\n",
       "    </tr>\n",
       "    <tr>\n",
       "      <th>3</th>\n",
       "      <td>Nevada</td>\n",
       "      <td>$83,624</td>\n",
       "      <td>$6,968</td>\n",
       "      <td>$1,608</td>\n",
       "      <td>$40.20</td>\n",
       "      <td>Data Analyst</td>\n",
       "    </tr>\n",
       "    <tr>\n",
       "      <th>4</th>\n",
       "      <td>Wyoming</td>\n",
       "      <td>$83,611</td>\n",
       "      <td>$6,967</td>\n",
       "      <td>$1,607</td>\n",
       "      <td>$40.20</td>\n",
       "      <td>Data Analyst</td>\n",
       "    </tr>\n",
       "  </tbody>\n",
       "</table>\n",
       "</div>"
      ],
      "text/plain": [
       "        State Annual Salary Monthly Pay Weeky Pay Hourly Wage     Job Title\n",
       "0    New York       $98,238      $8,186    $1,889      $47.23  Data Analyst\n",
       "1  New Jersey       $84,878      $7,073    $1,632      $40.81  Data Analyst\n",
       "2   Wisconsin       $84,340      $7,028    $1,621      $40.55  Data Analyst\n",
       "3      Nevada       $83,624      $6,968    $1,608      $40.20  Data Analyst\n",
       "4     Wyoming       $83,611      $6,967    $1,607      $40.20  Data Analyst"
      ]
     },
     "execution_count": 9,
     "metadata": {},
     "output_type": "execute_result"
    }
   ],
   "source": [
    "dfs = pd.concat(data_frames)\n",
    "dfs.head()"
   ]
  },
  {
   "cell_type": "code",
   "execution_count": 11,
   "id": "cfc10195-cc44-4fbe-9d89-e1ba9e80e1ec",
   "metadata": {
    "tags": []
   },
   "outputs": [
    {
     "data": {
      "text/html": [
       "<div>\n",
       "<style scoped>\n",
       "    .dataframe tbody tr th:only-of-type {\n",
       "        vertical-align: middle;\n",
       "    }\n",
       "\n",
       "    .dataframe tbody tr th {\n",
       "        vertical-align: top;\n",
       "    }\n",
       "\n",
       "    .dataframe thead th {\n",
       "        text-align: right;\n",
       "    }\n",
       "</style>\n",
       "<table border=\"1\" class=\"dataframe\">\n",
       "  <thead>\n",
       "    <tr style=\"text-align: right;\">\n",
       "      <th></th>\n",
       "      <th>State</th>\n",
       "      <th>Annual Salary</th>\n",
       "      <th>Monthly Pay</th>\n",
       "      <th>Weeky Pay</th>\n",
       "      <th>Hourly Wage</th>\n",
       "      <th>Job Title</th>\n",
       "    </tr>\n",
       "  </thead>\n",
       "  <tbody>\n",
       "    <tr>\n",
       "      <th>0</th>\n",
       "      <td>New York</td>\n",
       "      <td>98238</td>\n",
       "      <td>8186</td>\n",
       "      <td>1889</td>\n",
       "      <td>47.23</td>\n",
       "      <td>Data Analyst</td>\n",
       "    </tr>\n",
       "    <tr>\n",
       "      <th>1</th>\n",
       "      <td>New Jersey</td>\n",
       "      <td>84878</td>\n",
       "      <td>7073</td>\n",
       "      <td>1632</td>\n",
       "      <td>40.81</td>\n",
       "      <td>Data Analyst</td>\n",
       "    </tr>\n",
       "    <tr>\n",
       "      <th>2</th>\n",
       "      <td>Wisconsin</td>\n",
       "      <td>84340</td>\n",
       "      <td>7028</td>\n",
       "      <td>1621</td>\n",
       "      <td>40.55</td>\n",
       "      <td>Data Analyst</td>\n",
       "    </tr>\n",
       "    <tr>\n",
       "      <th>3</th>\n",
       "      <td>Nevada</td>\n",
       "      <td>83624</td>\n",
       "      <td>6968</td>\n",
       "      <td>1608</td>\n",
       "      <td>40.20</td>\n",
       "      <td>Data Analyst</td>\n",
       "    </tr>\n",
       "    <tr>\n",
       "      <th>4</th>\n",
       "      <td>Wyoming</td>\n",
       "      <td>83611</td>\n",
       "      <td>6967</td>\n",
       "      <td>1607</td>\n",
       "      <td>40.20</td>\n",
       "      <td>Data Analyst</td>\n",
       "    </tr>\n",
       "  </tbody>\n",
       "</table>\n",
       "</div>"
      ],
      "text/plain": [
       "        State Annual Salary Monthly Pay Weeky Pay Hourly Wage     Job Title\n",
       "0    New York         98238        8186      1889       47.23  Data Analyst\n",
       "1  New Jersey         84878        7073      1632       40.81  Data Analyst\n",
       "2   Wisconsin         84340        7028      1621       40.55  Data Analyst\n",
       "3      Nevada         83624        6968      1608       40.20  Data Analyst\n",
       "4     Wyoming         83611        6967      1607       40.20  Data Analyst"
      ]
     },
     "execution_count": 11,
     "metadata": {},
     "output_type": "execute_result"
    }
   ],
   "source": [
    "dfs = dfs.replace(regex=r'^\\$(.+)$', value='\\\\1')\n",
    "dfs = dfs.replace(regex=r',(.+)', value='\\\\1')\n",
    "dfs.head()"
   ]
  },
  {
   "cell_type": "code",
   "execution_count": 15,
   "id": "26f6b0d4",
   "metadata": {},
   "outputs": [
    {
     "data": {
      "text/html": [
       "<div>\n",
       "<style scoped>\n",
       "    .dataframe tbody tr th:only-of-type {\n",
       "        vertical-align: middle;\n",
       "    }\n",
       "\n",
       "    .dataframe tbody tr th {\n",
       "        vertical-align: top;\n",
       "    }\n",
       "\n",
       "    .dataframe thead th {\n",
       "        text-align: right;\n",
       "    }\n",
       "</style>\n",
       "<table border=\"1\" class=\"dataframe\">\n",
       "  <thead>\n",
       "    <tr style=\"text-align: right;\">\n",
       "      <th></th>\n",
       "      <th>State</th>\n",
       "      <th>Annual Salary</th>\n",
       "      <th>Monthly Pay</th>\n",
       "      <th>Weeky Pay</th>\n",
       "      <th>Hourly Wage</th>\n",
       "      <th>Job Title</th>\n",
       "      <th>StateShort</th>\n",
       "      <th>State Code</th>\n",
       "    </tr>\n",
       "  </thead>\n",
       "  <tbody>\n",
       "    <tr>\n",
       "      <th>0</th>\n",
       "      <td>New York</td>\n",
       "      <td>98238</td>\n",
       "      <td>8186</td>\n",
       "      <td>1889</td>\n",
       "      <td>47.23</td>\n",
       "      <td>Data Analyst</td>\n",
       "      <td>NY</td>\n",
       "      <td>NY</td>\n",
       "    </tr>\n",
       "    <tr>\n",
       "      <th>1</th>\n",
       "      <td>New Jersey</td>\n",
       "      <td>84878</td>\n",
       "      <td>7073</td>\n",
       "      <td>1632</td>\n",
       "      <td>40.81</td>\n",
       "      <td>Data Analyst</td>\n",
       "      <td>NJ</td>\n",
       "      <td>NJ</td>\n",
       "    </tr>\n",
       "    <tr>\n",
       "      <th>2</th>\n",
       "      <td>Wisconsin</td>\n",
       "      <td>84340</td>\n",
       "      <td>7028</td>\n",
       "      <td>1621</td>\n",
       "      <td>40.55</td>\n",
       "      <td>Data Analyst</td>\n",
       "      <td>WI</td>\n",
       "      <td>WI</td>\n",
       "    </tr>\n",
       "    <tr>\n",
       "      <th>3</th>\n",
       "      <td>Nevada</td>\n",
       "      <td>83624</td>\n",
       "      <td>6968</td>\n",
       "      <td>1608</td>\n",
       "      <td>40.20</td>\n",
       "      <td>Data Analyst</td>\n",
       "      <td>NV</td>\n",
       "      <td>NV</td>\n",
       "    </tr>\n",
       "    <tr>\n",
       "      <th>4</th>\n",
       "      <td>Wyoming</td>\n",
       "      <td>83611</td>\n",
       "      <td>6967</td>\n",
       "      <td>1607</td>\n",
       "      <td>40.20</td>\n",
       "      <td>Data Analyst</td>\n",
       "      <td>WY</td>\n",
       "      <td>WY</td>\n",
       "    </tr>\n",
       "  </tbody>\n",
       "</table>\n",
       "</div>"
      ],
      "text/plain": [
       "        State Annual Salary Monthly Pay Weeky Pay Hourly Wage     Job Title   \n",
       "0    New York         98238        8186      1889       47.23  Data Analyst  \\\n",
       "1  New Jersey         84878        7073      1632       40.81  Data Analyst   \n",
       "2   Wisconsin         84340        7028      1621       40.55  Data Analyst   \n",
       "3      Nevada         83624        6968      1608       40.20  Data Analyst   \n",
       "4     Wyoming         83611        6967      1607       40.20  Data Analyst   \n",
       "\n",
       "  StateShort State Code  \n",
       "0         NY         NY  \n",
       "1         NJ         NJ  \n",
       "2         WI         WI  \n",
       "3         NV         NV  \n",
       "4         WY         WY  "
      ]
     },
     "execution_count": 15,
     "metadata": {},
     "output_type": "execute_result"
    }
   ],
   "source": [
    "us_state_to_abbrev = {\n",
    "    'AK': 'Alaska',\n",
    "    'AL': 'Alabama',\n",
    "    'AR': 'Arkansas',\n",
    "    'AZ': 'Arizona',\n",
    "    'CA': 'California',\n",
    "    'CO': 'Colorado',\n",
    "    'CT': 'Connecticut',\n",
    "    'DC': 'District Of Columbia',\n",
    "    'DE': 'Delaware',\n",
    "    'FL': 'Florida',\n",
    "    'GA': 'Georgia',\n",
    "    'HI': 'Hawaii',\n",
    "    'IA': 'Iowa',\n",
    "    'ID': 'Idaho',\n",
    "    'IL': 'Illinois',\n",
    "    'IN': 'Indiana',\n",
    "    'KS': 'Kansas',\n",
    "    'KY': 'Kentucky',\n",
    "    'LA': 'Louisiana',\n",
    "    'MA': 'Massachusetts',\n",
    "    'MD': 'Maryland',\n",
    "    'ME': 'Maine',\n",
    "    'MI': 'Michigan',\n",
    "    'MN': 'Minnesota',\n",
    "    'MO': 'Missouri',\n",
    "    'MS': 'Mississippi',\n",
    "    'MT': 'Montana',\n",
    "    'NC': 'North Carolina',\n",
    "    'ND': 'North Dakota',\n",
    "    'NE': 'Nebraska',\n",
    "    'NH': 'New Hampshire',\n",
    "    'NJ': 'New Jersey',\n",
    "    'NM': 'New Mexico',\n",
    "    'NV': 'Nevada',\n",
    "    'NY': 'New York',\n",
    "    'OH': 'Ohio',\n",
    "    'OK': 'Oklahoma',\n",
    "    'OR': 'Oregon',\n",
    "    'PA': 'Pennsylvania',\n",
    "    'RI': 'Rhode Island',\n",
    "    'SC': 'South Carolina',\n",
    "    'SD': 'South Dakota',\n",
    "    'TN': 'Tennessee',\n",
    "    'TX': 'Texas',\n",
    "    'UT': 'Utah',\n",
    "    'VA': 'Virginia',\n",
    "    'VT': 'Vermont',\n",
    "    'WA': 'Washington',\n",
    "    'WI': 'Wisconsin',\n",
    "    'WV': 'West Virginia',\n",
    "    'WY': 'Wyoming'\n",
    "}\n",
    "us_state_to_abbrev = dict(map(reversed, us_state_to_abbrev.items()))\n",
    "dfs['State Code'] = [us_state_to_abbrev[s] for s in dfs['State']]\n",
    "dfs.head()"
   ]
  },
  {
   "cell_type": "code",
   "execution_count": 17,
   "id": "726e6a3c-3e32-488d-a2aa-7c97d7d04c12",
   "metadata": {
    "tags": []
   },
   "outputs": [],
   "source": [
    "dfs.to_csv('salary.csv', index=False)"
   ]
  }
 ],
 "metadata": {
  "kernelspec": {
   "display_name": "Python 3 (ipykernel)",
   "language": "python",
   "name": "python3"
  },
  "language_info": {
   "codemirror_mode": {
    "name": "ipython",
    "version": 3
   },
   "file_extension": ".py",
   "mimetype": "text/x-python",
   "name": "python",
   "nbconvert_exporter": "python",
   "pygments_lexer": "ipython3",
   "version": "3.11.3"
  }
 },
 "nbformat": 4,
 "nbformat_minor": 5
}
