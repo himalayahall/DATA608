{
 "cells": [
  {
   "cell_type": "code",
   "execution_count": 11,
   "id": "917038c3-5e3e-4225-af99-03dd6b50064c",
   "metadata": {
    "tags": []
   },
   "outputs": [],
   "source": [
    "import pandas as pd\n",
    "import numpy as np\n",
    "\n",
    "import geopandas as gpd\n",
    "import json\n",
    "\n",
    "import statsmodels\n",
    "\n",
    "import plotly.express as px\n",
    "# import plotly.io as pio\n",
    "# pio.renderers.default='notebook'"
   ]
  },
  {
   "cell_type": "code",
   "execution_count": 12,
   "id": "85219cb6-0114-43d5-8a10-d4fc36e43beb",
   "metadata": {
    "tags": []
   },
   "outputs": [
    {
     "data": {
      "text/html": [
       "<div>\n",
       "<style scoped>\n",
       "    .dataframe tbody tr th:only-of-type {\n",
       "        vertical-align: middle;\n",
       "    }\n",
       "\n",
       "    .dataframe tbody tr th {\n",
       "        vertical-align: top;\n",
       "    }\n",
       "\n",
       "    .dataframe thead th {\n",
       "        text-align: right;\n",
       "    }\n",
       "</style>\n",
       "<table border=\"1\" class=\"dataframe\">\n",
       "  <thead>\n",
       "    <tr style=\"text-align: right;\">\n",
       "      <th></th>\n",
       "      <th>State</th>\n",
       "      <th>Annual Salary</th>\n",
       "      <th>Monthly Pay</th>\n",
       "      <th>Weeky Pay</th>\n",
       "      <th>Houly Wage</th>\n",
       "      <th>Job Title</th>\n",
       "    </tr>\n",
       "  </thead>\n",
       "  <tbody>\n",
       "    <tr>\n",
       "      <th>0</th>\n",
       "      <td>New York</td>\n",
       "      <td>98238</td>\n",
       "      <td>8186</td>\n",
       "      <td>1889</td>\n",
       "      <td>47.23</td>\n",
       "      <td>Data Analyst</td>\n",
       "    </tr>\n",
       "    <tr>\n",
       "      <th>1</th>\n",
       "      <td>New Jersey</td>\n",
       "      <td>84878</td>\n",
       "      <td>7073</td>\n",
       "      <td>1632</td>\n",
       "      <td>40.81</td>\n",
       "      <td>Data Analyst</td>\n",
       "    </tr>\n",
       "    <tr>\n",
       "      <th>2</th>\n",
       "      <td>Wisconsin</td>\n",
       "      <td>84340</td>\n",
       "      <td>7028</td>\n",
       "      <td>1621</td>\n",
       "      <td>40.55</td>\n",
       "      <td>Data Analyst</td>\n",
       "    </tr>\n",
       "    <tr>\n",
       "      <th>3</th>\n",
       "      <td>Nevada</td>\n",
       "      <td>83624</td>\n",
       "      <td>6968</td>\n",
       "      <td>1608</td>\n",
       "      <td>40.20</td>\n",
       "      <td>Data Analyst</td>\n",
       "    </tr>\n",
       "    <tr>\n",
       "      <th>4</th>\n",
       "      <td>Wyoming</td>\n",
       "      <td>83611</td>\n",
       "      <td>6967</td>\n",
       "      <td>1607</td>\n",
       "      <td>40.20</td>\n",
       "      <td>Data Analyst</td>\n",
       "    </tr>\n",
       "  </tbody>\n",
       "</table>\n",
       "</div>"
      ],
      "text/plain": [
       "        State  Annual Salary  Monthly Pay  Weeky Pay  Houly Wage     Job Title\n",
       "0    New York          98238         8186       1889       47.23  Data Analyst\n",
       "1  New Jersey          84878         7073       1632       40.81  Data Analyst\n",
       "2   Wisconsin          84340         7028       1621       40.55  Data Analyst\n",
       "3      Nevada          83624         6968       1608       40.20  Data Analyst\n",
       "4     Wyoming          83611         6967       1607       40.20  Data Analyst"
      ]
     },
     "execution_count": 12,
     "metadata": {},
     "output_type": "execute_result"
    }
   ],
   "source": [
    "salary_df = pd.read_csv('salary.csv')\n",
    "salary_df.head()"
   ]
  },
  {
   "cell_type": "code",
   "execution_count": 13,
   "id": "0d4f83e8-a7da-4c58-a8a5-c5dafa17588d",
   "metadata": {
    "tags": []
   },
   "outputs": [],
   "source": [
    "us_states = json.load(open('states.geojson', 'r'))"
   ]
  },
  {
   "cell_type": "code",
   "execution_count": 14,
   "id": "da619853-d746-4ea0-90c5-697d09c7c8f9",
   "metadata": {
    "tags": []
   },
   "outputs": [],
   "source": [
    "for feat in us_states['features']:\n",
    "    feat['id'] = feat['properties']['NAME']"
   ]
  },
  {
   "cell_type": "code",
   "execution_count": 15,
   "id": "2247f162-52da-4b1d-bbd6-cdc81c84bb90",
   "metadata": {
    "tags": []
   },
   "outputs": [],
   "source": [
    "# fig = px.choropleth(salary_df, locations='State', scope='usa', geojson=us_states,\n",
    "#                     color='Annual Salary',\n",
    "#                     hover_name='State', \n",
    "#                     hover_data=['Annual Salary', 'Job Title'],\n",
    "#                     #color_continuous_scale='Tealrose',\n",
    "#                     #color_continuous_midpoint=np.average(salary_df['Annual Salary']),                \n",
    "#                     title='Firearm Mortality (Hover over map for details)')\n",
    "\n",
    "\n",
    "# fig.show()"
   ]
  },
  {
   "cell_type": "code",
   "execution_count": 33,
   "id": "2ab324c9-ce0f-4a76-be1d-e2bb5f5a60ba",
   "metadata": {
    "tags": []
   },
   "outputs": [
    {
     "data": {
      "application/vnd.plotly.v1+json": {
       "config": {
        "plotlyServerURL": "https://plot.ly"
       },
       "data": [
        {
         "branchvalues": "total",
         "customdata": [
          [
           "Business Analyst",
           74375
          ],
          [
           "Business Analyst",
           89739
          ],
          [
           "Business Analyst",
           88010
          ],
          [
           "Business Analyst",
           71249
          ],
          [
           "Business Analyst",
           100388
          ],
          [
           "Business Analyst",
           81671
          ],
          [
           "Business Analyst",
           86262
          ],
          [
           "Business Analyst",
           99863
          ],
          [
           "Business Analyst",
           74298
          ],
          [
           "Business Analyst",
           86516
          ],
          [
           "Business Analyst",
           91285
          ],
          [
           "Business Analyst",
           86739
          ],
          [
           "Business Analyst",
           84744
          ],
          [
           "Business Analyst",
           88038
          ],
          [
           "Business Analyst",
           86728
          ],
          [
           "Business Analyst",
           77279
          ],
          [
           "Business Analyst",
           72376
          ],
          [
           "Business Analyst",
           74802
          ],
          [
           "Business Analyst",
           91428
          ],
          [
           "Business Analyst",
           101187
          ],
          [
           "Business Analyst",
           95305
          ],
          [
           "Business Analyst",
           78149
          ],
          [
           "Business Analyst",
           89712
          ],
          [
           "Business Analyst",
           80378
          ],
          [
           "Business Analyst",
           77728
          ],
          [
           "Business Analyst",
           84436
          ],
          [
           "Business Analyst",
           91371
          ],
          [
           "Business Analyst",
           94881
          ],
          [
           "Business Analyst",
           86804
          ],
          [
           "Business Analyst",
           92173
          ],
          [
           "Business Analyst",
           83516
          ],
          [
           "Business Analyst",
           103867
          ],
          [
           "Business Analyst",
           72016
          ],
          [
           "Business Analyst",
           87059
          ],
          [
           "Business Analyst",
           83353
          ],
          [
           "Business Analyst",
           95802
          ],
          [
           "Business Analyst",
           92319
          ],
          [
           "Business Analyst",
           86897
          ],
          [
           "Business Analyst",
           87199
          ],
          [
           "Business Analyst",
           78875
          ],
          [
           "Business Analyst",
           87125
          ],
          [
           "Business Analyst",
           81583
          ],
          [
           "Business Analyst",
           89690
          ],
          [
           "Business Analyst",
           81684
          ],
          [
           "Business Analyst",
           93341
          ],
          [
           "Business Analyst",
           100834
          ],
          [
           "Business Analyst",
           108915
          ],
          [
           "Business Analyst",
           74874
          ],
          [
           "Business Analyst",
           92253
          ],
          [
           "Business Analyst",
           88732
          ],
          [
           "Data Analyst",
           69689
          ],
          [
           "Data Analyst",
           79092
          ],
          [
           "Data Analyst",
           82463
          ],
          [
           "Data Analyst",
           62193
          ],
          [
           "Data Analyst",
           75874
          ],
          [
           "Data Analyst",
           71206
          ],
          [
           "Data Analyst",
           77036
          ],
          [
           "Data Analyst",
           71386
          ],
          [
           "Data Analyst",
           69613
          ],
          [
           "Data Analyst",
           81062
          ],
          [
           "Data Analyst",
           80736
          ],
          [
           "Data Analyst",
           65296
          ],
          [
           "Data Analyst",
           73973
          ],
          [
           "Data Analyst",
           82490
          ],
          [
           "Data Analyst",
           78124
          ],
          [
           "Data Analyst",
           68643
          ],
          [
           "Data Analyst",
           63288
          ],
          [
           "Data Analyst",
           67789
          ],
          [
           "Data Analyst",
           69468
          ],
          [
           "Data Analyst",
           72435
          ],
          [
           "Data Analyst",
           83473
          ],
          [
           "Data Analyst",
           68115
          ],
          [
           "Data Analyst",
           81303
          ],
          [
           "Data Analyst",
           71412
          ],
          [
           "Data Analyst",
           67649
          ],
          [
           "Data Analyst",
           79115
          ],
          [
           "Data Analyst",
           65690
          ],
          [
           "Data Analyst",
           83624
          ],
          [
           "Data Analyst",
           82409
          ],
          [
           "Data Analyst",
           84878
          ],
          [
           "Data Analyst",
           76401
          ],
          [
           "Data Analyst",
           98238
          ],
          [
           "Data Analyst",
           62709
          ],
          [
           "Data Analyst",
           77057
          ],
          [
           "Data Analyst",
           75739
          ],
          [
           "Data Analyst",
           68874
          ],
          [
           "Data Analyst",
           81828
          ],
          [
           "Data Analyst",
           82161
          ],
          [
           "Data Analyst",
           77290
          ],
          [
           "Data Analyst",
           68682
          ],
          [
           "Data Analyst",
           77115
          ],
          [
           "Data Analyst",
           74134
          ],
          [
           "Data Analyst",
           67273
          ],
          [
           "Data Analyst",
           73901
          ],
          [
           "Data Analyst",
           72641
          ],
          [
           "Data Analyst",
           72494
          ],
          [
           "Data Analyst",
           81244
          ],
          [
           "Data Analyst",
           70795
          ],
          [
           "Data Analyst",
           84340
          ],
          [
           "Data Analyst",
           83611
          ],
          [
           "Data Engineer",
           96843
          ],
          [
           "Data Engineer",
           141854
          ],
          [
           "Data Engineer",
           114596
          ],
          [
           "Data Engineer",
           109017
          ],
          [
           "Data Engineer",
           128004
          ],
          [
           "Data Engineer",
           124464
          ],
          [
           "Data Engineer",
           114164
          ],
          [
           "Data Engineer",
           123888
          ],
          [
           "Data Engineer",
           96743
          ],
          [
           "Data Engineer",
           112652
          ],
          [
           "Data Engineer",
           145975
          ],
          [
           "Data Engineer",
           110380
          ],
          [
           "Data Engineer",
           129669
          ],
          [
           "Data Engineer",
           114633
          ],
          [
           "Data Engineer",
           114453
          ],
          [
           "Data Engineer",
           102456
          ],
          [
           "Data Engineer",
           111411
          ],
          [
           "Data Engineer",
           98517
          ],
          [
           "Data Engineer",
           116888
          ],
          [
           "Data Engineer",
           125616
          ],
          [
           "Data Engineer",
           147512
          ],
          [
           "Data Engineer",
           118975
          ],
          [
           "Data Engineer",
           118153
          ],
          [
           "Data Engineer",
           106556
          ],
          [
           "Data Engineer",
           117743
          ],
          [
           "Data Engineer",
           109941
          ],
          [
           "Data Engineer",
           113668
          ],
          [
           "Data Engineer",
           149976
          ],
          [
           "Data Engineer",
           112502
          ],
          [
           "Data Engineer",
           120740
          ],
          [
           "Data Engineer",
           109645
          ],
          [
           "Data Engineer",
           134797
          ],
          [
           "Data Engineer",
           109277
          ],
          [
           "Data Engineer",
           139565
          ],
          [
           "Data Engineer",
           109680
          ],
          [
           "Data Engineer",
           119180
          ],
          [
           "Data Engineer",
           148689
          ],
          [
           "Data Engineer",
           112786
          ],
          [
           "Data Engineer",
           140442
          ],
          [
           "Data Engineer",
           119684
          ],
          [
           "Data Engineer",
           139670
          ],
          [
           "Data Engineer",
           107350
          ],
          [
           "Data Engineer",
           113930
          ],
          [
           "Data Engineer",
           107642
          ],
          [
           "Data Engineer",
           120783
          ],
          [
           "Data Engineer",
           125440
          ],
          [
           "Data Engineer",
           137971
          ],
          [
           "Data Engineer",
           97183
          ],
          [
           "Data Engineer",
           121144
          ],
          [
           "Data Engineer",
           115307
          ],
          [
           "Data Scientist",
           103437
          ],
          [
           "Data Scientist",
           121680
          ],
          [
           "Data Scientist",
           122400
          ],
          [
           "Data Scientist",
           96232
          ],
          [
           "Data Scientist",
           143099
          ],
          [
           "Data Scientist",
           110256
          ],
          [
           "Data Scientist",
           117597
          ],
          [
           "Data Scientist",
           110729
          ],
          [
           "Data Scientist",
           103328
          ],
          [
           "Data Scientist",
           120321
          ],
          [
           "Data Scientist",
           123953
          ],
          [
           "Data Scientist",
           123923
          ],
          [
           "Data Scientist",
           114459
          ],
          [
           "Data Scientist",
           122439
          ],
          [
           "Data Scientist",
           118653
          ],
          [
           "Data Scientist",
           105118
          ],
          [
           "Data Scientist",
           97824
          ],
          [
           "Data Scientist",
           102592
          ],
          [
           "Data Scientist",
           129931
          ],
          [
           "Data Scientist",
           112378
          ],
          [
           "Data Scientist",
           128900
          ],
          [
           "Data Scientist",
           105489
          ],
          [
           "Data Scientist",
           123044
          ],
          [
           "Data Scientist",
           109345
          ],
          [
           "Data Scientist",
           104859
          ],
          [
           "Data Scientist",
           117429
          ],
          [
           "Data Scientist",
           101966
          ],
          [
           "Data Scientist",
           128653
          ],
          [
           "Data Scientist",
           121396
          ],
          [
           "Data Scientist",
           127259
          ],
          [
           "Data Scientist",
           114991
          ],
          [
           "Data Scientist",
           145027
          ],
          [
           "Data Scientist",
           97172
          ],
          [
           "Data Scientist",
           118252
          ],
          [
           "Data Scientist",
           114445
          ],
          [
           "Data Scientist",
           106910
          ],
          [
           "Data Scientist",
           125467
          ],
          [
           "Data Scientist",
           121315
          ],
          [
           "Data Scientist",
           118510
          ],
          [
           "Data Scientist",
           106427
          ],
          [
           "Data Scientist",
           118340
          ],
          [
           "Data Scientist",
           112017
          ],
          [
           "Data Scientist",
           104965
          ],
          [
           "Data Scientist",
           111953
          ],
          [
           "Data Scientist",
           130783
          ],
          [
           "Data Scientist",
           112528
          ],
          [
           "Data Scientist",
           126680
          ],
          [
           "Data Scientist",
           104532
          ],
          [
           "Data Scientist",
           126987
          ],
          [
           "Data Scientist",
           123698
          ],
          [
           "Machine Learning Engineer",
           106372
          ],
          [
           "Machine Learning Engineer",
           123316
          ],
          [
           "Machine Learning Engineer",
           125872
          ],
          [
           "Machine Learning Engineer",
           97299
          ],
          [
           "Machine Learning Engineer",
           119362
          ],
          [
           "Machine Learning Engineer",
           111448
          ],
          [
           "Machine Learning Engineer",
           119554
          ],
          [
           "Machine Learning Engineer",
           111847
          ],
          [
           "Machine Learning Engineer",
           106258
          ],
          [
           "Machine Learning Engineer",
           123735
          ],
          [
           "Machine Learning Engineer",
           125723
          ],
          [
           "Machine Learning Engineer",
           102694
          ],
          [
           "Machine Learning Engineer",
           115728
          ],
          [
           "Machine Learning Engineer",
           125913
          ],
          [
           "Machine Learning Engineer",
           120877
          ],
          [
           "Machine Learning Engineer",
           106730
          ],
          [
           "Machine Learning Engineer",
           98950
          ],
          [
           "Machine Learning Engineer",
           104667
          ],
          [
           "Machine Learning Engineer",
           109324
          ],
          [
           "Machine Learning Engineer",
           113503
          ],
          [
           "Machine Learning Engineer",
           130436
          ],
          [
           "Machine Learning Engineer",
           106621
          ],
          [
           "Machine Learning Engineer",
           125531
          ],
          [
           "Machine Learning Engineer",
           111027
          ],
          [
           "Machine Learning Engineer",
           105947
          ],
          [
           "Machine Learning Engineer",
           120760
          ],
          [
           "Machine Learning Engineer",
           102966
          ],
          [
           "Machine Learning Engineer",
           130380
          ],
          [
           "Machine Learning Engineer",
           125231
          ],
          [
           "Machine Learning Engineer",
           130329
          ],
          [
           "Machine Learning Engineer",
           117578
          ],
          [
           "Machine Learning Engineer",
           149475
          ],
          [
           "Machine Learning Engineer",
           98192
          ],
          [
           "Machine Learning Engineer",
           119962
          ],
          [
           "Machine Learning Engineer",
           116832
          ],
          [
           "Machine Learning Engineer",
           107958
          ],
          [
           "Machine Learning Engineer",
           127326
          ],
          [
           "Machine Learning Engineer",
           125027
          ],
          [
           "Machine Learning Engineer",
           120265
          ],
          [
           "Machine Learning Engineer",
           107544
          ],
          [
           "Machine Learning Engineer",
           120052
          ],
          [
           "Machine Learning Engineer",
           114355
          ],
          [
           "Machine Learning Engineer",
           105775
          ],
          [
           "Machine Learning Engineer",
           114169
          ],
          [
           "Machine Learning Engineer",
           135058
          ],
          [
           "Machine Learning Engineer",
           113631
          ],
          [
           "Machine Learning Engineer",
           127691
          ],
          [
           "Machine Learning Engineer",
           107730
          ],
          [
           "Machine Learning Engineer",
           129825
          ],
          [
           "Machine Learning Engineer",
           127379
          ],
          [
           "(?)",
           92699.12616370397
          ],
          [
           "(?)",
           115973.0999566298
          ],
          [
           "(?)",
           109692.80454530966
          ],
          [
           "(?)",
           90728.66066652905
          ],
          [
           "(?)",
           118124.33372858536
          ],
          [
           "(?)",
           103815.84068170204
          ],
          [
           "(?)",
           105965.66771729436
          ],
          [
           "(?)",
           106598.59644049889
          ],
          [
           "(?)",
           92601.29879619759
          ],
          [
           "(?)",
           107830.52087982514
          ],
          [
           "(?)",
           118608.23236657788
          ],
          [
           "(?)",
           101985.0105964436
          ],
          [
           "(?)",
           107914.28109639337
          ],
          [
           "(?)",
           109728.17255249638
          ],
          [
           "(?)",
           106805.39691231317
          ],
          [
           "(?)",
           94784.35388265766
          ],
          [
           "(?)",
           92411.39377806416
          ],
          [
           "(?)",
           92282.85392769762
          ],
          [
           "(?)",
           107693.01443218016
          ],
          [
           "(?)",
           108121.70868507901
          ],
          [
           "(?)",
           121987.98378828808
          ],
          [
           "(?)",
           99294.09470429392
          ],
          [
           "(?)",
           110678.16793338081
          ],
          [
           "(?)",
           98592.0761659265
          ],
          [
           "(?)",
           98542.00850765732
          ],
          [
           "(?)",
           105237.81895946889
          ],
          [
           "(?)",
           97933.84842776683
          ],
          [
           "(?)",
           122616.17071593188
          ],
          [
           "(?)",
           108646.804301002
          ],
          [
           "(?)",
           114262.12682690559
          ],
          [
           "(?)",
           103322.79275129398
          ],
          [
           "(?)",
           129845.38567383165
          ],
          [
           "(?)",
           91368.59045533792
          ],
          [
           "(?)",
           113250.45793557793
          ],
          [
           "(?)",
           102912.30535207549
          ],
          [
           "(?)",
           102682.44829605153
          ],
          [
           "(?)",
           120356.8903425644
          ],
          [
           "(?)",
           108619.46412816698
          ],
          [
           "(?)",
           113682.12855844887
          ],
          [
           "(?)",
           100070.57361412434
          ],
          [
           "(?)",
           113335.44049994284
          ],
          [
           "(?)",
           100728.6559898169
          ],
          [
           "(?)",
           99154.33406556444
          ],
          [
           "(?)",
           100722.52848376108
          ],
          [
           "(?)",
           115674.90527428222
          ],
          [
           "(?)",
           108077.1690863682
          ],
          [
           "(?)",
           119917.1769370353
          ],
          [
           "(?)",
           93592.5401415909
          ],
          [
           "(?)",
           114110.65413335882
          ],
          [
           "(?)",
           110791.6927107793
          ],
          [
           "(?)",
           107270.47884083616
          ]
         ],
         "domain": {
          "x": [
           0,
           1
          ],
          "y": [
           0,
           1
          ]
         },
         "hovertemplate": "Job Title=%{label}<br>Annual Salary=%{value}<extra></extra>",
         "hovertext": [
          "Alabama",
          "Alaska",
          "Arizona",
          "Arkansas",
          "California",
          "Colorado",
          "Connecticut",
          "Delaware",
          "Florida",
          "Georgia",
          "Hawaii",
          "Idaho",
          "Illinois",
          "Indiana",
          "Iowa",
          "Kansas",
          "Kentucky",
          "Louisiana",
          "Maine",
          "Maryland",
          "Massachusetts",
          "Michigan",
          "Minnesota",
          "Mississippi",
          "Missouri",
          "Montana",
          "Nebraska",
          "Nevada",
          "New Hampshire",
          "New Jersey",
          "New Mexico",
          "New York",
          "North Carolina",
          "North Dakota",
          "Ohio",
          "Oklahoma",
          "Oregon",
          "Pennsylvania",
          "Rhode Island",
          "South Carolina",
          "South Dakota",
          "Tennessee",
          "Texas",
          "Utah",
          "Vermont",
          "Virginia",
          "Washington",
          "West Virginia",
          "Wisconsin",
          "Wyoming",
          "Alabama",
          "Alaska",
          "Arizona",
          "Arkansas",
          "California",
          "Colorado",
          "Connecticut",
          "Delaware",
          "Florida",
          "Georgia",
          "Hawaii",
          "Idaho",
          "Illinois",
          "Indiana",
          "Iowa",
          "Kansas",
          "Kentucky",
          "Louisiana",
          "Maine",
          "Maryland",
          "Massachusetts",
          "Michigan",
          "Minnesota",
          "Mississippi",
          "Missouri",
          "Montana",
          "Nebraska",
          "Nevada",
          "New Hampshire",
          "New Jersey",
          "New Mexico",
          "New York",
          "North Carolina",
          "North Dakota",
          "Ohio",
          "Oklahoma",
          "Oregon",
          "Pennsylvania",
          "Rhode Island",
          "South Carolina",
          "South Dakota",
          "Tennessee",
          "Texas",
          "Utah",
          "Vermont",
          "Virginia",
          "Washington",
          "West Virginia",
          "Wisconsin",
          "Wyoming",
          "Alabama",
          "Alaska",
          "Arizona",
          "Arkansas",
          "California",
          "Colorado",
          "Connecticut",
          "Delaware",
          "Florida",
          "Georgia",
          "Hawaii",
          "Idaho",
          "Illinois",
          "Indiana",
          "Iowa",
          "Kansas",
          "Kentucky",
          "Louisiana",
          "Maine",
          "Maryland",
          "Massachusetts",
          "Michigan",
          "Minnesota",
          "Mississippi",
          "Missouri",
          "Montana",
          "Nebraska",
          "Nevada",
          "New Hampshire",
          "New Jersey",
          "New Mexico",
          "New York",
          "North Carolina",
          "North Dakota",
          "Ohio",
          "Oklahoma",
          "Oregon",
          "Pennsylvania",
          "Rhode Island",
          "South Carolina",
          "South Dakota",
          "Tennessee",
          "Texas",
          "Utah",
          "Vermont",
          "Virginia",
          "Washington",
          "West Virginia",
          "Wisconsin",
          "Wyoming",
          "Alabama",
          "Alaska",
          "Arizona",
          "Arkansas",
          "California",
          "Colorado",
          "Connecticut",
          "Delaware",
          "Florida",
          "Georgia",
          "Hawaii",
          "Idaho",
          "Illinois",
          "Indiana",
          "Iowa",
          "Kansas",
          "Kentucky",
          "Louisiana",
          "Maine",
          "Maryland",
          "Massachusetts",
          "Michigan",
          "Minnesota",
          "Mississippi",
          "Missouri",
          "Montana",
          "Nebraska",
          "Nevada",
          "New Hampshire",
          "New Jersey",
          "New Mexico",
          "New York",
          "North Carolina",
          "North Dakota",
          "Ohio",
          "Oklahoma",
          "Oregon",
          "Pennsylvania",
          "Rhode Island",
          "South Carolina",
          "South Dakota",
          "Tennessee",
          "Texas",
          "Utah",
          "Vermont",
          "Virginia",
          "Washington",
          "West Virginia",
          "Wisconsin",
          "Wyoming",
          "Alabama",
          "Alaska",
          "Arizona",
          "Arkansas",
          "California",
          "Colorado",
          "Connecticut",
          "Delaware",
          "Florida",
          "Georgia",
          "Hawaii",
          "Idaho",
          "Illinois",
          "Indiana",
          "Iowa",
          "Kansas",
          "Kentucky",
          "Louisiana",
          "Maine",
          "Maryland",
          "Massachusetts",
          "Michigan",
          "Minnesota",
          "Mississippi",
          "Missouri",
          "Montana",
          "Nebraska",
          "Nevada",
          "New Hampshire",
          "New Jersey",
          "New Mexico",
          "New York",
          "North Carolina",
          "North Dakota",
          "Ohio",
          "Oklahoma",
          "Oregon",
          "Pennsylvania",
          "Rhode Island",
          "South Carolina",
          "South Dakota",
          "Tennessee",
          "Texas",
          "Utah",
          "Vermont",
          "Virginia",
          "Washington",
          "West Virginia",
          "Wisconsin",
          "Wyoming",
          "Alabama",
          "Alaska",
          "Arizona",
          "Arkansas",
          "California",
          "Colorado",
          "Connecticut",
          "Delaware",
          "Florida",
          "Georgia",
          "Hawaii",
          "Idaho",
          "Illinois",
          "Indiana",
          "Iowa",
          "Kansas",
          "Kentucky",
          "Louisiana",
          "Maine",
          "Maryland",
          "Massachusetts",
          "Michigan",
          "Minnesota",
          "Mississippi",
          "Missouri",
          "Montana",
          "Nebraska",
          "Nevada",
          "New Hampshire",
          "New Jersey",
          "New Mexico",
          "New York",
          "North Carolina",
          "North Dakota",
          "Ohio",
          "Oklahoma",
          "Oregon",
          "Pennsylvania",
          "Rhode Island",
          "South Carolina",
          "South Dakota",
          "Tennessee",
          "Texas",
          "Utah",
          "Vermont",
          "Virginia",
          "Washington",
          "West Virginia",
          "Wisconsin",
          "Wyoming",
          "(?)"
         ],
         "ids": [
          "Data Practicioner Salaries/Alabama/Business Analyst",
          "Data Practicioner Salaries/Alaska/Business Analyst",
          "Data Practicioner Salaries/Arizona/Business Analyst",
          "Data Practicioner Salaries/Arkansas/Business Analyst",
          "Data Practicioner Salaries/California/Business Analyst",
          "Data Practicioner Salaries/Colorado/Business Analyst",
          "Data Practicioner Salaries/Connecticut/Business Analyst",
          "Data Practicioner Salaries/Delaware/Business Analyst",
          "Data Practicioner Salaries/Florida/Business Analyst",
          "Data Practicioner Salaries/Georgia/Business Analyst",
          "Data Practicioner Salaries/Hawaii/Business Analyst",
          "Data Practicioner Salaries/Idaho/Business Analyst",
          "Data Practicioner Salaries/Illinois/Business Analyst",
          "Data Practicioner Salaries/Indiana/Business Analyst",
          "Data Practicioner Salaries/Iowa/Business Analyst",
          "Data Practicioner Salaries/Kansas/Business Analyst",
          "Data Practicioner Salaries/Kentucky/Business Analyst",
          "Data Practicioner Salaries/Louisiana/Business Analyst",
          "Data Practicioner Salaries/Maine/Business Analyst",
          "Data Practicioner Salaries/Maryland/Business Analyst",
          "Data Practicioner Salaries/Massachusetts/Business Analyst",
          "Data Practicioner Salaries/Michigan/Business Analyst",
          "Data Practicioner Salaries/Minnesota/Business Analyst",
          "Data Practicioner Salaries/Mississippi/Business Analyst",
          "Data Practicioner Salaries/Missouri/Business Analyst",
          "Data Practicioner Salaries/Montana/Business Analyst",
          "Data Practicioner Salaries/Nebraska/Business Analyst",
          "Data Practicioner Salaries/Nevada/Business Analyst",
          "Data Practicioner Salaries/New Hampshire/Business Analyst",
          "Data Practicioner Salaries/New Jersey/Business Analyst",
          "Data Practicioner Salaries/New Mexico/Business Analyst",
          "Data Practicioner Salaries/New York/Business Analyst",
          "Data Practicioner Salaries/North Carolina/Business Analyst",
          "Data Practicioner Salaries/North Dakota/Business Analyst",
          "Data Practicioner Salaries/Ohio/Business Analyst",
          "Data Practicioner Salaries/Oklahoma/Business Analyst",
          "Data Practicioner Salaries/Oregon/Business Analyst",
          "Data Practicioner Salaries/Pennsylvania/Business Analyst",
          "Data Practicioner Salaries/Rhode Island/Business Analyst",
          "Data Practicioner Salaries/South Carolina/Business Analyst",
          "Data Practicioner Salaries/South Dakota/Business Analyst",
          "Data Practicioner Salaries/Tennessee/Business Analyst",
          "Data Practicioner Salaries/Texas/Business Analyst",
          "Data Practicioner Salaries/Utah/Business Analyst",
          "Data Practicioner Salaries/Vermont/Business Analyst",
          "Data Practicioner Salaries/Virginia/Business Analyst",
          "Data Practicioner Salaries/Washington/Business Analyst",
          "Data Practicioner Salaries/West Virginia/Business Analyst",
          "Data Practicioner Salaries/Wisconsin/Business Analyst",
          "Data Practicioner Salaries/Wyoming/Business Analyst",
          "Data Practicioner Salaries/Alabama/Data Analyst",
          "Data Practicioner Salaries/Alaska/Data Analyst",
          "Data Practicioner Salaries/Arizona/Data Analyst",
          "Data Practicioner Salaries/Arkansas/Data Analyst",
          "Data Practicioner Salaries/California/Data Analyst",
          "Data Practicioner Salaries/Colorado/Data Analyst",
          "Data Practicioner Salaries/Connecticut/Data Analyst",
          "Data Practicioner Salaries/Delaware/Data Analyst",
          "Data Practicioner Salaries/Florida/Data Analyst",
          "Data Practicioner Salaries/Georgia/Data Analyst",
          "Data Practicioner Salaries/Hawaii/Data Analyst",
          "Data Practicioner Salaries/Idaho/Data Analyst",
          "Data Practicioner Salaries/Illinois/Data Analyst",
          "Data Practicioner Salaries/Indiana/Data Analyst",
          "Data Practicioner Salaries/Iowa/Data Analyst",
          "Data Practicioner Salaries/Kansas/Data Analyst",
          "Data Practicioner Salaries/Kentucky/Data Analyst",
          "Data Practicioner Salaries/Louisiana/Data Analyst",
          "Data Practicioner Salaries/Maine/Data Analyst",
          "Data Practicioner Salaries/Maryland/Data Analyst",
          "Data Practicioner Salaries/Massachusetts/Data Analyst",
          "Data Practicioner Salaries/Michigan/Data Analyst",
          "Data Practicioner Salaries/Minnesota/Data Analyst",
          "Data Practicioner Salaries/Mississippi/Data Analyst",
          "Data Practicioner Salaries/Missouri/Data Analyst",
          "Data Practicioner Salaries/Montana/Data Analyst",
          "Data Practicioner Salaries/Nebraska/Data Analyst",
          "Data Practicioner Salaries/Nevada/Data Analyst",
          "Data Practicioner Salaries/New Hampshire/Data Analyst",
          "Data Practicioner Salaries/New Jersey/Data Analyst",
          "Data Practicioner Salaries/New Mexico/Data Analyst",
          "Data Practicioner Salaries/New York/Data Analyst",
          "Data Practicioner Salaries/North Carolina/Data Analyst",
          "Data Practicioner Salaries/North Dakota/Data Analyst",
          "Data Practicioner Salaries/Ohio/Data Analyst",
          "Data Practicioner Salaries/Oklahoma/Data Analyst",
          "Data Practicioner Salaries/Oregon/Data Analyst",
          "Data Practicioner Salaries/Pennsylvania/Data Analyst",
          "Data Practicioner Salaries/Rhode Island/Data Analyst",
          "Data Practicioner Salaries/South Carolina/Data Analyst",
          "Data Practicioner Salaries/South Dakota/Data Analyst",
          "Data Practicioner Salaries/Tennessee/Data Analyst",
          "Data Practicioner Salaries/Texas/Data Analyst",
          "Data Practicioner Salaries/Utah/Data Analyst",
          "Data Practicioner Salaries/Vermont/Data Analyst",
          "Data Practicioner Salaries/Virginia/Data Analyst",
          "Data Practicioner Salaries/Washington/Data Analyst",
          "Data Practicioner Salaries/West Virginia/Data Analyst",
          "Data Practicioner Salaries/Wisconsin/Data Analyst",
          "Data Practicioner Salaries/Wyoming/Data Analyst",
          "Data Practicioner Salaries/Alabama/Data Engineer",
          "Data Practicioner Salaries/Alaska/Data Engineer",
          "Data Practicioner Salaries/Arizona/Data Engineer",
          "Data Practicioner Salaries/Arkansas/Data Engineer",
          "Data Practicioner Salaries/California/Data Engineer",
          "Data Practicioner Salaries/Colorado/Data Engineer",
          "Data Practicioner Salaries/Connecticut/Data Engineer",
          "Data Practicioner Salaries/Delaware/Data Engineer",
          "Data Practicioner Salaries/Florida/Data Engineer",
          "Data Practicioner Salaries/Georgia/Data Engineer",
          "Data Practicioner Salaries/Hawaii/Data Engineer",
          "Data Practicioner Salaries/Idaho/Data Engineer",
          "Data Practicioner Salaries/Illinois/Data Engineer",
          "Data Practicioner Salaries/Indiana/Data Engineer",
          "Data Practicioner Salaries/Iowa/Data Engineer",
          "Data Practicioner Salaries/Kansas/Data Engineer",
          "Data Practicioner Salaries/Kentucky/Data Engineer",
          "Data Practicioner Salaries/Louisiana/Data Engineer",
          "Data Practicioner Salaries/Maine/Data Engineer",
          "Data Practicioner Salaries/Maryland/Data Engineer",
          "Data Practicioner Salaries/Massachusetts/Data Engineer",
          "Data Practicioner Salaries/Michigan/Data Engineer",
          "Data Practicioner Salaries/Minnesota/Data Engineer",
          "Data Practicioner Salaries/Mississippi/Data Engineer",
          "Data Practicioner Salaries/Missouri/Data Engineer",
          "Data Practicioner Salaries/Montana/Data Engineer",
          "Data Practicioner Salaries/Nebraska/Data Engineer",
          "Data Practicioner Salaries/Nevada/Data Engineer",
          "Data Practicioner Salaries/New Hampshire/Data Engineer",
          "Data Practicioner Salaries/New Jersey/Data Engineer",
          "Data Practicioner Salaries/New Mexico/Data Engineer",
          "Data Practicioner Salaries/New York/Data Engineer",
          "Data Practicioner Salaries/North Carolina/Data Engineer",
          "Data Practicioner Salaries/North Dakota/Data Engineer",
          "Data Practicioner Salaries/Ohio/Data Engineer",
          "Data Practicioner Salaries/Oklahoma/Data Engineer",
          "Data Practicioner Salaries/Oregon/Data Engineer",
          "Data Practicioner Salaries/Pennsylvania/Data Engineer",
          "Data Practicioner Salaries/Rhode Island/Data Engineer",
          "Data Practicioner Salaries/South Carolina/Data Engineer",
          "Data Practicioner Salaries/South Dakota/Data Engineer",
          "Data Practicioner Salaries/Tennessee/Data Engineer",
          "Data Practicioner Salaries/Texas/Data Engineer",
          "Data Practicioner Salaries/Utah/Data Engineer",
          "Data Practicioner Salaries/Vermont/Data Engineer",
          "Data Practicioner Salaries/Virginia/Data Engineer",
          "Data Practicioner Salaries/Washington/Data Engineer",
          "Data Practicioner Salaries/West Virginia/Data Engineer",
          "Data Practicioner Salaries/Wisconsin/Data Engineer",
          "Data Practicioner Salaries/Wyoming/Data Engineer",
          "Data Practicioner Salaries/Alabama/Data Scientist",
          "Data Practicioner Salaries/Alaska/Data Scientist",
          "Data Practicioner Salaries/Arizona/Data Scientist",
          "Data Practicioner Salaries/Arkansas/Data Scientist",
          "Data Practicioner Salaries/California/Data Scientist",
          "Data Practicioner Salaries/Colorado/Data Scientist",
          "Data Practicioner Salaries/Connecticut/Data Scientist",
          "Data Practicioner Salaries/Delaware/Data Scientist",
          "Data Practicioner Salaries/Florida/Data Scientist",
          "Data Practicioner Salaries/Georgia/Data Scientist",
          "Data Practicioner Salaries/Hawaii/Data Scientist",
          "Data Practicioner Salaries/Idaho/Data Scientist",
          "Data Practicioner Salaries/Illinois/Data Scientist",
          "Data Practicioner Salaries/Indiana/Data Scientist",
          "Data Practicioner Salaries/Iowa/Data Scientist",
          "Data Practicioner Salaries/Kansas/Data Scientist",
          "Data Practicioner Salaries/Kentucky/Data Scientist",
          "Data Practicioner Salaries/Louisiana/Data Scientist",
          "Data Practicioner Salaries/Maine/Data Scientist",
          "Data Practicioner Salaries/Maryland/Data Scientist",
          "Data Practicioner Salaries/Massachusetts/Data Scientist",
          "Data Practicioner Salaries/Michigan/Data Scientist",
          "Data Practicioner Salaries/Minnesota/Data Scientist",
          "Data Practicioner Salaries/Mississippi/Data Scientist",
          "Data Practicioner Salaries/Missouri/Data Scientist",
          "Data Practicioner Salaries/Montana/Data Scientist",
          "Data Practicioner Salaries/Nebraska/Data Scientist",
          "Data Practicioner Salaries/Nevada/Data Scientist",
          "Data Practicioner Salaries/New Hampshire/Data Scientist",
          "Data Practicioner Salaries/New Jersey/Data Scientist",
          "Data Practicioner Salaries/New Mexico/Data Scientist",
          "Data Practicioner Salaries/New York/Data Scientist",
          "Data Practicioner Salaries/North Carolina/Data Scientist",
          "Data Practicioner Salaries/North Dakota/Data Scientist",
          "Data Practicioner Salaries/Ohio/Data Scientist",
          "Data Practicioner Salaries/Oklahoma/Data Scientist",
          "Data Practicioner Salaries/Oregon/Data Scientist",
          "Data Practicioner Salaries/Pennsylvania/Data Scientist",
          "Data Practicioner Salaries/Rhode Island/Data Scientist",
          "Data Practicioner Salaries/South Carolina/Data Scientist",
          "Data Practicioner Salaries/South Dakota/Data Scientist",
          "Data Practicioner Salaries/Tennessee/Data Scientist",
          "Data Practicioner Salaries/Texas/Data Scientist",
          "Data Practicioner Salaries/Utah/Data Scientist",
          "Data Practicioner Salaries/Vermont/Data Scientist",
          "Data Practicioner Salaries/Virginia/Data Scientist",
          "Data Practicioner Salaries/Washington/Data Scientist",
          "Data Practicioner Salaries/West Virginia/Data Scientist",
          "Data Practicioner Salaries/Wisconsin/Data Scientist",
          "Data Practicioner Salaries/Wyoming/Data Scientist",
          "Data Practicioner Salaries/Alabama/Machine Learning Engineer",
          "Data Practicioner Salaries/Alaska/Machine Learning Engineer",
          "Data Practicioner Salaries/Arizona/Machine Learning Engineer",
          "Data Practicioner Salaries/Arkansas/Machine Learning Engineer",
          "Data Practicioner Salaries/California/Machine Learning Engineer",
          "Data Practicioner Salaries/Colorado/Machine Learning Engineer",
          "Data Practicioner Salaries/Connecticut/Machine Learning Engineer",
          "Data Practicioner Salaries/Delaware/Machine Learning Engineer",
          "Data Practicioner Salaries/Florida/Machine Learning Engineer",
          "Data Practicioner Salaries/Georgia/Machine Learning Engineer",
          "Data Practicioner Salaries/Hawaii/Machine Learning Engineer",
          "Data Practicioner Salaries/Idaho/Machine Learning Engineer",
          "Data Practicioner Salaries/Illinois/Machine Learning Engineer",
          "Data Practicioner Salaries/Indiana/Machine Learning Engineer",
          "Data Practicioner Salaries/Iowa/Machine Learning Engineer",
          "Data Practicioner Salaries/Kansas/Machine Learning Engineer",
          "Data Practicioner Salaries/Kentucky/Machine Learning Engineer",
          "Data Practicioner Salaries/Louisiana/Machine Learning Engineer",
          "Data Practicioner Salaries/Maine/Machine Learning Engineer",
          "Data Practicioner Salaries/Maryland/Machine Learning Engineer",
          "Data Practicioner Salaries/Massachusetts/Machine Learning Engineer",
          "Data Practicioner Salaries/Michigan/Machine Learning Engineer",
          "Data Practicioner Salaries/Minnesota/Machine Learning Engineer",
          "Data Practicioner Salaries/Mississippi/Machine Learning Engineer",
          "Data Practicioner Salaries/Missouri/Machine Learning Engineer",
          "Data Practicioner Salaries/Montana/Machine Learning Engineer",
          "Data Practicioner Salaries/Nebraska/Machine Learning Engineer",
          "Data Practicioner Salaries/Nevada/Machine Learning Engineer",
          "Data Practicioner Salaries/New Hampshire/Machine Learning Engineer",
          "Data Practicioner Salaries/New Jersey/Machine Learning Engineer",
          "Data Practicioner Salaries/New Mexico/Machine Learning Engineer",
          "Data Practicioner Salaries/New York/Machine Learning Engineer",
          "Data Practicioner Salaries/North Carolina/Machine Learning Engineer",
          "Data Practicioner Salaries/North Dakota/Machine Learning Engineer",
          "Data Practicioner Salaries/Ohio/Machine Learning Engineer",
          "Data Practicioner Salaries/Oklahoma/Machine Learning Engineer",
          "Data Practicioner Salaries/Oregon/Machine Learning Engineer",
          "Data Practicioner Salaries/Pennsylvania/Machine Learning Engineer",
          "Data Practicioner Salaries/Rhode Island/Machine Learning Engineer",
          "Data Practicioner Salaries/South Carolina/Machine Learning Engineer",
          "Data Practicioner Salaries/South Dakota/Machine Learning Engineer",
          "Data Practicioner Salaries/Tennessee/Machine Learning Engineer",
          "Data Practicioner Salaries/Texas/Machine Learning Engineer",
          "Data Practicioner Salaries/Utah/Machine Learning Engineer",
          "Data Practicioner Salaries/Vermont/Machine Learning Engineer",
          "Data Practicioner Salaries/Virginia/Machine Learning Engineer",
          "Data Practicioner Salaries/Washington/Machine Learning Engineer",
          "Data Practicioner Salaries/West Virginia/Machine Learning Engineer",
          "Data Practicioner Salaries/Wisconsin/Machine Learning Engineer",
          "Data Practicioner Salaries/Wyoming/Machine Learning Engineer",
          "Data Practicioner Salaries/Alabama",
          "Data Practicioner Salaries/Alaska",
          "Data Practicioner Salaries/Arizona",
          "Data Practicioner Salaries/Arkansas",
          "Data Practicioner Salaries/California",
          "Data Practicioner Salaries/Colorado",
          "Data Practicioner Salaries/Connecticut",
          "Data Practicioner Salaries/Delaware",
          "Data Practicioner Salaries/Florida",
          "Data Practicioner Salaries/Georgia",
          "Data Practicioner Salaries/Hawaii",
          "Data Practicioner Salaries/Idaho",
          "Data Practicioner Salaries/Illinois",
          "Data Practicioner Salaries/Indiana",
          "Data Practicioner Salaries/Iowa",
          "Data Practicioner Salaries/Kansas",
          "Data Practicioner Salaries/Kentucky",
          "Data Practicioner Salaries/Louisiana",
          "Data Practicioner Salaries/Maine",
          "Data Practicioner Salaries/Maryland",
          "Data Practicioner Salaries/Massachusetts",
          "Data Practicioner Salaries/Michigan",
          "Data Practicioner Salaries/Minnesota",
          "Data Practicioner Salaries/Mississippi",
          "Data Practicioner Salaries/Missouri",
          "Data Practicioner Salaries/Montana",
          "Data Practicioner Salaries/Nebraska",
          "Data Practicioner Salaries/Nevada",
          "Data Practicioner Salaries/New Hampshire",
          "Data Practicioner Salaries/New Jersey",
          "Data Practicioner Salaries/New Mexico",
          "Data Practicioner Salaries/New York",
          "Data Practicioner Salaries/North Carolina",
          "Data Practicioner Salaries/North Dakota",
          "Data Practicioner Salaries/Ohio",
          "Data Practicioner Salaries/Oklahoma",
          "Data Practicioner Salaries/Oregon",
          "Data Practicioner Salaries/Pennsylvania",
          "Data Practicioner Salaries/Rhode Island",
          "Data Practicioner Salaries/South Carolina",
          "Data Practicioner Salaries/South Dakota",
          "Data Practicioner Salaries/Tennessee",
          "Data Practicioner Salaries/Texas",
          "Data Practicioner Salaries/Utah",
          "Data Practicioner Salaries/Vermont",
          "Data Practicioner Salaries/Virginia",
          "Data Practicioner Salaries/Washington",
          "Data Practicioner Salaries/West Virginia",
          "Data Practicioner Salaries/Wisconsin",
          "Data Practicioner Salaries/Wyoming",
          "Data Practicioner Salaries"
         ],
         "labels": [
          "Business Analyst",
          "Business Analyst",
          "Business Analyst",
          "Business Analyst",
          "Business Analyst",
          "Business Analyst",
          "Business Analyst",
          "Business Analyst",
          "Business Analyst",
          "Business Analyst",
          "Business Analyst",
          "Business Analyst",
          "Business Analyst",
          "Business Analyst",
          "Business Analyst",
          "Business Analyst",
          "Business Analyst",
          "Business Analyst",
          "Business Analyst",
          "Business Analyst",
          "Business Analyst",
          "Business Analyst",
          "Business Analyst",
          "Business Analyst",
          "Business Analyst",
          "Business Analyst",
          "Business Analyst",
          "Business Analyst",
          "Business Analyst",
          "Business Analyst",
          "Business Analyst",
          "Business Analyst",
          "Business Analyst",
          "Business Analyst",
          "Business Analyst",
          "Business Analyst",
          "Business Analyst",
          "Business Analyst",
          "Business Analyst",
          "Business Analyst",
          "Business Analyst",
          "Business Analyst",
          "Business Analyst",
          "Business Analyst",
          "Business Analyst",
          "Business Analyst",
          "Business Analyst",
          "Business Analyst",
          "Business Analyst",
          "Business Analyst",
          "Data Analyst",
          "Data Analyst",
          "Data Analyst",
          "Data Analyst",
          "Data Analyst",
          "Data Analyst",
          "Data Analyst",
          "Data Analyst",
          "Data Analyst",
          "Data Analyst",
          "Data Analyst",
          "Data Analyst",
          "Data Analyst",
          "Data Analyst",
          "Data Analyst",
          "Data Analyst",
          "Data Analyst",
          "Data Analyst",
          "Data Analyst",
          "Data Analyst",
          "Data Analyst",
          "Data Analyst",
          "Data Analyst",
          "Data Analyst",
          "Data Analyst",
          "Data Analyst",
          "Data Analyst",
          "Data Analyst",
          "Data Analyst",
          "Data Analyst",
          "Data Analyst",
          "Data Analyst",
          "Data Analyst",
          "Data Analyst",
          "Data Analyst",
          "Data Analyst",
          "Data Analyst",
          "Data Analyst",
          "Data Analyst",
          "Data Analyst",
          "Data Analyst",
          "Data Analyst",
          "Data Analyst",
          "Data Analyst",
          "Data Analyst",
          "Data Analyst",
          "Data Analyst",
          "Data Analyst",
          "Data Analyst",
          "Data Analyst",
          "Data Engineer",
          "Data Engineer",
          "Data Engineer",
          "Data Engineer",
          "Data Engineer",
          "Data Engineer",
          "Data Engineer",
          "Data Engineer",
          "Data Engineer",
          "Data Engineer",
          "Data Engineer",
          "Data Engineer",
          "Data Engineer",
          "Data Engineer",
          "Data Engineer",
          "Data Engineer",
          "Data Engineer",
          "Data Engineer",
          "Data Engineer",
          "Data Engineer",
          "Data Engineer",
          "Data Engineer",
          "Data Engineer",
          "Data Engineer",
          "Data Engineer",
          "Data Engineer",
          "Data Engineer",
          "Data Engineer",
          "Data Engineer",
          "Data Engineer",
          "Data Engineer",
          "Data Engineer",
          "Data Engineer",
          "Data Engineer",
          "Data Engineer",
          "Data Engineer",
          "Data Engineer",
          "Data Engineer",
          "Data Engineer",
          "Data Engineer",
          "Data Engineer",
          "Data Engineer",
          "Data Engineer",
          "Data Engineer",
          "Data Engineer",
          "Data Engineer",
          "Data Engineer",
          "Data Engineer",
          "Data Engineer",
          "Data Engineer",
          "Data Scientist",
          "Data Scientist",
          "Data Scientist",
          "Data Scientist",
          "Data Scientist",
          "Data Scientist",
          "Data Scientist",
          "Data Scientist",
          "Data Scientist",
          "Data Scientist",
          "Data Scientist",
          "Data Scientist",
          "Data Scientist",
          "Data Scientist",
          "Data Scientist",
          "Data Scientist",
          "Data Scientist",
          "Data Scientist",
          "Data Scientist",
          "Data Scientist",
          "Data Scientist",
          "Data Scientist",
          "Data Scientist",
          "Data Scientist",
          "Data Scientist",
          "Data Scientist",
          "Data Scientist",
          "Data Scientist",
          "Data Scientist",
          "Data Scientist",
          "Data Scientist",
          "Data Scientist",
          "Data Scientist",
          "Data Scientist",
          "Data Scientist",
          "Data Scientist",
          "Data Scientist",
          "Data Scientist",
          "Data Scientist",
          "Data Scientist",
          "Data Scientist",
          "Data Scientist",
          "Data Scientist",
          "Data Scientist",
          "Data Scientist",
          "Data Scientist",
          "Data Scientist",
          "Data Scientist",
          "Data Scientist",
          "Data Scientist",
          "Machine Learning Engineer",
          "Machine Learning Engineer",
          "Machine Learning Engineer",
          "Machine Learning Engineer",
          "Machine Learning Engineer",
          "Machine Learning Engineer",
          "Machine Learning Engineer",
          "Machine Learning Engineer",
          "Machine Learning Engineer",
          "Machine Learning Engineer",
          "Machine Learning Engineer",
          "Machine Learning Engineer",
          "Machine Learning Engineer",
          "Machine Learning Engineer",
          "Machine Learning Engineer",
          "Machine Learning Engineer",
          "Machine Learning Engineer",
          "Machine Learning Engineer",
          "Machine Learning Engineer",
          "Machine Learning Engineer",
          "Machine Learning Engineer",
          "Machine Learning Engineer",
          "Machine Learning Engineer",
          "Machine Learning Engineer",
          "Machine Learning Engineer",
          "Machine Learning Engineer",
          "Machine Learning Engineer",
          "Machine Learning Engineer",
          "Machine Learning Engineer",
          "Machine Learning Engineer",
          "Machine Learning Engineer",
          "Machine Learning Engineer",
          "Machine Learning Engineer",
          "Machine Learning Engineer",
          "Machine Learning Engineer",
          "Machine Learning Engineer",
          "Machine Learning Engineer",
          "Machine Learning Engineer",
          "Machine Learning Engineer",
          "Machine Learning Engineer",
          "Machine Learning Engineer",
          "Machine Learning Engineer",
          "Machine Learning Engineer",
          "Machine Learning Engineer",
          "Machine Learning Engineer",
          "Machine Learning Engineer",
          "Machine Learning Engineer",
          "Machine Learning Engineer",
          "Machine Learning Engineer",
          "Machine Learning Engineer",
          "Alabama",
          "Alaska",
          "Arizona",
          "Arkansas",
          "California",
          "Colorado",
          "Connecticut",
          "Delaware",
          "Florida",
          "Georgia",
          "Hawaii",
          "Idaho",
          "Illinois",
          "Indiana",
          "Iowa",
          "Kansas",
          "Kentucky",
          "Louisiana",
          "Maine",
          "Maryland",
          "Massachusetts",
          "Michigan",
          "Minnesota",
          "Mississippi",
          "Missouri",
          "Montana",
          "Nebraska",
          "Nevada",
          "New Hampshire",
          "New Jersey",
          "New Mexico",
          "New York",
          "North Carolina",
          "North Dakota",
          "Ohio",
          "Oklahoma",
          "Oregon",
          "Pennsylvania",
          "Rhode Island",
          "South Carolina",
          "South Dakota",
          "Tennessee",
          "Texas",
          "Utah",
          "Vermont",
          "Virginia",
          "Washington",
          "West Virginia",
          "Wisconsin",
          "Wyoming",
          "Data Practicioner Salaries"
         ],
         "marker": {
          "coloraxis": "coloraxis",
          "colors": [
           74375,
           89739,
           88010,
           71249,
           100388,
           81671,
           86262,
           99863,
           74298,
           86516,
           91285,
           86739,
           84744,
           88038,
           86728,
           77279,
           72376,
           74802,
           91428,
           101187,
           95305,
           78149,
           89712,
           80378,
           77728,
           84436,
           91371,
           94881,
           86804,
           92173,
           83516,
           103867,
           72016,
           87059,
           83353,
           95802,
           92319,
           86897,
           87199,
           78875,
           87125,
           81583,
           89690,
           81684,
           93341,
           100834,
           108915,
           74874,
           92253,
           88732,
           69689,
           79092,
           82463,
           62193,
           75874,
           71206,
           77036,
           71386,
           69613,
           81062,
           80736,
           65296,
           73973,
           82490,
           78124,
           68643,
           63288,
           67789,
           69468,
           72435,
           83473,
           68115,
           81303,
           71412,
           67649,
           79115,
           65690,
           83624,
           82409,
           84878,
           76401,
           98238,
           62709,
           77057,
           75739,
           68874,
           81828,
           82161,
           77290,
           68682,
           77115,
           74134,
           67273,
           73901,
           72641,
           72494,
           81244,
           70795,
           84340,
           83611,
           96843,
           141854,
           114596,
           109017,
           128004,
           124464,
           114164,
           123888,
           96743,
           112652,
           145975,
           110380,
           129669,
           114633,
           114453,
           102456,
           111411,
           98517,
           116888,
           125616,
           147512,
           118975,
           118153,
           106556,
           117743,
           109941,
           113668,
           149976,
           112502,
           120740,
           109645,
           134797,
           109277,
           139565,
           109680,
           119180,
           148689,
           112786,
           140442,
           119684,
           139670,
           107350,
           113930,
           107642,
           120783,
           125440,
           137971,
           97183,
           121144,
           115307,
           103437,
           121680,
           122400,
           96232,
           143099,
           110256,
           117597,
           110729,
           103328,
           120321,
           123953,
           123923,
           114459,
           122439,
           118653,
           105118,
           97824,
           102592,
           129931,
           112378,
           128900,
           105489,
           123044,
           109345,
           104859,
           117429,
           101966,
           128653,
           121396,
           127259,
           114991,
           145027,
           97172,
           118252,
           114445,
           106910,
           125467,
           121315,
           118510,
           106427,
           118340,
           112017,
           104965,
           111953,
           130783,
           112528,
           126680,
           104532,
           126987,
           123698,
           106372,
           123316,
           125872,
           97299,
           119362,
           111448,
           119554,
           111847,
           106258,
           123735,
           125723,
           102694,
           115728,
           125913,
           120877,
           106730,
           98950,
           104667,
           109324,
           113503,
           130436,
           106621,
           125531,
           111027,
           105947,
           120760,
           102966,
           130380,
           125231,
           130329,
           117578,
           149475,
           98192,
           119962,
           116832,
           107958,
           127326,
           125027,
           120265,
           107544,
           120052,
           114355,
           105775,
           114169,
           135058,
           113631,
           127691,
           107730,
           129825,
           127379,
           92699.12616370397,
           115973.0999566298,
           109692.80454530966,
           90728.66066652905,
           118124.33372858536,
           103815.84068170204,
           105965.66771729436,
           106598.59644049889,
           92601.29879619759,
           107830.52087982514,
           118608.23236657788,
           101985.0105964436,
           107914.28109639337,
           109728.17255249638,
           106805.39691231317,
           94784.35388265766,
           92411.39377806416,
           92282.85392769762,
           107693.01443218016,
           108121.70868507901,
           121987.98378828808,
           99294.09470429392,
           110678.16793338081,
           98592.0761659265,
           98542.00850765732,
           105237.81895946889,
           97933.84842776683,
           122616.17071593188,
           108646.804301002,
           114262.12682690559,
           103322.79275129398,
           129845.38567383165,
           91368.59045533792,
           113250.45793557793,
           102912.30535207549,
           102682.44829605153,
           120356.8903425644,
           108619.46412816698,
           113682.12855844887,
           100070.57361412434,
           113335.44049994284,
           100728.6559898169,
           99154.33406556444,
           100722.52848376108,
           115674.90527428222,
           108077.1690863682,
           119917.1769370353,
           93592.5401415909,
           114110.65413335882,
           110791.6927107793,
           107270.47884083616
          ]
         },
         "name": "",
         "parents": [
          "Data Practicioner Salaries/Alabama",
          "Data Practicioner Salaries/Alaska",
          "Data Practicioner Salaries/Arizona",
          "Data Practicioner Salaries/Arkansas",
          "Data Practicioner Salaries/California",
          "Data Practicioner Salaries/Colorado",
          "Data Practicioner Salaries/Connecticut",
          "Data Practicioner Salaries/Delaware",
          "Data Practicioner Salaries/Florida",
          "Data Practicioner Salaries/Georgia",
          "Data Practicioner Salaries/Hawaii",
          "Data Practicioner Salaries/Idaho",
          "Data Practicioner Salaries/Illinois",
          "Data Practicioner Salaries/Indiana",
          "Data Practicioner Salaries/Iowa",
          "Data Practicioner Salaries/Kansas",
          "Data Practicioner Salaries/Kentucky",
          "Data Practicioner Salaries/Louisiana",
          "Data Practicioner Salaries/Maine",
          "Data Practicioner Salaries/Maryland",
          "Data Practicioner Salaries/Massachusetts",
          "Data Practicioner Salaries/Michigan",
          "Data Practicioner Salaries/Minnesota",
          "Data Practicioner Salaries/Mississippi",
          "Data Practicioner Salaries/Missouri",
          "Data Practicioner Salaries/Montana",
          "Data Practicioner Salaries/Nebraska",
          "Data Practicioner Salaries/Nevada",
          "Data Practicioner Salaries/New Hampshire",
          "Data Practicioner Salaries/New Jersey",
          "Data Practicioner Salaries/New Mexico",
          "Data Practicioner Salaries/New York",
          "Data Practicioner Salaries/North Carolina",
          "Data Practicioner Salaries/North Dakota",
          "Data Practicioner Salaries/Ohio",
          "Data Practicioner Salaries/Oklahoma",
          "Data Practicioner Salaries/Oregon",
          "Data Practicioner Salaries/Pennsylvania",
          "Data Practicioner Salaries/Rhode Island",
          "Data Practicioner Salaries/South Carolina",
          "Data Practicioner Salaries/South Dakota",
          "Data Practicioner Salaries/Tennessee",
          "Data Practicioner Salaries/Texas",
          "Data Practicioner Salaries/Utah",
          "Data Practicioner Salaries/Vermont",
          "Data Practicioner Salaries/Virginia",
          "Data Practicioner Salaries/Washington",
          "Data Practicioner Salaries/West Virginia",
          "Data Practicioner Salaries/Wisconsin",
          "Data Practicioner Salaries/Wyoming",
          "Data Practicioner Salaries/Alabama",
          "Data Practicioner Salaries/Alaska",
          "Data Practicioner Salaries/Arizona",
          "Data Practicioner Salaries/Arkansas",
          "Data Practicioner Salaries/California",
          "Data Practicioner Salaries/Colorado",
          "Data Practicioner Salaries/Connecticut",
          "Data Practicioner Salaries/Delaware",
          "Data Practicioner Salaries/Florida",
          "Data Practicioner Salaries/Georgia",
          "Data Practicioner Salaries/Hawaii",
          "Data Practicioner Salaries/Idaho",
          "Data Practicioner Salaries/Illinois",
          "Data Practicioner Salaries/Indiana",
          "Data Practicioner Salaries/Iowa",
          "Data Practicioner Salaries/Kansas",
          "Data Practicioner Salaries/Kentucky",
          "Data Practicioner Salaries/Louisiana",
          "Data Practicioner Salaries/Maine",
          "Data Practicioner Salaries/Maryland",
          "Data Practicioner Salaries/Massachusetts",
          "Data Practicioner Salaries/Michigan",
          "Data Practicioner Salaries/Minnesota",
          "Data Practicioner Salaries/Mississippi",
          "Data Practicioner Salaries/Missouri",
          "Data Practicioner Salaries/Montana",
          "Data Practicioner Salaries/Nebraska",
          "Data Practicioner Salaries/Nevada",
          "Data Practicioner Salaries/New Hampshire",
          "Data Practicioner Salaries/New Jersey",
          "Data Practicioner Salaries/New Mexico",
          "Data Practicioner Salaries/New York",
          "Data Practicioner Salaries/North Carolina",
          "Data Practicioner Salaries/North Dakota",
          "Data Practicioner Salaries/Ohio",
          "Data Practicioner Salaries/Oklahoma",
          "Data Practicioner Salaries/Oregon",
          "Data Practicioner Salaries/Pennsylvania",
          "Data Practicioner Salaries/Rhode Island",
          "Data Practicioner Salaries/South Carolina",
          "Data Practicioner Salaries/South Dakota",
          "Data Practicioner Salaries/Tennessee",
          "Data Practicioner Salaries/Texas",
          "Data Practicioner Salaries/Utah",
          "Data Practicioner Salaries/Vermont",
          "Data Practicioner Salaries/Virginia",
          "Data Practicioner Salaries/Washington",
          "Data Practicioner Salaries/West Virginia",
          "Data Practicioner Salaries/Wisconsin",
          "Data Practicioner Salaries/Wyoming",
          "Data Practicioner Salaries/Alabama",
          "Data Practicioner Salaries/Alaska",
          "Data Practicioner Salaries/Arizona",
          "Data Practicioner Salaries/Arkansas",
          "Data Practicioner Salaries/California",
          "Data Practicioner Salaries/Colorado",
          "Data Practicioner Salaries/Connecticut",
          "Data Practicioner Salaries/Delaware",
          "Data Practicioner Salaries/Florida",
          "Data Practicioner Salaries/Georgia",
          "Data Practicioner Salaries/Hawaii",
          "Data Practicioner Salaries/Idaho",
          "Data Practicioner Salaries/Illinois",
          "Data Practicioner Salaries/Indiana",
          "Data Practicioner Salaries/Iowa",
          "Data Practicioner Salaries/Kansas",
          "Data Practicioner Salaries/Kentucky",
          "Data Practicioner Salaries/Louisiana",
          "Data Practicioner Salaries/Maine",
          "Data Practicioner Salaries/Maryland",
          "Data Practicioner Salaries/Massachusetts",
          "Data Practicioner Salaries/Michigan",
          "Data Practicioner Salaries/Minnesota",
          "Data Practicioner Salaries/Mississippi",
          "Data Practicioner Salaries/Missouri",
          "Data Practicioner Salaries/Montana",
          "Data Practicioner Salaries/Nebraska",
          "Data Practicioner Salaries/Nevada",
          "Data Practicioner Salaries/New Hampshire",
          "Data Practicioner Salaries/New Jersey",
          "Data Practicioner Salaries/New Mexico",
          "Data Practicioner Salaries/New York",
          "Data Practicioner Salaries/North Carolina",
          "Data Practicioner Salaries/North Dakota",
          "Data Practicioner Salaries/Ohio",
          "Data Practicioner Salaries/Oklahoma",
          "Data Practicioner Salaries/Oregon",
          "Data Practicioner Salaries/Pennsylvania",
          "Data Practicioner Salaries/Rhode Island",
          "Data Practicioner Salaries/South Carolina",
          "Data Practicioner Salaries/South Dakota",
          "Data Practicioner Salaries/Tennessee",
          "Data Practicioner Salaries/Texas",
          "Data Practicioner Salaries/Utah",
          "Data Practicioner Salaries/Vermont",
          "Data Practicioner Salaries/Virginia",
          "Data Practicioner Salaries/Washington",
          "Data Practicioner Salaries/West Virginia",
          "Data Practicioner Salaries/Wisconsin",
          "Data Practicioner Salaries/Wyoming",
          "Data Practicioner Salaries/Alabama",
          "Data Practicioner Salaries/Alaska",
          "Data Practicioner Salaries/Arizona",
          "Data Practicioner Salaries/Arkansas",
          "Data Practicioner Salaries/California",
          "Data Practicioner Salaries/Colorado",
          "Data Practicioner Salaries/Connecticut",
          "Data Practicioner Salaries/Delaware",
          "Data Practicioner Salaries/Florida",
          "Data Practicioner Salaries/Georgia",
          "Data Practicioner Salaries/Hawaii",
          "Data Practicioner Salaries/Idaho",
          "Data Practicioner Salaries/Illinois",
          "Data Practicioner Salaries/Indiana",
          "Data Practicioner Salaries/Iowa",
          "Data Practicioner Salaries/Kansas",
          "Data Practicioner Salaries/Kentucky",
          "Data Practicioner Salaries/Louisiana",
          "Data Practicioner Salaries/Maine",
          "Data Practicioner Salaries/Maryland",
          "Data Practicioner Salaries/Massachusetts",
          "Data Practicioner Salaries/Michigan",
          "Data Practicioner Salaries/Minnesota",
          "Data Practicioner Salaries/Mississippi",
          "Data Practicioner Salaries/Missouri",
          "Data Practicioner Salaries/Montana",
          "Data Practicioner Salaries/Nebraska",
          "Data Practicioner Salaries/Nevada",
          "Data Practicioner Salaries/New Hampshire",
          "Data Practicioner Salaries/New Jersey",
          "Data Practicioner Salaries/New Mexico",
          "Data Practicioner Salaries/New York",
          "Data Practicioner Salaries/North Carolina",
          "Data Practicioner Salaries/North Dakota",
          "Data Practicioner Salaries/Ohio",
          "Data Practicioner Salaries/Oklahoma",
          "Data Practicioner Salaries/Oregon",
          "Data Practicioner Salaries/Pennsylvania",
          "Data Practicioner Salaries/Rhode Island",
          "Data Practicioner Salaries/South Carolina",
          "Data Practicioner Salaries/South Dakota",
          "Data Practicioner Salaries/Tennessee",
          "Data Practicioner Salaries/Texas",
          "Data Practicioner Salaries/Utah",
          "Data Practicioner Salaries/Vermont",
          "Data Practicioner Salaries/Virginia",
          "Data Practicioner Salaries/Washington",
          "Data Practicioner Salaries/West Virginia",
          "Data Practicioner Salaries/Wisconsin",
          "Data Practicioner Salaries/Wyoming",
          "Data Practicioner Salaries/Alabama",
          "Data Practicioner Salaries/Alaska",
          "Data Practicioner Salaries/Arizona",
          "Data Practicioner Salaries/Arkansas",
          "Data Practicioner Salaries/California",
          "Data Practicioner Salaries/Colorado",
          "Data Practicioner Salaries/Connecticut",
          "Data Practicioner Salaries/Delaware",
          "Data Practicioner Salaries/Florida",
          "Data Practicioner Salaries/Georgia",
          "Data Practicioner Salaries/Hawaii",
          "Data Practicioner Salaries/Idaho",
          "Data Practicioner Salaries/Illinois",
          "Data Practicioner Salaries/Indiana",
          "Data Practicioner Salaries/Iowa",
          "Data Practicioner Salaries/Kansas",
          "Data Practicioner Salaries/Kentucky",
          "Data Practicioner Salaries/Louisiana",
          "Data Practicioner Salaries/Maine",
          "Data Practicioner Salaries/Maryland",
          "Data Practicioner Salaries/Massachusetts",
          "Data Practicioner Salaries/Michigan",
          "Data Practicioner Salaries/Minnesota",
          "Data Practicioner Salaries/Mississippi",
          "Data Practicioner Salaries/Missouri",
          "Data Practicioner Salaries/Montana",
          "Data Practicioner Salaries/Nebraska",
          "Data Practicioner Salaries/Nevada",
          "Data Practicioner Salaries/New Hampshire",
          "Data Practicioner Salaries/New Jersey",
          "Data Practicioner Salaries/New Mexico",
          "Data Practicioner Salaries/New York",
          "Data Practicioner Salaries/North Carolina",
          "Data Practicioner Salaries/North Dakota",
          "Data Practicioner Salaries/Ohio",
          "Data Practicioner Salaries/Oklahoma",
          "Data Practicioner Salaries/Oregon",
          "Data Practicioner Salaries/Pennsylvania",
          "Data Practicioner Salaries/Rhode Island",
          "Data Practicioner Salaries/South Carolina",
          "Data Practicioner Salaries/South Dakota",
          "Data Practicioner Salaries/Tennessee",
          "Data Practicioner Salaries/Texas",
          "Data Practicioner Salaries/Utah",
          "Data Practicioner Salaries/Vermont",
          "Data Practicioner Salaries/Virginia",
          "Data Practicioner Salaries/Washington",
          "Data Practicioner Salaries/West Virginia",
          "Data Practicioner Salaries/Wisconsin",
          "Data Practicioner Salaries/Wyoming",
          "Data Practicioner Salaries",
          "Data Practicioner Salaries",
          "Data Practicioner Salaries",
          "Data Practicioner Salaries",
          "Data Practicioner Salaries",
          "Data Practicioner Salaries",
          "Data Practicioner Salaries",
          "Data Practicioner Salaries",
          "Data Practicioner Salaries",
          "Data Practicioner Salaries",
          "Data Practicioner Salaries",
          "Data Practicioner Salaries",
          "Data Practicioner Salaries",
          "Data Practicioner Salaries",
          "Data Practicioner Salaries",
          "Data Practicioner Salaries",
          "Data Practicioner Salaries",
          "Data Practicioner Salaries",
          "Data Practicioner Salaries",
          "Data Practicioner Salaries",
          "Data Practicioner Salaries",
          "Data Practicioner Salaries",
          "Data Practicioner Salaries",
          "Data Practicioner Salaries",
          "Data Practicioner Salaries",
          "Data Practicioner Salaries",
          "Data Practicioner Salaries",
          "Data Practicioner Salaries",
          "Data Practicioner Salaries",
          "Data Practicioner Salaries",
          "Data Practicioner Salaries",
          "Data Practicioner Salaries",
          "Data Practicioner Salaries",
          "Data Practicioner Salaries",
          "Data Practicioner Salaries",
          "Data Practicioner Salaries",
          "Data Practicioner Salaries",
          "Data Practicioner Salaries",
          "Data Practicioner Salaries",
          "Data Practicioner Salaries",
          "Data Practicioner Salaries",
          "Data Practicioner Salaries",
          "Data Practicioner Salaries",
          "Data Practicioner Salaries",
          "Data Practicioner Salaries",
          "Data Practicioner Salaries",
          "Data Practicioner Salaries",
          "Data Practicioner Salaries",
          "Data Practicioner Salaries",
          "Data Practicioner Salaries",
          ""
         ],
         "type": "treemap",
         "values": [
          74375,
          89739,
          88010,
          71249,
          100388,
          81671,
          86262,
          99863,
          74298,
          86516,
          91285,
          86739,
          84744,
          88038,
          86728,
          77279,
          72376,
          74802,
          91428,
          101187,
          95305,
          78149,
          89712,
          80378,
          77728,
          84436,
          91371,
          94881,
          86804,
          92173,
          83516,
          103867,
          72016,
          87059,
          83353,
          95802,
          92319,
          86897,
          87199,
          78875,
          87125,
          81583,
          89690,
          81684,
          93341,
          100834,
          108915,
          74874,
          92253,
          88732,
          69689,
          79092,
          82463,
          62193,
          75874,
          71206,
          77036,
          71386,
          69613,
          81062,
          80736,
          65296,
          73973,
          82490,
          78124,
          68643,
          63288,
          67789,
          69468,
          72435,
          83473,
          68115,
          81303,
          71412,
          67649,
          79115,
          65690,
          83624,
          82409,
          84878,
          76401,
          98238,
          62709,
          77057,
          75739,
          68874,
          81828,
          82161,
          77290,
          68682,
          77115,
          74134,
          67273,
          73901,
          72641,
          72494,
          81244,
          70795,
          84340,
          83611,
          96843,
          141854,
          114596,
          109017,
          128004,
          124464,
          114164,
          123888,
          96743,
          112652,
          145975,
          110380,
          129669,
          114633,
          114453,
          102456,
          111411,
          98517,
          116888,
          125616,
          147512,
          118975,
          118153,
          106556,
          117743,
          109941,
          113668,
          149976,
          112502,
          120740,
          109645,
          134797,
          109277,
          139565,
          109680,
          119180,
          148689,
          112786,
          140442,
          119684,
          139670,
          107350,
          113930,
          107642,
          120783,
          125440,
          137971,
          97183,
          121144,
          115307,
          103437,
          121680,
          122400,
          96232,
          143099,
          110256,
          117597,
          110729,
          103328,
          120321,
          123953,
          123923,
          114459,
          122439,
          118653,
          105118,
          97824,
          102592,
          129931,
          112378,
          128900,
          105489,
          123044,
          109345,
          104859,
          117429,
          101966,
          128653,
          121396,
          127259,
          114991,
          145027,
          97172,
          118252,
          114445,
          106910,
          125467,
          121315,
          118510,
          106427,
          118340,
          112017,
          104965,
          111953,
          130783,
          112528,
          126680,
          104532,
          126987,
          123698,
          106372,
          123316,
          125872,
          97299,
          119362,
          111448,
          119554,
          111847,
          106258,
          123735,
          125723,
          102694,
          115728,
          125913,
          120877,
          106730,
          98950,
          104667,
          109324,
          113503,
          130436,
          106621,
          125531,
          111027,
          105947,
          120760,
          102966,
          130380,
          125231,
          130329,
          117578,
          149475,
          98192,
          119962,
          116832,
          107958,
          127326,
          125027,
          120265,
          107544,
          120052,
          114355,
          105775,
          114169,
          135058,
          113631,
          127691,
          107730,
          129825,
          127379,
          450716,
          555681,
          533341,
          435990,
          566727,
          499045,
          514613,
          517713,
          450240,
          524286,
          567672,
          489032,
          518573,
          533513,
          518835,
          460226,
          443849,
          448367,
          517039,
          525119,
          585626,
          477349,
          537743,
          478718,
          473926,
          511681,
          475661,
          587514,
          528342,
          555379,
          502131,
          631404,
          439366,
          541895,
          500049,
          498724,
          575629,
          528186,
          543706,
          481212,
          542302,
          489439,
          481633,
          489349,
          552606,
          524927,
          582501,
          455114,
          554549,
          538727,
          25735965
         ]
        }
       ],
       "layout": {
        "coloraxis": {
         "colorbar": {
          "title": {
           "text": "Annual Salary"
          }
         },
         "colorscale": [
          [
           0,
           "rgb(0, 147, 146)"
          ],
          [
           0.16666666666666666,
           "rgb(114, 170, 161)"
          ],
          [
           0.3333333333333333,
           "rgb(177, 199, 179)"
          ],
          [
           0.5,
           "rgb(241, 234, 200)"
          ],
          [
           0.6666666666666666,
           "rgb(229, 185, 173)"
          ],
          [
           0.8333333333333334,
           "rgb(217, 137, 148)"
          ],
          [
           1,
           "rgb(208, 88, 126)"
          ]
         ]
        },
        "height": 900,
        "legend": {
         "tracegroupgap": 0
        },
        "template": {
         "data": {
          "bar": [
           {
            "error_x": {
             "color": "#2a3f5f"
            },
            "error_y": {
             "color": "#2a3f5f"
            },
            "marker": {
             "line": {
              "color": "#E5ECF6",
              "width": 0.5
             },
             "pattern": {
              "fillmode": "overlay",
              "size": 10,
              "solidity": 0.2
             }
            },
            "type": "bar"
           }
          ],
          "barpolar": [
           {
            "marker": {
             "line": {
              "color": "#E5ECF6",
              "width": 0.5
             },
             "pattern": {
              "fillmode": "overlay",
              "size": 10,
              "solidity": 0.2
             }
            },
            "type": "barpolar"
           }
          ],
          "carpet": [
           {
            "aaxis": {
             "endlinecolor": "#2a3f5f",
             "gridcolor": "white",
             "linecolor": "white",
             "minorgridcolor": "white",
             "startlinecolor": "#2a3f5f"
            },
            "baxis": {
             "endlinecolor": "#2a3f5f",
             "gridcolor": "white",
             "linecolor": "white",
             "minorgridcolor": "white",
             "startlinecolor": "#2a3f5f"
            },
            "type": "carpet"
           }
          ],
          "choropleth": [
           {
            "colorbar": {
             "outlinewidth": 0,
             "ticks": ""
            },
            "type": "choropleth"
           }
          ],
          "contour": [
           {
            "colorbar": {
             "outlinewidth": 0,
             "ticks": ""
            },
            "colorscale": [
             [
              0,
              "#0d0887"
             ],
             [
              0.1111111111111111,
              "#46039f"
             ],
             [
              0.2222222222222222,
              "#7201a8"
             ],
             [
              0.3333333333333333,
              "#9c179e"
             ],
             [
              0.4444444444444444,
              "#bd3786"
             ],
             [
              0.5555555555555556,
              "#d8576b"
             ],
             [
              0.6666666666666666,
              "#ed7953"
             ],
             [
              0.7777777777777778,
              "#fb9f3a"
             ],
             [
              0.8888888888888888,
              "#fdca26"
             ],
             [
              1,
              "#f0f921"
             ]
            ],
            "type": "contour"
           }
          ],
          "contourcarpet": [
           {
            "colorbar": {
             "outlinewidth": 0,
             "ticks": ""
            },
            "type": "contourcarpet"
           }
          ],
          "heatmap": [
           {
            "colorbar": {
             "outlinewidth": 0,
             "ticks": ""
            },
            "colorscale": [
             [
              0,
              "#0d0887"
             ],
             [
              0.1111111111111111,
              "#46039f"
             ],
             [
              0.2222222222222222,
              "#7201a8"
             ],
             [
              0.3333333333333333,
              "#9c179e"
             ],
             [
              0.4444444444444444,
              "#bd3786"
             ],
             [
              0.5555555555555556,
              "#d8576b"
             ],
             [
              0.6666666666666666,
              "#ed7953"
             ],
             [
              0.7777777777777778,
              "#fb9f3a"
             ],
             [
              0.8888888888888888,
              "#fdca26"
             ],
             [
              1,
              "#f0f921"
             ]
            ],
            "type": "heatmap"
           }
          ],
          "heatmapgl": [
           {
            "colorbar": {
             "outlinewidth": 0,
             "ticks": ""
            },
            "colorscale": [
             [
              0,
              "#0d0887"
             ],
             [
              0.1111111111111111,
              "#46039f"
             ],
             [
              0.2222222222222222,
              "#7201a8"
             ],
             [
              0.3333333333333333,
              "#9c179e"
             ],
             [
              0.4444444444444444,
              "#bd3786"
             ],
             [
              0.5555555555555556,
              "#d8576b"
             ],
             [
              0.6666666666666666,
              "#ed7953"
             ],
             [
              0.7777777777777778,
              "#fb9f3a"
             ],
             [
              0.8888888888888888,
              "#fdca26"
             ],
             [
              1,
              "#f0f921"
             ]
            ],
            "type": "heatmapgl"
           }
          ],
          "histogram": [
           {
            "marker": {
             "pattern": {
              "fillmode": "overlay",
              "size": 10,
              "solidity": 0.2
             }
            },
            "type": "histogram"
           }
          ],
          "histogram2d": [
           {
            "colorbar": {
             "outlinewidth": 0,
             "ticks": ""
            },
            "colorscale": [
             [
              0,
              "#0d0887"
             ],
             [
              0.1111111111111111,
              "#46039f"
             ],
             [
              0.2222222222222222,
              "#7201a8"
             ],
             [
              0.3333333333333333,
              "#9c179e"
             ],
             [
              0.4444444444444444,
              "#bd3786"
             ],
             [
              0.5555555555555556,
              "#d8576b"
             ],
             [
              0.6666666666666666,
              "#ed7953"
             ],
             [
              0.7777777777777778,
              "#fb9f3a"
             ],
             [
              0.8888888888888888,
              "#fdca26"
             ],
             [
              1,
              "#f0f921"
             ]
            ],
            "type": "histogram2d"
           }
          ],
          "histogram2dcontour": [
           {
            "colorbar": {
             "outlinewidth": 0,
             "ticks": ""
            },
            "colorscale": [
             [
              0,
              "#0d0887"
             ],
             [
              0.1111111111111111,
              "#46039f"
             ],
             [
              0.2222222222222222,
              "#7201a8"
             ],
             [
              0.3333333333333333,
              "#9c179e"
             ],
             [
              0.4444444444444444,
              "#bd3786"
             ],
             [
              0.5555555555555556,
              "#d8576b"
             ],
             [
              0.6666666666666666,
              "#ed7953"
             ],
             [
              0.7777777777777778,
              "#fb9f3a"
             ],
             [
              0.8888888888888888,
              "#fdca26"
             ],
             [
              1,
              "#f0f921"
             ]
            ],
            "type": "histogram2dcontour"
           }
          ],
          "mesh3d": [
           {
            "colorbar": {
             "outlinewidth": 0,
             "ticks": ""
            },
            "type": "mesh3d"
           }
          ],
          "parcoords": [
           {
            "line": {
             "colorbar": {
              "outlinewidth": 0,
              "ticks": ""
             }
            },
            "type": "parcoords"
           }
          ],
          "pie": [
           {
            "automargin": true,
            "type": "pie"
           }
          ],
          "scatter": [
           {
            "fillpattern": {
             "fillmode": "overlay",
             "size": 10,
             "solidity": 0.2
            },
            "type": "scatter"
           }
          ],
          "scatter3d": [
           {
            "line": {
             "colorbar": {
              "outlinewidth": 0,
              "ticks": ""
             }
            },
            "marker": {
             "colorbar": {
              "outlinewidth": 0,
              "ticks": ""
             }
            },
            "type": "scatter3d"
           }
          ],
          "scattercarpet": [
           {
            "marker": {
             "colorbar": {
              "outlinewidth": 0,
              "ticks": ""
             }
            },
            "type": "scattercarpet"
           }
          ],
          "scattergeo": [
           {
            "marker": {
             "colorbar": {
              "outlinewidth": 0,
              "ticks": ""
             }
            },
            "type": "scattergeo"
           }
          ],
          "scattergl": [
           {
            "marker": {
             "colorbar": {
              "outlinewidth": 0,
              "ticks": ""
             }
            },
            "type": "scattergl"
           }
          ],
          "scattermapbox": [
           {
            "marker": {
             "colorbar": {
              "outlinewidth": 0,
              "ticks": ""
             }
            },
            "type": "scattermapbox"
           }
          ],
          "scatterpolar": [
           {
            "marker": {
             "colorbar": {
              "outlinewidth": 0,
              "ticks": ""
             }
            },
            "type": "scatterpolar"
           }
          ],
          "scatterpolargl": [
           {
            "marker": {
             "colorbar": {
              "outlinewidth": 0,
              "ticks": ""
             }
            },
            "type": "scatterpolargl"
           }
          ],
          "scatterternary": [
           {
            "marker": {
             "colorbar": {
              "outlinewidth": 0,
              "ticks": ""
             }
            },
            "type": "scatterternary"
           }
          ],
          "surface": [
           {
            "colorbar": {
             "outlinewidth": 0,
             "ticks": ""
            },
            "colorscale": [
             [
              0,
              "#0d0887"
             ],
             [
              0.1111111111111111,
              "#46039f"
             ],
             [
              0.2222222222222222,
              "#7201a8"
             ],
             [
              0.3333333333333333,
              "#9c179e"
             ],
             [
              0.4444444444444444,
              "#bd3786"
             ],
             [
              0.5555555555555556,
              "#d8576b"
             ],
             [
              0.6666666666666666,
              "#ed7953"
             ],
             [
              0.7777777777777778,
              "#fb9f3a"
             ],
             [
              0.8888888888888888,
              "#fdca26"
             ],
             [
              1,
              "#f0f921"
             ]
            ],
            "type": "surface"
           }
          ],
          "table": [
           {
            "cells": {
             "fill": {
              "color": "#EBF0F8"
             },
             "line": {
              "color": "white"
             }
            },
            "header": {
             "fill": {
              "color": "#C8D4E3"
             },
             "line": {
              "color": "white"
             }
            },
            "type": "table"
           }
          ]
         },
         "layout": {
          "annotationdefaults": {
           "arrowcolor": "#2a3f5f",
           "arrowhead": 0,
           "arrowwidth": 1
          },
          "autotypenumbers": "strict",
          "coloraxis": {
           "colorbar": {
            "outlinewidth": 0,
            "ticks": ""
           }
          },
          "colorscale": {
           "diverging": [
            [
             0,
             "#8e0152"
            ],
            [
             0.1,
             "#c51b7d"
            ],
            [
             0.2,
             "#de77ae"
            ],
            [
             0.3,
             "#f1b6da"
            ],
            [
             0.4,
             "#fde0ef"
            ],
            [
             0.5,
             "#f7f7f7"
            ],
            [
             0.6,
             "#e6f5d0"
            ],
            [
             0.7,
             "#b8e186"
            ],
            [
             0.8,
             "#7fbc41"
            ],
            [
             0.9,
             "#4d9221"
            ],
            [
             1,
             "#276419"
            ]
           ],
           "sequential": [
            [
             0,
             "#0d0887"
            ],
            [
             0.1111111111111111,
             "#46039f"
            ],
            [
             0.2222222222222222,
             "#7201a8"
            ],
            [
             0.3333333333333333,
             "#9c179e"
            ],
            [
             0.4444444444444444,
             "#bd3786"
            ],
            [
             0.5555555555555556,
             "#d8576b"
            ],
            [
             0.6666666666666666,
             "#ed7953"
            ],
            [
             0.7777777777777778,
             "#fb9f3a"
            ],
            [
             0.8888888888888888,
             "#fdca26"
            ],
            [
             1,
             "#f0f921"
            ]
           ],
           "sequentialminus": [
            [
             0,
             "#0d0887"
            ],
            [
             0.1111111111111111,
             "#46039f"
            ],
            [
             0.2222222222222222,
             "#7201a8"
            ],
            [
             0.3333333333333333,
             "#9c179e"
            ],
            [
             0.4444444444444444,
             "#bd3786"
            ],
            [
             0.5555555555555556,
             "#d8576b"
            ],
            [
             0.6666666666666666,
             "#ed7953"
            ],
            [
             0.7777777777777778,
             "#fb9f3a"
            ],
            [
             0.8888888888888888,
             "#fdca26"
            ],
            [
             1,
             "#f0f921"
            ]
           ]
          },
          "colorway": [
           "#636efa",
           "#EF553B",
           "#00cc96",
           "#ab63fa",
           "#FFA15A",
           "#19d3f3",
           "#FF6692",
           "#B6E880",
           "#FF97FF",
           "#FECB52"
          ],
          "font": {
           "color": "#2a3f5f"
          },
          "geo": {
           "bgcolor": "white",
           "lakecolor": "white",
           "landcolor": "#E5ECF6",
           "showlakes": true,
           "showland": true,
           "subunitcolor": "white"
          },
          "hoverlabel": {
           "align": "left"
          },
          "hovermode": "closest",
          "mapbox": {
           "style": "light"
          },
          "paper_bgcolor": "white",
          "plot_bgcolor": "#E5ECF6",
          "polar": {
           "angularaxis": {
            "gridcolor": "white",
            "linecolor": "white",
            "ticks": ""
           },
           "bgcolor": "#E5ECF6",
           "radialaxis": {
            "gridcolor": "white",
            "linecolor": "white",
            "ticks": ""
           }
          },
          "scene": {
           "xaxis": {
            "backgroundcolor": "#E5ECF6",
            "gridcolor": "white",
            "gridwidth": 2,
            "linecolor": "white",
            "showbackground": true,
            "ticks": "",
            "zerolinecolor": "white"
           },
           "yaxis": {
            "backgroundcolor": "#E5ECF6",
            "gridcolor": "white",
            "gridwidth": 2,
            "linecolor": "white",
            "showbackground": true,
            "ticks": "",
            "zerolinecolor": "white"
           },
           "zaxis": {
            "backgroundcolor": "#E5ECF6",
            "gridcolor": "white",
            "gridwidth": 2,
            "linecolor": "white",
            "showbackground": true,
            "ticks": "",
            "zerolinecolor": "white"
           }
          },
          "shapedefaults": {
           "line": {
            "color": "#2a3f5f"
           }
          },
          "ternary": {
           "aaxis": {
            "gridcolor": "white",
            "linecolor": "white",
            "ticks": ""
           },
           "baxis": {
            "gridcolor": "white",
            "linecolor": "white",
            "ticks": ""
           },
           "bgcolor": "#E5ECF6",
           "caxis": {
            "gridcolor": "white",
            "linecolor": "white",
            "ticks": ""
           }
          },
          "title": {
           "x": 0.05
          },
          "xaxis": {
           "automargin": true,
           "gridcolor": "white",
           "linecolor": "white",
           "ticks": "",
           "title": {
            "standoff": 15
           },
           "zerolinecolor": "white",
           "zerolinewidth": 2
          },
          "yaxis": {
           "automargin": true,
           "gridcolor": "white",
           "linecolor": "white",
           "ticks": "",
           "title": {
            "standoff": 15
           },
           "zerolinecolor": "white",
           "zerolinewidth": 2
          }
         }
        },
        "title": {
         "text": "Annual Salary (avg) for Data Practicioner by Job Title<br>(Hover for details)</br>"
        },
        "width": 1100
       }
      },
      "image/png": "[encoded data removed]",
      "text/html": [
       "<div>                            <div id=\"a70d3d06-e2f1-4045-9de3-8eee3bfcf44b\" class=\"plotly-graph-div\" style=\"height:900px; width:1100px;\"></div>            <script type=\"text/javascript\">                require([\"plotly\"], function(Plotly) {                    window.PLOTLYENV=window.PLOTLYENV || {};                                    if (document.getElementById(\"a70d3d06-e2f1-4045-9de3-8eee3bfcf44b\")) {                    Plotly.newPlot(                        \"a70d3d06-e2f1-4045-9de3-8eee3bfcf44b\",                        [{\"branchvalues\":\"total\",\"customdata\":[[\"Business Analyst\",74375.0],[\"Business Analyst\",89739.0],[\"Business Analyst\",88010.0],[\"Business Analyst\",71249.0],[\"Business Analyst\",100388.0],[\"Business Analyst\",81671.0],[\"Business Analyst\",86262.0],[\"Business Analyst\",99863.0],[\"Business Analyst\",74298.0],[\"Business Analyst\",86516.0],[\"Business Analyst\",91285.0],[\"Business Analyst\",86739.0],[\"Business Analyst\",84744.0],[\"Business Analyst\",88038.0],[\"Business Analyst\",86728.0],[\"Business Analyst\",77279.0],[\"Business Analyst\",72376.0],[\"Business Analyst\",74802.0],[\"Business Analyst\",91428.0],[\"Business Analyst\",101187.0],[\"Business Analyst\",95305.0],[\"Business Analyst\",78149.0],[\"Business Analyst\",89712.0],[\"Business Analyst\",80378.0],[\"Business Analyst\",77728.0],[\"Business Analyst\",84436.0],[\"Business Analyst\",91371.0],[\"Business Analyst\",94881.0],[\"Business Analyst\",86804.0],[\"Business Analyst\",92173.0],[\"Business Analyst\",83516.0],[\"Business Analyst\",103867.0],[\"Business Analyst\",72016.0],[\"Business Analyst\",87059.0],[\"Business Analyst\",83353.0],[\"Business Analyst\",95802.0],[\"Business Analyst\",92319.0],[\"Business Analyst\",86897.0],[\"Business Analyst\",87199.0],[\"Business Analyst\",78875.0],[\"Business Analyst\",87125.0],[\"Business Analyst\",81583.0],[\"Business Analyst\",89690.0],[\"Business Analyst\",81684.0],[\"Business Analyst\",93341.0],[\"Business Analyst\",100834.0],[\"Business Analyst\",108915.0],[\"Business Analyst\",74874.0],[\"Business Analyst\",92253.0],[\"Business Analyst\",88732.0],[\"Data Analyst\",69689.0],[\"Data Analyst\",79092.0],[\"Data Analyst\",82463.0],[\"Data Analyst\",62193.0],[\"Data Analyst\",75874.0],[\"Data Analyst\",71206.0],[\"Data Analyst\",77036.0],[\"Data Analyst\",71386.0],[\"Data Analyst\",69613.0],[\"Data Analyst\",81062.0],[\"Data Analyst\",80736.0],[\"Data Analyst\",65296.0],[\"Data Analyst\",73973.0],[\"Data Analyst\",82490.0],[\"Data Analyst\",78124.0],[\"Data Analyst\",68643.0],[\"Data Analyst\",63288.0],[\"Data Analyst\",67789.0],[\"Data Analyst\",69468.0],[\"Data Analyst\",72435.0],[\"Data Analyst\",83473.0],[\"Data Analyst\",68115.0],[\"Data Analyst\",81303.0],[\"Data Analyst\",71412.0],[\"Data Analyst\",67649.0],[\"Data Analyst\",79115.0],[\"Data Analyst\",65690.0],[\"Data Analyst\",83624.0],[\"Data Analyst\",82409.0],[\"Data Analyst\",84878.0],[\"Data Analyst\",76401.0],[\"Data Analyst\",98238.0],[\"Data Analyst\",62709.0],[\"Data Analyst\",77057.0],[\"Data Analyst\",75739.0],[\"Data Analyst\",68874.0],[\"Data Analyst\",81828.0],[\"Data Analyst\",82161.0],[\"Data Analyst\",77290.0],[\"Data Analyst\",68682.0],[\"Data Analyst\",77115.0],[\"Data Analyst\",74134.0],[\"Data Analyst\",67273.0],[\"Data Analyst\",73901.0],[\"Data Analyst\",72641.0],[\"Data Analyst\",72494.0],[\"Data Analyst\",81244.0],[\"Data Analyst\",70795.0],[\"Data Analyst\",84340.0],[\"Data Analyst\",83611.0],[\"Data Engineer\",96843.0],[\"Data Engineer\",141854.0],[\"Data Engineer\",114596.0],[\"Data Engineer\",109017.0],[\"Data Engineer\",128004.0],[\"Data Engineer\",124464.0],[\"Data Engineer\",114164.0],[\"Data Engineer\",123888.0],[\"Data Engineer\",96743.0],[\"Data Engineer\",112652.0],[\"Data Engineer\",145975.0],[\"Data Engineer\",110380.0],[\"Data Engineer\",129669.0],[\"Data Engineer\",114633.0],[\"Data Engineer\",114453.0],[\"Data Engineer\",102456.0],[\"Data Engineer\",111411.0],[\"Data Engineer\",98517.0],[\"Data Engineer\",116888.0],[\"Data Engineer\",125616.0],[\"Data Engineer\",147512.0],[\"Data Engineer\",118975.0],[\"Data Engineer\",118153.0],[\"Data Engineer\",106556.0],[\"Data Engineer\",117743.0],[\"Data Engineer\",109941.0],[\"Data Engineer\",113668.0],[\"Data Engineer\",149976.0],[\"Data Engineer\",112502.0],[\"Data Engineer\",120740.0],[\"Data Engineer\",109645.0],[\"Data Engineer\",134797.0],[\"Data Engineer\",109277.0],[\"Data Engineer\",139565.0],[\"Data Engineer\",109680.0],[\"Data Engineer\",119180.0],[\"Data Engineer\",148689.0],[\"Data Engineer\",112786.0],[\"Data Engineer\",140442.0],[\"Data Engineer\",119684.0],[\"Data Engineer\",139670.0],[\"Data Engineer\",107350.0],[\"Data Engineer\",113930.0],[\"Data Engineer\",107642.0],[\"Data Engineer\",120783.0],[\"Data Engineer\",125440.0],[\"Data Engineer\",137971.0],[\"Data Engineer\",97183.0],[\"Data Engineer\",121144.0],[\"Data Engineer\",115307.0],[\"Data Scientist\",103437.0],[\"Data Scientist\",121680.0],[\"Data Scientist\",122400.0],[\"Data Scientist\",96232.0],[\"Data Scientist\",143099.0],[\"Data Scientist\",110256.0],[\"Data Scientist\",117597.0],[\"Data Scientist\",110729.0],[\"Data Scientist\",103328.0],[\"Data Scientist\",120321.0],[\"Data Scientist\",123953.0],[\"Data Scientist\",123923.0],[\"Data Scientist\",114459.0],[\"Data Scientist\",122439.0],[\"Data Scientist\",118653.0],[\"Data Scientist\",105118.0],[\"Data Scientist\",97824.0],[\"Data Scientist\",102592.0],[\"Data Scientist\",129931.0],[\"Data Scientist\",112378.0],[\"Data Scientist\",128900.0],[\"Data Scientist\",105489.0],[\"Data Scientist\",123044.0],[\"Data Scientist\",109345.0],[\"Data Scientist\",104859.0],[\"Data Scientist\",117429.0],[\"Data Scientist\",101966.0],[\"Data Scientist\",128653.0],[\"Data Scientist\",121396.0],[\"Data Scientist\",127259.0],[\"Data Scientist\",114991.0],[\"Data Scientist\",145027.0],[\"Data Scientist\",97172.0],[\"Data Scientist\",118252.0],[\"Data Scientist\",114445.0],[\"Data Scientist\",106910.0],[\"Data Scientist\",125467.0],[\"Data Scientist\",121315.0],[\"Data Scientist\",118510.0],[\"Data Scientist\",106427.0],[\"Data Scientist\",118340.0],[\"Data Scientist\",112017.0],[\"Data Scientist\",104965.0],[\"Data Scientist\",111953.0],[\"Data Scientist\",130783.0],[\"Data Scientist\",112528.0],[\"Data Scientist\",126680.0],[\"Data Scientist\",104532.0],[\"Data Scientist\",126987.0],[\"Data Scientist\",123698.0],[\"Machine Learning Engineer\",106372.0],[\"Machine Learning Engineer\",123316.0],[\"Machine Learning Engineer\",125872.0],[\"Machine Learning Engineer\",97299.0],[\"Machine Learning Engineer\",119362.0],[\"Machine Learning Engineer\",111448.0],[\"Machine Learning Engineer\",119554.0],[\"Machine Learning Engineer\",111847.0],[\"Machine Learning Engineer\",106258.0],[\"Machine Learning Engineer\",123735.0],[\"Machine Learning Engineer\",125723.0],[\"Machine Learning Engineer\",102694.0],[\"Machine Learning Engineer\",115728.0],[\"Machine Learning Engineer\",125913.0],[\"Machine Learning Engineer\",120877.0],[\"Machine Learning Engineer\",106730.0],[\"Machine Learning Engineer\",98950.0],[\"Machine Learning Engineer\",104667.0],[\"Machine Learning Engineer\",109324.0],[\"Machine Learning Engineer\",113503.0],[\"Machine Learning Engineer\",130436.0],[\"Machine Learning Engineer\",106621.0],[\"Machine Learning Engineer\",125531.0],[\"Machine Learning Engineer\",111027.0],[\"Machine Learning Engineer\",105947.0],[\"Machine Learning Engineer\",120760.0],[\"Machine Learning Engineer\",102966.0],[\"Machine Learning Engineer\",130380.0],[\"Machine Learning Engineer\",125231.0],[\"Machine Learning Engineer\",130329.0],[\"Machine Learning Engineer\",117578.0],[\"Machine Learning Engineer\",149475.0],[\"Machine Learning Engineer\",98192.0],[\"Machine Learning Engineer\",119962.0],[\"Machine Learning Engineer\",116832.0],[\"Machine Learning Engineer\",107958.0],[\"Machine Learning Engineer\",127326.0],[\"Machine Learning Engineer\",125027.0],[\"Machine Learning Engineer\",120265.0],[\"Machine Learning Engineer\",107544.0],[\"Machine Learning Engineer\",120052.0],[\"Machine Learning Engineer\",114355.0],[\"Machine Learning Engineer\",105775.0],[\"Machine Learning Engineer\",114169.0],[\"Machine Learning Engineer\",135058.0],[\"Machine Learning Engineer\",113631.0],[\"Machine Learning Engineer\",127691.0],[\"Machine Learning Engineer\",107730.0],[\"Machine Learning Engineer\",129825.0],[\"Machine Learning Engineer\",127379.0],[\"(?)\",92699.12616370397],[\"(?)\",115973.0999566298],[\"(?)\",109692.80454530966],[\"(?)\",90728.66066652905],[\"(?)\",118124.33372858536],[\"(?)\",103815.84068170204],[\"(?)\",105965.66771729436],[\"(?)\",106598.59644049889],[\"(?)\",92601.29879619759],[\"(?)\",107830.52087982514],[\"(?)\",118608.23236657788],[\"(?)\",101985.0105964436],[\"(?)\",107914.28109639337],[\"(?)\",109728.17255249638],[\"(?)\",106805.39691231317],[\"(?)\",94784.35388265766],[\"(?)\",92411.39377806416],[\"(?)\",92282.85392769762],[\"(?)\",107693.01443218016],[\"(?)\",108121.70868507901],[\"(?)\",121987.98378828808],[\"(?)\",99294.09470429392],[\"(?)\",110678.16793338081],[\"(?)\",98592.0761659265],[\"(?)\",98542.00850765732],[\"(?)\",105237.81895946889],[\"(?)\",97933.84842776683],[\"(?)\",122616.17071593188],[\"(?)\",108646.804301002],[\"(?)\",114262.12682690559],[\"(?)\",103322.79275129398],[\"(?)\",129845.38567383165],[\"(?)\",91368.59045533792],[\"(?)\",113250.45793557793],[\"(?)\",102912.30535207549],[\"(?)\",102682.44829605153],[\"(?)\",120356.8903425644],[\"(?)\",108619.46412816698],[\"(?)\",113682.12855844887],[\"(?)\",100070.57361412434],[\"(?)\",113335.44049994284],[\"(?)\",100728.6559898169],[\"(?)\",99154.33406556444],[\"(?)\",100722.52848376108],[\"(?)\",115674.90527428222],[\"(?)\",108077.1690863682],[\"(?)\",119917.1769370353],[\"(?)\",93592.5401415909],[\"(?)\",114110.65413335882],[\"(?)\",110791.6927107793],[\"(?)\",107270.47884083616]],\"domain\":{\"x\":[0.0,1.0],\"y\":[0.0,1.0]},\"hovertemplate\":\"Job Title=%{label}\\u003cbr\\u003eAnnual Salary=%{value}\\u003cextra\\u003e\\u003c\\u002fextra\\u003e\",\"hovertext\":[\"Alabama\",\"Alaska\",\"Arizona\",\"Arkansas\",\"California\",\"Colorado\",\"Connecticut\",\"Delaware\",\"Florida\",\"Georgia\",\"Hawaii\",\"Idaho\",\"Illinois\",\"Indiana\",\"Iowa\",\"Kansas\",\"Kentucky\",\"Louisiana\",\"Maine\",\"Maryland\",\"Massachusetts\",\"Michigan\",\"Minnesota\",\"Mississippi\",\"Missouri\",\"Montana\",\"Nebraska\",\"Nevada\",\"New Hampshire\",\"New Jersey\",\"New Mexico\",\"New York\",\"North Carolina\",\"North Dakota\",\"Ohio\",\"Oklahoma\",\"Oregon\",\"Pennsylvania\",\"Rhode Island\",\"South Carolina\",\"South Dakota\",\"Tennessee\",\"Texas\",\"Utah\",\"Vermont\",\"Virginia\",\"Washington\",\"West Virginia\",\"Wisconsin\",\"Wyoming\",\"Alabama\",\"Alaska\",\"Arizona\",\"Arkansas\",\"California\",\"Colorado\",\"Connecticut\",\"Delaware\",\"Florida\",\"Georgia\",\"Hawaii\",\"Idaho\",\"Illinois\",\"Indiana\",\"Iowa\",\"Kansas\",\"Kentucky\",\"Louisiana\",\"Maine\",\"Maryland\",\"Massachusetts\",\"Michigan\",\"Minnesota\",\"Mississippi\",\"Missouri\",\"Montana\",\"Nebraska\",\"Nevada\",\"New Hampshire\",\"New Jersey\",\"New Mexico\",\"New York\",\"North Carolina\",\"North Dakota\",\"Ohio\",\"Oklahoma\",\"Oregon\",\"Pennsylvania\",\"Rhode Island\",\"South Carolina\",\"South Dakota\",\"Tennessee\",\"Texas\",\"Utah\",\"Vermont\",\"Virginia\",\"Washington\",\"West Virginia\",\"Wisconsin\",\"Wyoming\",\"Alabama\",\"Alaska\",\"Arizona\",\"Arkansas\",\"California\",\"Colorado\",\"Connecticut\",\"Delaware\",\"Florida\",\"Georgia\",\"Hawaii\",\"Idaho\",\"Illinois\",\"Indiana\",\"Iowa\",\"Kansas\",\"Kentucky\",\"Louisiana\",\"Maine\",\"Maryland\",\"Massachusetts\",\"Michigan\",\"Minnesota\",\"Mississippi\",\"Missouri\",\"Montana\",\"Nebraska\",\"Nevada\",\"New Hampshire\",\"New Jersey\",\"New Mexico\",\"New York\",\"North Carolina\",\"North Dakota\",\"Ohio\",\"Oklahoma\",\"Oregon\",\"Pennsylvania\",\"Rhode Island\",\"South Carolina\",\"South Dakota\",\"Tennessee\",\"Texas\",\"Utah\",\"Vermont\",\"Virginia\",\"Washington\",\"West Virginia\",\"Wisconsin\",\"Wyoming\",\"Alabama\",\"Alaska\",\"Arizona\",\"Arkansas\",\"California\",\"Colorado\",\"Connecticut\",\"Delaware\",\"Florida\",\"Georgia\",\"Hawaii\",\"Idaho\",\"Illinois\",\"Indiana\",\"Iowa\",\"Kansas\",\"Kentucky\",\"Louisiana\",\"Maine\",\"Maryland\",\"Massachusetts\",\"Michigan\",\"Minnesota\",\"Mississippi\",\"Missouri\",\"Montana\",\"Nebraska\",\"Nevada\",\"New Hampshire\",\"New Jersey\",\"New Mexico\",\"New York\",\"North Carolina\",\"North Dakota\",\"Ohio\",\"Oklahoma\",\"Oregon\",\"Pennsylvania\",\"Rhode Island\",\"South Carolina\",\"South Dakota\",\"Tennessee\",\"Texas\",\"Utah\",\"Vermont\",\"Virginia\",\"Washington\",\"West Virginia\",\"Wisconsin\",\"Wyoming\",\"Alabama\",\"Alaska\",\"Arizona\",\"Arkansas\",\"California\",\"Colorado\",\"Connecticut\",\"Delaware\",\"Florida\",\"Georgia\",\"Hawaii\",\"Idaho\",\"Illinois\",\"Indiana\",\"Iowa\",\"Kansas\",\"Kentucky\",\"Louisiana\",\"Maine\",\"Maryland\",\"Massachusetts\",\"Michigan\",\"Minnesota\",\"Mississippi\",\"Missouri\",\"Montana\",\"Nebraska\",\"Nevada\",\"New Hampshire\",\"New Jersey\",\"New Mexico\",\"New York\",\"North Carolina\",\"North Dakota\",\"Ohio\",\"Oklahoma\",\"Oregon\",\"Pennsylvania\",\"Rhode Island\",\"South Carolina\",\"South Dakota\",\"Tennessee\",\"Texas\",\"Utah\",\"Vermont\",\"Virginia\",\"Washington\",\"West Virginia\",\"Wisconsin\",\"Wyoming\",\"Alabama\",\"Alaska\",\"Arizona\",\"Arkansas\",\"California\",\"Colorado\",\"Connecticut\",\"Delaware\",\"Florida\",\"Georgia\",\"Hawaii\",\"Idaho\",\"Illinois\",\"Indiana\",\"Iowa\",\"Kansas\",\"Kentucky\",\"Louisiana\",\"Maine\",\"Maryland\",\"Massachusetts\",\"Michigan\",\"Minnesota\",\"Mississippi\",\"Missouri\",\"Montana\",\"Nebraska\",\"Nevada\",\"New Hampshire\",\"New Jersey\",\"New Mexico\",\"New York\",\"North Carolina\",\"North Dakota\",\"Ohio\",\"Oklahoma\",\"Oregon\",\"Pennsylvania\",\"Rhode Island\",\"South Carolina\",\"South Dakota\",\"Tennessee\",\"Texas\",\"Utah\",\"Vermont\",\"Virginia\",\"Washington\",\"West Virginia\",\"Wisconsin\",\"Wyoming\",\"(?)\"],\"ids\":[\"Data Practicioner Salaries\\u002fAlabama\\u002fBusiness Analyst\",\"Data Practicioner Salaries\\u002fAlaska\\u002fBusiness Analyst\",\"Data Practicioner Salaries\\u002fArizona\\u002fBusiness Analyst\",\"Data Practicioner Salaries\\u002fArkansas\\u002fBusiness Analyst\",\"Data Practicioner Salaries\\u002fCalifornia\\u002fBusiness Analyst\",\"Data Practicioner Salaries\\u002fColorado\\u002fBusiness Analyst\",\"Data Practicioner Salaries\\u002fConnecticut\\u002fBusiness Analyst\",\"Data Practicioner Salaries\\u002fDelaware\\u002fBusiness Analyst\",\"Data Practicioner Salaries\\u002fFlorida\\u002fBusiness Analyst\",\"Data Practicioner Salaries\\u002fGeorgia\\u002fBusiness Analyst\",\"Data Practicioner Salaries\\u002fHawaii\\u002fBusiness Analyst\",\"Data Practicioner Salaries\\u002fIdaho\\u002fBusiness Analyst\",\"Data Practicioner Salaries\\u002fIllinois\\u002fBusiness Analyst\",\"Data Practicioner Salaries\\u002fIndiana\\u002fBusiness Analyst\",\"Data Practicioner Salaries\\u002fIowa\\u002fBusiness Analyst\",\"Data Practicioner Salaries\\u002fKansas\\u002fBusiness Analyst\",\"Data Practicioner Salaries\\u002fKentucky\\u002fBusiness Analyst\",\"Data Practicioner Salaries\\u002fLouisiana\\u002fBusiness Analyst\",\"Data Practicioner Salaries\\u002fMaine\\u002fBusiness Analyst\",\"Data Practicioner Salaries\\u002fMaryland\\u002fBusiness Analyst\",\"Data Practicioner Salaries\\u002fMassachusetts\\u002fBusiness Analyst\",\"Data Practicioner Salaries\\u002fMichigan\\u002fBusiness Analyst\",\"Data Practicioner Salaries\\u002fMinnesota\\u002fBusiness Analyst\",\"Data Practicioner Salaries\\u002fMississippi\\u002fBusiness Analyst\",\"Data Practicioner Salaries\\u002fMissouri\\u002fBusiness Analyst\",\"Data Practicioner Salaries\\u002fMontana\\u002fBusiness Analyst\",\"Data Practicioner Salaries\\u002fNebraska\\u002fBusiness Analyst\",\"Data Practicioner Salaries\\u002fNevada\\u002fBusiness Analyst\",\"Data Practicioner Salaries\\u002fNew Hampshire\\u002fBusiness Analyst\",\"Data Practicioner Salaries\\u002fNew Jersey\\u002fBusiness Analyst\",\"Data Practicioner Salaries\\u002fNew Mexico\\u002fBusiness Analyst\",\"Data Practicioner Salaries\\u002fNew York\\u002fBusiness Analyst\",\"Data Practicioner Salaries\\u002fNorth Carolina\\u002fBusiness Analyst\",\"Data Practicioner Salaries\\u002fNorth Dakota\\u002fBusiness Analyst\",\"Data Practicioner Salaries\\u002fOhio\\u002fBusiness Analyst\",\"Data Practicioner Salaries\\u002fOklahoma\\u002fBusiness Analyst\",\"Data Practicioner Salaries\\u002fOregon\\u002fBusiness Analyst\",\"Data Practicioner Salaries\\u002fPennsylvania\\u002fBusiness Analyst\",\"Data Practicioner Salaries\\u002fRhode Island\\u002fBusiness Analyst\",\"Data Practicioner Salaries\\u002fSouth Carolina\\u002fBusiness Analyst\",\"Data Practicioner Salaries\\u002fSouth Dakota\\u002fBusiness Analyst\",\"Data Practicioner Salaries\\u002fTennessee\\u002fBusiness Analyst\",\"Data Practicioner Salaries\\u002fTexas\\u002fBusiness Analyst\",\"Data Practicioner Salaries\\u002fUtah\\u002fBusiness Analyst\",\"Data Practicioner Salaries\\u002fVermont\\u002fBusiness Analyst\",\"Data Practicioner Salaries\\u002fVirginia\\u002fBusiness Analyst\",\"Data Practicioner Salaries\\u002fWashington\\u002fBusiness Analyst\",\"Data Practicioner Salaries\\u002fWest Virginia\\u002fBusiness Analyst\",\"Data Practicioner Salaries\\u002fWisconsin\\u002fBusiness Analyst\",\"Data Practicioner Salaries\\u002fWyoming\\u002fBusiness Analyst\",\"Data Practicioner Salaries\\u002fAlabama\\u002fData Analyst\",\"Data Practicioner Salaries\\u002fAlaska\\u002fData Analyst\",\"Data Practicioner Salaries\\u002fArizona\\u002fData Analyst\",\"Data Practicioner Salaries\\u002fArkansas\\u002fData Analyst\",\"Data Practicioner Salaries\\u002fCalifornia\\u002fData Analyst\",\"Data Practicioner Salaries\\u002fColorado\\u002fData Analyst\",\"Data Practicioner Salaries\\u002fConnecticut\\u002fData Analyst\",\"Data Practicioner Salaries\\u002fDelaware\\u002fData Analyst\",\"Data Practicioner Salaries\\u002fFlorida\\u002fData Analyst\",\"Data Practicioner Salaries\\u002fGeorgia\\u002fData Analyst\",\"Data Practicioner Salaries\\u002fHawaii\\u002fData Analyst\",\"Data Practicioner Salaries\\u002fIdaho\\u002fData Analyst\",\"Data Practicioner Salaries\\u002fIllinois\\u002fData Analyst\",\"Data Practicioner Salaries\\u002fIndiana\\u002fData Analyst\",\"Data Practicioner Salaries\\u002fIowa\\u002fData Analyst\",\"Data Practicioner Salaries\\u002fKansas\\u002fData Analyst\",\"Data Practicioner Salaries\\u002fKentucky\\u002fData Analyst\",\"Data Practicioner Salaries\\u002fLouisiana\\u002fData Analyst\",\"Data Practicioner Salaries\\u002fMaine\\u002fData Analyst\",\"Data Practicioner Salaries\\u002fMaryland\\u002fData Analyst\",\"Data Practicioner Salaries\\u002fMassachusetts\\u002fData Analyst\",\"Data Practicioner Salaries\\u002fMichigan\\u002fData Analyst\",\"Data Practicioner Salaries\\u002fMinnesota\\u002fData Analyst\",\"Data Practicioner Salaries\\u002fMississippi\\u002fData Analyst\",\"Data Practicioner Salaries\\u002fMissouri\\u002fData Analyst\",\"Data Practicioner Salaries\\u002fMontana\\u002fData Analyst\",\"Data Practicioner Salaries\\u002fNebraska\\u002fData Analyst\",\"Data Practicioner Salaries\\u002fNevada\\u002fData Analyst\",\"Data Practicioner Salaries\\u002fNew Hampshire\\u002fData Analyst\",\"Data Practicioner Salaries\\u002fNew Jersey\\u002fData Analyst\",\"Data Practicioner Salaries\\u002fNew Mexico\\u002fData Analyst\",\"Data Practicioner Salaries\\u002fNew York\\u002fData Analyst\",\"Data Practicioner Salaries\\u002fNorth Carolina\\u002fData Analyst\",\"Data Practicioner Salaries\\u002fNorth Dakota\\u002fData Analyst\",\"Data Practicioner Salaries\\u002fOhio\\u002fData Analyst\",\"Data Practicioner Salaries\\u002fOklahoma\\u002fData Analyst\",\"Data Practicioner Salaries\\u002fOregon\\u002fData Analyst\",\"Data Practicioner Salaries\\u002fPennsylvania\\u002fData Analyst\",\"Data Practicioner Salaries\\u002fRhode Island\\u002fData Analyst\",\"Data Practicioner Salaries\\u002fSouth Carolina\\u002fData Analyst\",\"Data Practicioner Salaries\\u002fSouth Dakota\\u002fData Analyst\",\"Data Practicioner Salaries\\u002fTennessee\\u002fData Analyst\",\"Data Practicioner Salaries\\u002fTexas\\u002fData Analyst\",\"Data Practicioner Salaries\\u002fUtah\\u002fData Analyst\",\"Data Practicioner Salaries\\u002fVermont\\u002fData Analyst\",\"Data Practicioner Salaries\\u002fVirginia\\u002fData Analyst\",\"Data Practicioner Salaries\\u002fWashington\\u002fData Analyst\",\"Data Practicioner Salaries\\u002fWest Virginia\\u002fData Analyst\",\"Data Practicioner Salaries\\u002fWisconsin\\u002fData Analyst\",\"Data Practicioner Salaries\\u002fWyoming\\u002fData Analyst\",\"Data Practicioner Salaries\\u002fAlabama\\u002fData Engineer\",\"Data Practicioner Salaries\\u002fAlaska\\u002fData Engineer\",\"Data Practicioner Salaries\\u002fArizona\\u002fData Engineer\",\"Data Practicioner Salaries\\u002fArkansas\\u002fData Engineer\",\"Data Practicioner Salaries\\u002fCalifornia\\u002fData Engineer\",\"Data Practicioner Salaries\\u002fColorado\\u002fData Engineer\",\"Data Practicioner Salaries\\u002fConnecticut\\u002fData Engineer\",\"Data Practicioner Salaries\\u002fDelaware\\u002fData Engineer\",\"Data Practicioner Salaries\\u002fFlorida\\u002fData Engineer\",\"Data Practicioner Salaries\\u002fGeorgia\\u002fData Engineer\",\"Data Practicioner Salaries\\u002fHawaii\\u002fData Engineer\",\"Data Practicioner Salaries\\u002fIdaho\\u002fData Engineer\",\"Data Practicioner Salaries\\u002fIllinois\\u002fData Engineer\",\"Data Practicioner Salaries\\u002fIndiana\\u002fData Engineer\",\"Data Practicioner Salaries\\u002fIowa\\u002fData Engineer\",\"Data Practicioner Salaries\\u002fKansas\\u002fData Engineer\",\"Data Practicioner Salaries\\u002fKentucky\\u002fData Engineer\",\"Data Practicioner Salaries\\u002fLouisiana\\u002fData Engineer\",\"Data Practicioner Salaries\\u002fMaine\\u002fData Engineer\",\"Data Practicioner Salaries\\u002fMaryland\\u002fData Engineer\",\"Data Practicioner Salaries\\u002fMassachusetts\\u002fData Engineer\",\"Data Practicioner Salaries\\u002fMichigan\\u002fData Engineer\",\"Data Practicioner Salaries\\u002fMinnesota\\u002fData Engineer\",\"Data Practicioner Salaries\\u002fMississippi\\u002fData Engineer\",\"Data Practicioner Salaries\\u002fMissouri\\u002fData Engineer\",\"Data Practicioner Salaries\\u002fMontana\\u002fData Engineer\",\"Data Practicioner Salaries\\u002fNebraska\\u002fData Engineer\",\"Data Practicioner Salaries\\u002fNevada\\u002fData Engineer\",\"Data Practicioner Salaries\\u002fNew Hampshire\\u002fData Engineer\",\"Data Practicioner Salaries\\u002fNew Jersey\\u002fData Engineer\",\"Data Practicioner Salaries\\u002fNew Mexico\\u002fData Engineer\",\"Data Practicioner Salaries\\u002fNew York\\u002fData Engineer\",\"Data Practicioner Salaries\\u002fNorth Carolina\\u002fData Engineer\",\"Data Practicioner Salaries\\u002fNorth Dakota\\u002fData Engineer\",\"Data Practicioner Salaries\\u002fOhio\\u002fData Engineer\",\"Data Practicioner Salaries\\u002fOklahoma\\u002fData Engineer\",\"Data Practicioner Salaries\\u002fOregon\\u002fData Engineer\",\"Data Practicioner Salaries\\u002fPennsylvania\\u002fData Engineer\",\"Data Practicioner Salaries\\u002fRhode Island\\u002fData Engineer\",\"Data Practicioner Salaries\\u002fSouth Carolina\\u002fData Engineer\",\"Data Practicioner Salaries\\u002fSouth Dakota\\u002fData Engineer\",\"Data Practicioner Salaries\\u002fTennessee\\u002fData Engineer\",\"Data Practicioner Salaries\\u002fTexas\\u002fData Engineer\",\"Data Practicioner Salaries\\u002fUtah\\u002fData Engineer\",\"Data Practicioner Salaries\\u002fVermont\\u002fData Engineer\",\"Data Practicioner Salaries\\u002fVirginia\\u002fData Engineer\",\"Data Practicioner Salaries\\u002fWashington\\u002fData Engineer\",\"Data Practicioner Salaries\\u002fWest Virginia\\u002fData Engineer\",\"Data Practicioner Salaries\\u002fWisconsin\\u002fData Engineer\",\"Data Practicioner Salaries\\u002fWyoming\\u002fData Engineer\",\"Data Practicioner Salaries\\u002fAlabama\\u002fData Scientist\",\"Data Practicioner Salaries\\u002fAlaska\\u002fData Scientist\",\"Data Practicioner Salaries\\u002fArizona\\u002fData Scientist\",\"Data Practicioner Salaries\\u002fArkansas\\u002fData Scientist\",\"Data Practicioner Salaries\\u002fCalifornia\\u002fData Scientist\",\"Data Practicioner Salaries\\u002fColorado\\u002fData Scientist\",\"Data Practicioner Salaries\\u002fConnecticut\\u002fData Scientist\",\"Data Practicioner Salaries\\u002fDelaware\\u002fData Scientist\",\"Data Practicioner Salaries\\u002fFlorida\\u002fData Scientist\",\"Data Practicioner Salaries\\u002fGeorgia\\u002fData Scientist\",\"Data Practicioner Salaries\\u002fHawaii\\u002fData Scientist\",\"Data Practicioner Salaries\\u002fIdaho\\u002fData Scientist\",\"Data Practicioner Salaries\\u002fIllinois\\u002fData Scientist\",\"Data Practicioner Salaries\\u002fIndiana\\u002fData Scientist\",\"Data Practicioner Salaries\\u002fIowa\\u002fData Scientist\",\"Data Practicioner Salaries\\u002fKansas\\u002fData Scientist\",\"Data Practicioner Salaries\\u002fKentucky\\u002fData Scientist\",\"Data Practicioner Salaries\\u002fLouisiana\\u002fData Scientist\",\"Data Practicioner Salaries\\u002fMaine\\u002fData Scientist\",\"Data Practicioner Salaries\\u002fMaryland\\u002fData Scientist\",\"Data Practicioner Salaries\\u002fMassachusetts\\u002fData Scientist\",\"Data Practicioner Salaries\\u002fMichigan\\u002fData Scientist\",\"Data Practicioner Salaries\\u002fMinnesota\\u002fData Scientist\",\"Data Practicioner Salaries\\u002fMississippi\\u002fData Scientist\",\"Data Practicioner Salaries\\u002fMissouri\\u002fData Scientist\",\"Data Practicioner Salaries\\u002fMontana\\u002fData Scientist\",\"Data Practicioner Salaries\\u002fNebraska\\u002fData Scientist\",\"Data Practicioner Salaries\\u002fNevada\\u002fData Scientist\",\"Data Practicioner Salaries\\u002fNew Hampshire\\u002fData Scientist\",\"Data Practicioner Salaries\\u002fNew Jersey\\u002fData Scientist\",\"Data Practicioner Salaries\\u002fNew Mexico\\u002fData Scientist\",\"Data Practicioner Salaries\\u002fNew York\\u002fData Scientist\",\"Data Practicioner Salaries\\u002fNorth Carolina\\u002fData Scientist\",\"Data Practicioner Salaries\\u002fNorth Dakota\\u002fData Scientist\",\"Data Practicioner Salaries\\u002fOhio\\u002fData Scientist\",\"Data Practicioner Salaries\\u002fOklahoma\\u002fData Scientist\",\"Data Practicioner Salaries\\u002fOregon\\u002fData Scientist\",\"Data Practicioner Salaries\\u002fPennsylvania\\u002fData Scientist\",\"Data Practicioner Salaries\\u002fRhode Island\\u002fData Scientist\",\"Data Practicioner Salaries\\u002fSouth Carolina\\u002fData Scientist\",\"Data Practicioner Salaries\\u002fSouth Dakota\\u002fData Scientist\",\"Data Practicioner Salaries\\u002fTennessee\\u002fData Scientist\",\"Data Practicioner Salaries\\u002fTexas\\u002fData Scientist\",\"Data Practicioner Salaries\\u002fUtah\\u002fData Scientist\",\"Data Practicioner Salaries\\u002fVermont\\u002fData Scientist\",\"Data Practicioner Salaries\\u002fVirginia\\u002fData Scientist\",\"Data Practicioner Salaries\\u002fWashington\\u002fData Scientist\",\"Data Practicioner Salaries\\u002fWest Virginia\\u002fData Scientist\",\"Data Practicioner Salaries\\u002fWisconsin\\u002fData Scientist\",\"Data Practicioner Salaries\\u002fWyoming\\u002fData Scientist\",\"Data Practicioner Salaries\\u002fAlabama\\u002fMachine Learning Engineer\",\"Data Practicioner Salaries\\u002fAlaska\\u002fMachine Learning Engineer\",\"Data Practicioner Salaries\\u002fArizona\\u002fMachine Learning Engineer\",\"Data Practicioner Salaries\\u002fArkansas\\u002fMachine Learning Engineer\",\"Data Practicioner Salaries\\u002fCalifornia\\u002fMachine Learning Engineer\",\"Data Practicioner Salaries\\u002fColorado\\u002fMachine Learning Engineer\",\"Data Practicioner Salaries\\u002fConnecticut\\u002fMachine Learning Engineer\",\"Data Practicioner Salaries\\u002fDelaware\\u002fMachine Learning Engineer\",\"Data Practicioner Salaries\\u002fFlorida\\u002fMachine Learning Engineer\",\"Data Practicioner Salaries\\u002fGeorgia\\u002fMachine Learning Engineer\",\"Data Practicioner Salaries\\u002fHawaii\\u002fMachine Learning Engineer\",\"Data Practicioner Salaries\\u002fIdaho\\u002fMachine Learning Engineer\",\"Data Practicioner Salaries\\u002fIllinois\\u002fMachine Learning Engineer\",\"Data Practicioner Salaries\\u002fIndiana\\u002fMachine Learning Engineer\",\"Data Practicioner Salaries\\u002fIowa\\u002fMachine Learning Engineer\",\"Data Practicioner Salaries\\u002fKansas\\u002fMachine Learning Engineer\",\"Data Practicioner Salaries\\u002fKentucky\\u002fMachine Learning Engineer\",\"Data Practicioner Salaries\\u002fLouisiana\\u002fMachine Learning Engineer\",\"Data Practicioner Salaries\\u002fMaine\\u002fMachine Learning Engineer\",\"Data Practicioner Salaries\\u002fMaryland\\u002fMachine Learning Engineer\",\"Data Practicioner Salaries\\u002fMassachusetts\\u002fMachine Learning Engineer\",\"Data Practicioner Salaries\\u002fMichigan\\u002fMachine Learning Engineer\",\"Data Practicioner Salaries\\u002fMinnesota\\u002fMachine Learning Engineer\",\"Data Practicioner Salaries\\u002fMississippi\\u002fMachine Learning Engineer\",\"Data Practicioner Salaries\\u002fMissouri\\u002fMachine Learning Engineer\",\"Data Practicioner Salaries\\u002fMontana\\u002fMachine Learning Engineer\",\"Data Practicioner Salaries\\u002fNebraska\\u002fMachine Learning Engineer\",\"Data Practicioner Salaries\\u002fNevada\\u002fMachine Learning Engineer\",\"Data Practicioner Salaries\\u002fNew Hampshire\\u002fMachine Learning Engineer\",\"Data Practicioner Salaries\\u002fNew Jersey\\u002fMachine Learning Engineer\",\"Data Practicioner Salaries\\u002fNew Mexico\\u002fMachine Learning Engineer\",\"Data Practicioner Salaries\\u002fNew York\\u002fMachine Learning Engineer\",\"Data Practicioner Salaries\\u002fNorth Carolina\\u002fMachine Learning Engineer\",\"Data Practicioner Salaries\\u002fNorth Dakota\\u002fMachine Learning Engineer\",\"Data Practicioner Salaries\\u002fOhio\\u002fMachine Learning Engineer\",\"Data Practicioner Salaries\\u002fOklahoma\\u002fMachine Learning Engineer\",\"Data Practicioner Salaries\\u002fOregon\\u002fMachine Learning Engineer\",\"Data Practicioner Salaries\\u002fPennsylvania\\u002fMachine Learning Engineer\",\"Data Practicioner Salaries\\u002fRhode Island\\u002fMachine Learning Engineer\",\"Data Practicioner Salaries\\u002fSouth Carolina\\u002fMachine Learning Engineer\",\"Data Practicioner Salaries\\u002fSouth Dakota\\u002fMachine Learning Engineer\",\"Data Practicioner Salaries\\u002fTennessee\\u002fMachine Learning Engineer\",\"Data Practicioner Salaries\\u002fTexas\\u002fMachine Learning Engineer\",\"Data Practicioner Salaries\\u002fUtah\\u002fMachine Learning Engineer\",\"Data Practicioner Salaries\\u002fVermont\\u002fMachine Learning Engineer\",\"Data Practicioner Salaries\\u002fVirginia\\u002fMachine Learning Engineer\",\"Data Practicioner Salaries\\u002fWashington\\u002fMachine Learning Engineer\",\"Data Practicioner Salaries\\u002fWest Virginia\\u002fMachine Learning Engineer\",\"Data Practicioner Salaries\\u002fWisconsin\\u002fMachine Learning Engineer\",\"Data Practicioner Salaries\\u002fWyoming\\u002fMachine Learning Engineer\",\"Data Practicioner Salaries\\u002fAlabama\",\"Data Practicioner Salaries\\u002fAlaska\",\"Data Practicioner Salaries\\u002fArizona\",\"Data Practicioner Salaries\\u002fArkansas\",\"Data Practicioner Salaries\\u002fCalifornia\",\"Data Practicioner Salaries\\u002fColorado\",\"Data Practicioner Salaries\\u002fConnecticut\",\"Data Practicioner Salaries\\u002fDelaware\",\"Data Practicioner Salaries\\u002fFlorida\",\"Data Practicioner Salaries\\u002fGeorgia\",\"Data Practicioner Salaries\\u002fHawaii\",\"Data Practicioner Salaries\\u002fIdaho\",\"Data Practicioner Salaries\\u002fIllinois\",\"Data Practicioner Salaries\\u002fIndiana\",\"Data Practicioner Salaries\\u002fIowa\",\"Data Practicioner Salaries\\u002fKansas\",\"Data Practicioner Salaries\\u002fKentucky\",\"Data Practicioner Salaries\\u002fLouisiana\",\"Data Practicioner Salaries\\u002fMaine\",\"Data Practicioner Salaries\\u002fMaryland\",\"Data Practicioner Salaries\\u002fMassachusetts\",\"Data Practicioner Salaries\\u002fMichigan\",\"Data Practicioner Salaries\\u002fMinnesota\",\"Data Practicioner Salaries\\u002fMississippi\",\"Data Practicioner Salaries\\u002fMissouri\",\"Data Practicioner Salaries\\u002fMontana\",\"Data Practicioner Salaries\\u002fNebraska\",\"Data Practicioner Salaries\\u002fNevada\",\"Data Practicioner Salaries\\u002fNew Hampshire\",\"Data Practicioner Salaries\\u002fNew Jersey\",\"Data Practicioner Salaries\\u002fNew Mexico\",\"Data Practicioner Salaries\\u002fNew York\",\"Data Practicioner Salaries\\u002fNorth Carolina\",\"Data Practicioner Salaries\\u002fNorth Dakota\",\"Data Practicioner Salaries\\u002fOhio\",\"Data Practicioner Salaries\\u002fOklahoma\",\"Data Practicioner Salaries\\u002fOregon\",\"Data Practicioner Salaries\\u002fPennsylvania\",\"Data Practicioner Salaries\\u002fRhode Island\",\"Data Practicioner Salaries\\u002fSouth Carolina\",\"Data Practicioner Salaries\\u002fSouth Dakota\",\"Data Practicioner Salaries\\u002fTennessee\",\"Data Practicioner Salaries\\u002fTexas\",\"Data Practicioner Salaries\\u002fUtah\",\"Data Practicioner Salaries\\u002fVermont\",\"Data Practicioner Salaries\\u002fVirginia\",\"Data Practicioner Salaries\\u002fWashington\",\"Data Practicioner Salaries\\u002fWest Virginia\",\"Data Practicioner Salaries\\u002fWisconsin\",\"Data Practicioner Salaries\\u002fWyoming\",\"Data Practicioner Salaries\"],\"labels\":[\"Business Analyst\",\"Business Analyst\",\"Business Analyst\",\"Business Analyst\",\"Business Analyst\",\"Business Analyst\",\"Business Analyst\",\"Business Analyst\",\"Business Analyst\",\"Business Analyst\",\"Business Analyst\",\"Business Analyst\",\"Business Analyst\",\"Business Analyst\",\"Business Analyst\",\"Business Analyst\",\"Business Analyst\",\"Business Analyst\",\"Business Analyst\",\"Business Analyst\",\"Business Analyst\",\"Business Analyst\",\"Business Analyst\",\"Business Analyst\",\"Business Analyst\",\"Business Analyst\",\"Business Analyst\",\"Business Analyst\",\"Business Analyst\",\"Business Analyst\",\"Business Analyst\",\"Business Analyst\",\"Business Analyst\",\"Business Analyst\",\"Business Analyst\",\"Business Analyst\",\"Business Analyst\",\"Business Analyst\",\"Business Analyst\",\"Business Analyst\",\"Business Analyst\",\"Business Analyst\",\"Business Analyst\",\"Business Analyst\",\"Business Analyst\",\"Business Analyst\",\"Business Analyst\",\"Business Analyst\",\"Business Analyst\",\"Business Analyst\",\"Data Analyst\",\"Data Analyst\",\"Data Analyst\",\"Data Analyst\",\"Data Analyst\",\"Data Analyst\",\"Data Analyst\",\"Data Analyst\",\"Data Analyst\",\"Data Analyst\",\"Data Analyst\",\"Data Analyst\",\"Data Analyst\",\"Data Analyst\",\"Data Analyst\",\"Data Analyst\",\"Data Analyst\",\"Data Analyst\",\"Data Analyst\",\"Data Analyst\",\"Data Analyst\",\"Data Analyst\",\"Data Analyst\",\"Data Analyst\",\"Data Analyst\",\"Data Analyst\",\"Data Analyst\",\"Data Analyst\",\"Data Analyst\",\"Data Analyst\",\"Data Analyst\",\"Data Analyst\",\"Data Analyst\",\"Data Analyst\",\"Data Analyst\",\"Data Analyst\",\"Data Analyst\",\"Data Analyst\",\"Data Analyst\",\"Data Analyst\",\"Data Analyst\",\"Data Analyst\",\"Data Analyst\",\"Data Analyst\",\"Data Analyst\",\"Data Analyst\",\"Data Analyst\",\"Data Analyst\",\"Data Analyst\",\"Data Analyst\",\"Data Engineer\",\"Data Engineer\",\"Data Engineer\",\"Data Engineer\",\"Data Engineer\",\"Data Engineer\",\"Data Engineer\",\"Data Engineer\",\"Data Engineer\",\"Data Engineer\",\"Data Engineer\",\"Data Engineer\",\"Data Engineer\",\"Data Engineer\",\"Data Engineer\",\"Data Engineer\",\"Data Engineer\",\"Data Engineer\",\"Data Engineer\",\"Data Engineer\",\"Data Engineer\",\"Data Engineer\",\"Data Engineer\",\"Data Engineer\",\"Data Engineer\",\"Data Engineer\",\"Data Engineer\",\"Data Engineer\",\"Data Engineer\",\"Data Engineer\",\"Data Engineer\",\"Data Engineer\",\"Data Engineer\",\"Data Engineer\",\"Data Engineer\",\"Data Engineer\",\"Data Engineer\",\"Data Engineer\",\"Data Engineer\",\"Data Engineer\",\"Data Engineer\",\"Data Engineer\",\"Data Engineer\",\"Data Engineer\",\"Data Engineer\",\"Data Engineer\",\"Data Engineer\",\"Data Engineer\",\"Data Engineer\",\"Data Engineer\",\"Data Scientist\",\"Data Scientist\",\"Data Scientist\",\"Data Scientist\",\"Data Scientist\",\"Data Scientist\",\"Data Scientist\",\"Data Scientist\",\"Data Scientist\",\"Data Scientist\",\"Data Scientist\",\"Data Scientist\",\"Data Scientist\",\"Data Scientist\",\"Data Scientist\",\"Data Scientist\",\"Data Scientist\",\"Data Scientist\",\"Data Scientist\",\"Data Scientist\",\"Data Scientist\",\"Data Scientist\",\"Data Scientist\",\"Data Scientist\",\"Data Scientist\",\"Data Scientist\",\"Data Scientist\",\"Data Scientist\",\"Data Scientist\",\"Data Scientist\",\"Data Scientist\",\"Data Scientist\",\"Data Scientist\",\"Data Scientist\",\"Data Scientist\",\"Data Scientist\",\"Data Scientist\",\"Data Scientist\",\"Data Scientist\",\"Data Scientist\",\"Data Scientist\",\"Data Scientist\",\"Data Scientist\",\"Data Scientist\",\"Data Scientist\",\"Data Scientist\",\"Data Scientist\",\"Data Scientist\",\"Data Scientist\",\"Data Scientist\",\"Machine Learning Engineer\",\"Machine Learning Engineer\",\"Machine Learning Engineer\",\"Machine Learning Engineer\",\"Machine Learning Engineer\",\"Machine Learning Engineer\",\"Machine Learning Engineer\",\"Machine Learning Engineer\",\"Machine Learning Engineer\",\"Machine Learning Engineer\",\"Machine Learning Engineer\",\"Machine Learning Engineer\",\"Machine Learning Engineer\",\"Machine Learning Engineer\",\"Machine Learning Engineer\",\"Machine Learning Engineer\",\"Machine Learning Engineer\",\"Machine Learning Engineer\",\"Machine Learning Engineer\",\"Machine Learning Engineer\",\"Machine Learning Engineer\",\"Machine Learning Engineer\",\"Machine Learning Engineer\",\"Machine Learning Engineer\",\"Machine Learning Engineer\",\"Machine Learning Engineer\",\"Machine Learning Engineer\",\"Machine Learning Engineer\",\"Machine Learning Engineer\",\"Machine Learning Engineer\",\"Machine Learning Engineer\",\"Machine Learning Engineer\",\"Machine Learning Engineer\",\"Machine Learning Engineer\",\"Machine Learning Engineer\",\"Machine Learning Engineer\",\"Machine Learning Engineer\",\"Machine Learning Engineer\",\"Machine Learning Engineer\",\"Machine Learning Engineer\",\"Machine Learning Engineer\",\"Machine Learning Engineer\",\"Machine Learning Engineer\",\"Machine Learning Engineer\",\"Machine Learning Engineer\",\"Machine Learning Engineer\",\"Machine Learning Engineer\",\"Machine Learning Engineer\",\"Machine Learning Engineer\",\"Machine Learning Engineer\",\"Alabama\",\"Alaska\",\"Arizona\",\"Arkansas\",\"California\",\"Colorado\",\"Connecticut\",\"Delaware\",\"Florida\",\"Georgia\",\"Hawaii\",\"Idaho\",\"Illinois\",\"Indiana\",\"Iowa\",\"Kansas\",\"Kentucky\",\"Louisiana\",\"Maine\",\"Maryland\",\"Massachusetts\",\"Michigan\",\"Minnesota\",\"Mississippi\",\"Missouri\",\"Montana\",\"Nebraska\",\"Nevada\",\"New Hampshire\",\"New Jersey\",\"New Mexico\",\"New York\",\"North Carolina\",\"North Dakota\",\"Ohio\",\"Oklahoma\",\"Oregon\",\"Pennsylvania\",\"Rhode Island\",\"South Carolina\",\"South Dakota\",\"Tennessee\",\"Texas\",\"Utah\",\"Vermont\",\"Virginia\",\"Washington\",\"West Virginia\",\"Wisconsin\",\"Wyoming\",\"Data Practicioner Salaries\"],\"marker\":{\"coloraxis\":\"coloraxis\",\"colors\":[74375.0,89739.0,88010.0,71249.0,100388.0,81671.0,86262.0,99863.0,74298.0,86516.0,91285.0,86739.0,84744.0,88038.0,86728.0,77279.0,72376.0,74802.0,91428.0,101187.0,95305.0,78149.0,89712.0,80378.0,77728.0,84436.0,91371.0,94881.0,86804.0,92173.0,83516.0,103867.0,72016.0,87059.0,83353.0,95802.0,92319.0,86897.0,87199.0,78875.0,87125.0,81583.0,89690.0,81684.0,93341.0,100834.0,108915.0,74874.0,92253.0,88732.0,69689.0,79092.0,82463.0,62193.0,75874.0,71206.0,77036.0,71386.0,69613.0,81062.0,80736.0,65296.0,73973.0,82490.0,78124.0,68643.0,63288.0,67789.0,69468.0,72435.0,83473.0,68115.0,81303.0,71412.0,67649.0,79115.0,65690.0,83624.0,82409.0,84878.0,76401.0,98238.0,62709.0,77057.0,75739.0,68874.0,81828.0,82161.0,77290.0,68682.0,77115.0,74134.0,67273.0,73901.0,72641.0,72494.0,81244.0,70795.0,84340.0,83611.0,96843.0,141854.0,114596.0,109017.0,128004.0,124464.0,114164.0,123888.0,96743.0,112652.0,145975.0,110380.0,129669.0,114633.0,114453.0,102456.0,111411.0,98517.0,116888.0,125616.0,147512.0,118975.0,118153.0,106556.0,117743.0,109941.0,113668.0,149976.0,112502.0,120740.0,109645.0,134797.0,109277.0,139565.0,109680.0,119180.0,148689.0,112786.0,140442.0,119684.0,139670.0,107350.0,113930.0,107642.0,120783.0,125440.0,137971.0,97183.0,121144.0,115307.0,103437.0,121680.0,122400.0,96232.0,143099.0,110256.0,117597.0,110729.0,103328.0,120321.0,123953.0,123923.0,114459.0,122439.0,118653.0,105118.0,97824.0,102592.0,129931.0,112378.0,128900.0,105489.0,123044.0,109345.0,104859.0,117429.0,101966.0,128653.0,121396.0,127259.0,114991.0,145027.0,97172.0,118252.0,114445.0,106910.0,125467.0,121315.0,118510.0,106427.0,118340.0,112017.0,104965.0,111953.0,130783.0,112528.0,126680.0,104532.0,126987.0,123698.0,106372.0,123316.0,125872.0,97299.0,119362.0,111448.0,119554.0,111847.0,106258.0,123735.0,125723.0,102694.0,115728.0,125913.0,120877.0,106730.0,98950.0,104667.0,109324.0,113503.0,130436.0,106621.0,125531.0,111027.0,105947.0,120760.0,102966.0,130380.0,125231.0,130329.0,117578.0,149475.0,98192.0,119962.0,116832.0,107958.0,127326.0,125027.0,120265.0,107544.0,120052.0,114355.0,105775.0,114169.0,135058.0,113631.0,127691.0,107730.0,129825.0,127379.0,92699.12616370397,115973.0999566298,109692.80454530966,90728.66066652905,118124.33372858536,103815.84068170204,105965.66771729436,106598.59644049889,92601.29879619759,107830.52087982514,118608.23236657788,101985.0105964436,107914.28109639337,109728.17255249638,106805.39691231317,94784.35388265766,92411.39377806416,92282.85392769762,107693.01443218016,108121.70868507901,121987.98378828808,99294.09470429392,110678.16793338081,98592.0761659265,98542.00850765732,105237.81895946889,97933.84842776683,122616.17071593188,108646.804301002,114262.12682690559,103322.79275129398,129845.38567383165,91368.59045533792,113250.45793557793,102912.30535207549,102682.44829605153,120356.8903425644,108619.46412816698,113682.12855844887,100070.57361412434,113335.44049994284,100728.6559898169,99154.33406556444,100722.52848376108,115674.90527428222,108077.1690863682,119917.1769370353,93592.5401415909,114110.65413335882,110791.6927107793,107270.47884083616]},\"name\":\"\",\"parents\":[\"Data Practicioner Salaries\\u002fAlabama\",\"Data Practicioner Salaries\\u002fAlaska\",\"Data Practicioner Salaries\\u002fArizona\",\"Data Practicioner Salaries\\u002fArkansas\",\"Data Practicioner Salaries\\u002fCalifornia\",\"Data Practicioner Salaries\\u002fColorado\",\"Data Practicioner Salaries\\u002fConnecticut\",\"Data Practicioner Salaries\\u002fDelaware\",\"Data Practicioner Salaries\\u002fFlorida\",\"Data Practicioner Salaries\\u002fGeorgia\",\"Data Practicioner Salaries\\u002fHawaii\",\"Data Practicioner Salaries\\u002fIdaho\",\"Data Practicioner Salaries\\u002fIllinois\",\"Data Practicioner Salaries\\u002fIndiana\",\"Data Practicioner Salaries\\u002fIowa\",\"Data Practicioner Salaries\\u002fKansas\",\"Data Practicioner Salaries\\u002fKentucky\",\"Data Practicioner Salaries\\u002fLouisiana\",\"Data Practicioner Salaries\\u002fMaine\",\"Data Practicioner Salaries\\u002fMaryland\",\"Data Practicioner Salaries\\u002fMassachusetts\",\"Data Practicioner Salaries\\u002fMichigan\",\"Data Practicioner Salaries\\u002fMinnesota\",\"Data Practicioner Salaries\\u002fMississippi\",\"Data Practicioner Salaries\\u002fMissouri\",\"Data Practicioner Salaries\\u002fMontana\",\"Data Practicioner Salaries\\u002fNebraska\",\"Data Practicioner Salaries\\u002fNevada\",\"Data Practicioner Salaries\\u002fNew Hampshire\",\"Data Practicioner Salaries\\u002fNew Jersey\",\"Data Practicioner Salaries\\u002fNew Mexico\",\"Data Practicioner Salaries\\u002fNew York\",\"Data Practicioner Salaries\\u002fNorth Carolina\",\"Data Practicioner Salaries\\u002fNorth Dakota\",\"Data Practicioner Salaries\\u002fOhio\",\"Data Practicioner Salaries\\u002fOklahoma\",\"Data Practicioner Salaries\\u002fOregon\",\"Data Practicioner Salaries\\u002fPennsylvania\",\"Data Practicioner Salaries\\u002fRhode Island\",\"Data Practicioner Salaries\\u002fSouth Carolina\",\"Data Practicioner Salaries\\u002fSouth Dakota\",\"Data Practicioner Salaries\\u002fTennessee\",\"Data Practicioner Salaries\\u002fTexas\",\"Data Practicioner Salaries\\u002fUtah\",\"Data Practicioner Salaries\\u002fVermont\",\"Data Practicioner Salaries\\u002fVirginia\",\"Data Practicioner Salaries\\u002fWashington\",\"Data Practicioner Salaries\\u002fWest Virginia\",\"Data Practicioner Salaries\\u002fWisconsin\",\"Data Practicioner Salaries\\u002fWyoming\",\"Data Practicioner Salaries\\u002fAlabama\",\"Data Practicioner Salaries\\u002fAlaska\",\"Data Practicioner Salaries\\u002fArizona\",\"Data Practicioner Salaries\\u002fArkansas\",\"Data Practicioner Salaries\\u002fCalifornia\",\"Data Practicioner Salaries\\u002fColorado\",\"Data Practicioner Salaries\\u002fConnecticut\",\"Data Practicioner Salaries\\u002fDelaware\",\"Data Practicioner Salaries\\u002fFlorida\",\"Data Practicioner Salaries\\u002fGeorgia\",\"Data Practicioner Salaries\\u002fHawaii\",\"Data Practicioner Salaries\\u002fIdaho\",\"Data Practicioner Salaries\\u002fIllinois\",\"Data Practicioner Salaries\\u002fIndiana\",\"Data Practicioner Salaries\\u002fIowa\",\"Data Practicioner Salaries\\u002fKansas\",\"Data Practicioner Salaries\\u002fKentucky\",\"Data Practicioner Salaries\\u002fLouisiana\",\"Data Practicioner Salaries\\u002fMaine\",\"Data Practicioner Salaries\\u002fMaryland\",\"Data Practicioner Salaries\\u002fMassachusetts\",\"Data Practicioner Salaries\\u002fMichigan\",\"Data Practicioner Salaries\\u002fMinnesota\",\"Data Practicioner Salaries\\u002fMississippi\",\"Data Practicioner Salaries\\u002fMissouri\",\"Data Practicioner Salaries\\u002fMontana\",\"Data Practicioner Salaries\\u002fNebraska\",\"Data Practicioner Salaries\\u002fNevada\",\"Data Practicioner Salaries\\u002fNew Hampshire\",\"Data Practicioner Salaries\\u002fNew Jersey\",\"Data Practicioner Salaries\\u002fNew Mexico\",\"Data Practicioner Salaries\\u002fNew York\",\"Data Practicioner Salaries\\u002fNorth Carolina\",\"Data Practicioner Salaries\\u002fNorth Dakota\",\"Data Practicioner Salaries\\u002fOhio\",\"Data Practicioner Salaries\\u002fOklahoma\",\"Data Practicioner Salaries\\u002fOregon\",\"Data Practicioner Salaries\\u002fPennsylvania\",\"Data Practicioner Salaries\\u002fRhode Island\",\"Data Practicioner Salaries\\u002fSouth Carolina\",\"Data Practicioner Salaries\\u002fSouth Dakota\",\"Data Practicioner Salaries\\u002fTennessee\",\"Data Practicioner Salaries\\u002fTexas\",\"Data Practicioner Salaries\\u002fUtah\",\"Data Practicioner Salaries\\u002fVermont\",\"Data Practicioner Salaries\\u002fVirginia\",\"Data Practicioner Salaries\\u002fWashington\",\"Data Practicioner Salaries\\u002fWest Virginia\",\"Data Practicioner Salaries\\u002fWisconsin\",\"Data Practicioner Salaries\\u002fWyoming\",\"Data Practicioner Salaries\\u002fAlabama\",\"Data Practicioner Salaries\\u002fAlaska\",\"Data Practicioner Salaries\\u002fArizona\",\"Data Practicioner Salaries\\u002fArkansas\",\"Data Practicioner Salaries\\u002fCalifornia\",\"Data Practicioner Salaries\\u002fColorado\",\"Data Practicioner Salaries\\u002fConnecticut\",\"Data Practicioner Salaries\\u002fDelaware\",\"Data Practicioner Salaries\\u002fFlorida\",\"Data Practicioner Salaries\\u002fGeorgia\",\"Data Practicioner Salaries\\u002fHawaii\",\"Data Practicioner Salaries\\u002fIdaho\",\"Data Practicioner Salaries\\u002fIllinois\",\"Data Practicioner Salaries\\u002fIndiana\",\"Data Practicioner Salaries\\u002fIowa\",\"Data Practicioner Salaries\\u002fKansas\",\"Data Practicioner Salaries\\u002fKentucky\",\"Data Practicioner Salaries\\u002fLouisiana\",\"Data Practicioner Salaries\\u002fMaine\",\"Data Practicioner Salaries\\u002fMaryland\",\"Data Practicioner Salaries\\u002fMassachusetts\",\"Data Practicioner Salaries\\u002fMichigan\",\"Data Practicioner Salaries\\u002fMinnesota\",\"Data Practicioner Salaries\\u002fMississippi\",\"Data Practicioner Salaries\\u002fMissouri\",\"Data Practicioner Salaries\\u002fMontana\",\"Data Practicioner Salaries\\u002fNebraska\",\"Data Practicioner Salaries\\u002fNevada\",\"Data Practicioner Salaries\\u002fNew Hampshire\",\"Data Practicioner Salaries\\u002fNew Jersey\",\"Data Practicioner Salaries\\u002fNew Mexico\",\"Data Practicioner Salaries\\u002fNew York\",\"Data Practicioner Salaries\\u002fNorth Carolina\",\"Data Practicioner Salaries\\u002fNorth Dakota\",\"Data Practicioner Salaries\\u002fOhio\",\"Data Practicioner Salaries\\u002fOklahoma\",\"Data Practicioner Salaries\\u002fOregon\",\"Data Practicioner Salaries\\u002fPennsylvania\",\"Data Practicioner Salaries\\u002fRhode Island\",\"Data Practicioner Salaries\\u002fSouth Carolina\",\"Data Practicioner Salaries\\u002fSouth Dakota\",\"Data Practicioner Salaries\\u002fTennessee\",\"Data Practicioner Salaries\\u002fTexas\",\"Data Practicioner Salaries\\u002fUtah\",\"Data Practicioner Salaries\\u002fVermont\",\"Data Practicioner Salaries\\u002fVirginia\",\"Data Practicioner Salaries\\u002fWashington\",\"Data Practicioner Salaries\\u002fWest Virginia\",\"Data Practicioner Salaries\\u002fWisconsin\",\"Data Practicioner Salaries\\u002fWyoming\",\"Data Practicioner Salaries\\u002fAlabama\",\"Data Practicioner Salaries\\u002fAlaska\",\"Data Practicioner Salaries\\u002fArizona\",\"Data Practicioner Salaries\\u002fArkansas\",\"Data Practicioner Salaries\\u002fCalifornia\",\"Data Practicioner Salaries\\u002fColorado\",\"Data Practicioner Salaries\\u002fConnecticut\",\"Data Practicioner Salaries\\u002fDelaware\",\"Data Practicioner Salaries\\u002fFlorida\",\"Data Practicioner Salaries\\u002fGeorgia\",\"Data Practicioner Salaries\\u002fHawaii\",\"Data Practicioner Salaries\\u002fIdaho\",\"Data Practicioner Salaries\\u002fIllinois\",\"Data Practicioner Salaries\\u002fIndiana\",\"Data Practicioner Salaries\\u002fIowa\",\"Data Practicioner Salaries\\u002fKansas\",\"Data Practicioner Salaries\\u002fKentucky\",\"Data Practicioner Salaries\\u002fLouisiana\",\"Data Practicioner Salaries\\u002fMaine\",\"Data Practicioner Salaries\\u002fMaryland\",\"Data Practicioner Salaries\\u002fMassachusetts\",\"Data Practicioner Salaries\\u002fMichigan\",\"Data Practicioner Salaries\\u002fMinnesota\",\"Data Practicioner Salaries\\u002fMississippi\",\"Data Practicioner Salaries\\u002fMissouri\",\"Data Practicioner Salaries\\u002fMontana\",\"Data Practicioner Salaries\\u002fNebraska\",\"Data Practicioner Salaries\\u002fNevada\",\"Data Practicioner Salaries\\u002fNew Hampshire\",\"Data Practicioner Salaries\\u002fNew Jersey\",\"Data Practicioner Salaries\\u002fNew Mexico\",\"Data Practicioner Salaries\\u002fNew York\",\"Data Practicioner Salaries\\u002fNorth Carolina\",\"Data Practicioner Salaries\\u002fNorth Dakota\",\"Data Practicioner Salaries\\u002fOhio\",\"Data Practicioner Salaries\\u002fOklahoma\",\"Data Practicioner Salaries\\u002fOregon\",\"Data Practicioner Salaries\\u002fPennsylvania\",\"Data Practicioner Salaries\\u002fRhode Island\",\"Data Practicioner Salaries\\u002fSouth Carolina\",\"Data Practicioner Salaries\\u002fSouth Dakota\",\"Data Practicioner Salaries\\u002fTennessee\",\"Data Practicioner Salaries\\u002fTexas\",\"Data Practicioner Salaries\\u002fUtah\",\"Data Practicioner Salaries\\u002fVermont\",\"Data Practicioner Salaries\\u002fVirginia\",\"Data Practicioner Salaries\\u002fWashington\",\"Data Practicioner Salaries\\u002fWest Virginia\",\"Data Practicioner Salaries\\u002fWisconsin\",\"Data Practicioner Salaries\\u002fWyoming\",\"Data Practicioner Salaries\\u002fAlabama\",\"Data Practicioner Salaries\\u002fAlaska\",\"Data Practicioner Salaries\\u002fArizona\",\"Data Practicioner Salaries\\u002fArkansas\",\"Data Practicioner Salaries\\u002fCalifornia\",\"Data Practicioner Salaries\\u002fColorado\",\"Data Practicioner Salaries\\u002fConnecticut\",\"Data Practicioner Salaries\\u002fDelaware\",\"Data Practicioner Salaries\\u002fFlorida\",\"Data Practicioner Salaries\\u002fGeorgia\",\"Data Practicioner Salaries\\u002fHawaii\",\"Data Practicioner Salaries\\u002fIdaho\",\"Data Practicioner Salaries\\u002fIllinois\",\"Data Practicioner Salaries\\u002fIndiana\",\"Data Practicioner Salaries\\u002fIowa\",\"Data Practicioner Salaries\\u002fKansas\",\"Data Practicioner Salaries\\u002fKentucky\",\"Data Practicioner Salaries\\u002fLouisiana\",\"Data Practicioner Salaries\\u002fMaine\",\"Data Practicioner Salaries\\u002fMaryland\",\"Data Practicioner Salaries\\u002fMassachusetts\",\"Data Practicioner Salaries\\u002fMichigan\",\"Data Practicioner Salaries\\u002fMinnesota\",\"Data Practicioner Salaries\\u002fMississippi\",\"Data Practicioner Salaries\\u002fMissouri\",\"Data Practicioner Salaries\\u002fMontana\",\"Data Practicioner Salaries\\u002fNebraska\",\"Data Practicioner Salaries\\u002fNevada\",\"Data Practicioner Salaries\\u002fNew Hampshire\",\"Data Practicioner Salaries\\u002fNew Jersey\",\"Data Practicioner Salaries\\u002fNew Mexico\",\"Data Practicioner Salaries\\u002fNew York\",\"Data Practicioner Salaries\\u002fNorth Carolina\",\"Data Practicioner Salaries\\u002fNorth Dakota\",\"Data Practicioner Salaries\\u002fOhio\",\"Data Practicioner Salaries\\u002fOklahoma\",\"Data Practicioner Salaries\\u002fOregon\",\"Data Practicioner Salaries\\u002fPennsylvania\",\"Data Practicioner Salaries\\u002fRhode Island\",\"Data Practicioner Salaries\\u002fSouth Carolina\",\"Data Practicioner Salaries\\u002fSouth Dakota\",\"Data Practicioner Salaries\\u002fTennessee\",\"Data Practicioner Salaries\\u002fTexas\",\"Data Practicioner Salaries\\u002fUtah\",\"Data Practicioner Salaries\\u002fVermont\",\"Data Practicioner Salaries\\u002fVirginia\",\"Data Practicioner Salaries\\u002fWashington\",\"Data Practicioner Salaries\\u002fWest Virginia\",\"Data Practicioner Salaries\\u002fWisconsin\",\"Data Practicioner Salaries\\u002fWyoming\",\"Data Practicioner Salaries\",\"Data Practicioner Salaries\",\"Data Practicioner Salaries\",\"Data Practicioner Salaries\",\"Data Practicioner Salaries\",\"Data Practicioner Salaries\",\"Data Practicioner Salaries\",\"Data Practicioner Salaries\",\"Data Practicioner Salaries\",\"Data Practicioner Salaries\",\"Data Practicioner Salaries\",\"Data Practicioner Salaries\",\"Data Practicioner Salaries\",\"Data Practicioner Salaries\",\"Data Practicioner Salaries\",\"Data Practicioner Salaries\",\"Data Practicioner Salaries\",\"Data Practicioner Salaries\",\"Data Practicioner Salaries\",\"Data Practicioner Salaries\",\"Data Practicioner Salaries\",\"Data Practicioner Salaries\",\"Data Practicioner Salaries\",\"Data Practicioner Salaries\",\"Data Practicioner Salaries\",\"Data Practicioner Salaries\",\"Data Practicioner Salaries\",\"Data Practicioner Salaries\",\"Data Practicioner Salaries\",\"Data Practicioner Salaries\",\"Data Practicioner Salaries\",\"Data Practicioner Salaries\",\"Data Practicioner Salaries\",\"Data Practicioner Salaries\",\"Data Practicioner Salaries\",\"Data Practicioner Salaries\",\"Data Practicioner Salaries\",\"Data Practicioner Salaries\",\"Data Practicioner Salaries\",\"Data Practicioner Salaries\",\"Data Practicioner Salaries\",\"Data Practicioner Salaries\",\"Data Practicioner Salaries\",\"Data Practicioner Salaries\",\"Data Practicioner Salaries\",\"Data Practicioner Salaries\",\"Data Practicioner Salaries\",\"Data Practicioner Salaries\",\"Data Practicioner Salaries\",\"Data Practicioner Salaries\",\"\"],\"values\":[74375,89739,88010,71249,100388,81671,86262,99863,74298,86516,91285,86739,84744,88038,86728,77279,72376,74802,91428,101187,95305,78149,89712,80378,77728,84436,91371,94881,86804,92173,83516,103867,72016,87059,83353,95802,92319,86897,87199,78875,87125,81583,89690,81684,93341,100834,108915,74874,92253,88732,69689,79092,82463,62193,75874,71206,77036,71386,69613,81062,80736,65296,73973,82490,78124,68643,63288,67789,69468,72435,83473,68115,81303,71412,67649,79115,65690,83624,82409,84878,76401,98238,62709,77057,75739,68874,81828,82161,77290,68682,77115,74134,67273,73901,72641,72494,81244,70795,84340,83611,96843,141854,114596,109017,128004,124464,114164,123888,96743,112652,145975,110380,129669,114633,114453,102456,111411,98517,116888,125616,147512,118975,118153,106556,117743,109941,113668,149976,112502,120740,109645,134797,109277,139565,109680,119180,148689,112786,140442,119684,139670,107350,113930,107642,120783,125440,137971,97183,121144,115307,103437,121680,122400,96232,143099,110256,117597,110729,103328,120321,123953,123923,114459,122439,118653,105118,97824,102592,129931,112378,128900,105489,123044,109345,104859,117429,101966,128653,121396,127259,114991,145027,97172,118252,114445,106910,125467,121315,118510,106427,118340,112017,104965,111953,130783,112528,126680,104532,126987,123698,106372,123316,125872,97299,119362,111448,119554,111847,106258,123735,125723,102694,115728,125913,120877,106730,98950,104667,109324,113503,130436,106621,125531,111027,105947,120760,102966,130380,125231,130329,117578,149475,98192,119962,116832,107958,127326,125027,120265,107544,120052,114355,105775,114169,135058,113631,127691,107730,129825,127379,450716,555681,533341,435990,566727,499045,514613,517713,450240,524286,567672,489032,518573,533513,518835,460226,443849,448367,517039,525119,585626,477349,537743,478718,473926,511681,475661,587514,528342,555379,502131,631404,439366,541895,500049,498724,575629,528186,543706,481212,542302,489439,481633,489349,552606,524927,582501,455114,554549,538727,25735965],\"type\":\"treemap\"}],                        {\"template\":{\"data\":{\"histogram2dcontour\":[{\"type\":\"histogram2dcontour\",\"colorbar\":{\"outlinewidth\":0,\"ticks\":\"\"},\"colorscale\":[[0.0,\"#0d0887\"],[0.1111111111111111,\"#46039f\"],[0.2222222222222222,\"#7201a8\"],[0.3333333333333333,\"#9c179e\"],[0.4444444444444444,\"#bd3786\"],[0.5555555555555556,\"#d8576b\"],[0.6666666666666666,\"#ed7953\"],[0.7777777777777778,\"#fb9f3a\"],[0.8888888888888888,\"#fdca26\"],[1.0,\"#f0f921\"]]}],\"choropleth\":[{\"type\":\"choropleth\",\"colorbar\":{\"outlinewidth\":0,\"ticks\":\"\"}}],\"histogram2d\":[{\"type\":\"histogram2d\",\"colorbar\":{\"outlinewidth\":0,\"ticks\":\"\"},\"colorscale\":[[0.0,\"#0d0887\"],[0.1111111111111111,\"#46039f\"],[0.2222222222222222,\"#7201a8\"],[0.3333333333333333,\"#9c179e\"],[0.4444444444444444,\"#bd3786\"],[0.5555555555555556,\"#d8576b\"],[0.6666666666666666,\"#ed7953\"],[0.7777777777777778,\"#fb9f3a\"],[0.8888888888888888,\"#fdca26\"],[1.0,\"#f0f921\"]]}],\"heatmap\":[{\"type\":\"heatmap\",\"colorbar\":{\"outlinewidth\":0,\"ticks\":\"\"},\"colorscale\":[[0.0,\"#0d0887\"],[0.1111111111111111,\"#46039f\"],[0.2222222222222222,\"#7201a8\"],[0.3333333333333333,\"#9c179e\"],[0.4444444444444444,\"#bd3786\"],[0.5555555555555556,\"#d8576b\"],[0.6666666666666666,\"#ed7953\"],[0.7777777777777778,\"#fb9f3a\"],[0.8888888888888888,\"#fdca26\"],[1.0,\"#f0f921\"]]}],\"heatmapgl\":[{\"type\":\"heatmapgl\",\"colorbar\":{\"outlinewidth\":0,\"ticks\":\"\"},\"colorscale\":[[0.0,\"#0d0887\"],[0.1111111111111111,\"#46039f\"],[0.2222222222222222,\"#7201a8\"],[0.3333333333333333,\"#9c179e\"],[0.4444444444444444,\"#bd3786\"],[0.5555555555555556,\"#d8576b\"],[0.6666666666666666,\"#ed7953\"],[0.7777777777777778,\"#fb9f3a\"],[0.8888888888888888,\"#fdca26\"],[1.0,\"#f0f921\"]]}],\"contourcarpet\":[{\"type\":\"contourcarpet\",\"colorbar\":{\"outlinewidth\":0,\"ticks\":\"\"}}],\"contour\":[{\"type\":\"contour\",\"colorbar\":{\"outlinewidth\":0,\"ticks\":\"\"},\"colorscale\":[[0.0,\"#0d0887\"],[0.1111111111111111,\"#46039f\"],[0.2222222222222222,\"#7201a8\"],[0.3333333333333333,\"#9c179e\"],[0.4444444444444444,\"#bd3786\"],[0.5555555555555556,\"#d8576b\"],[0.6666666666666666,\"#ed7953\"],[0.7777777777777778,\"#fb9f3a\"],[0.8888888888888888,\"#fdca26\"],[1.0,\"#f0f921\"]]}],\"surface\":[{\"type\":\"surface\",\"colorbar\":{\"outlinewidth\":0,\"ticks\":\"\"},\"colorscale\":[[0.0,\"#0d0887\"],[0.1111111111111111,\"#46039f\"],[0.2222222222222222,\"#7201a8\"],[0.3333333333333333,\"#9c179e\"],[0.4444444444444444,\"#bd3786\"],[0.5555555555555556,\"#d8576b\"],[0.6666666666666666,\"#ed7953\"],[0.7777777777777778,\"#fb9f3a\"],[0.8888888888888888,\"#fdca26\"],[1.0,\"#f0f921\"]]}],\"mesh3d\":[{\"type\":\"mesh3d\",\"colorbar\":{\"outlinewidth\":0,\"ticks\":\"\"}}],\"scatter\":[{\"fillpattern\":{\"fillmode\":\"overlay\",\"size\":10,\"solidity\":0.2},\"type\":\"scatter\"}],\"parcoords\":[{\"type\":\"parcoords\",\"line\":{\"colorbar\":{\"outlinewidth\":0,\"ticks\":\"\"}}}],\"scatterpolargl\":[{\"type\":\"scatterpolargl\",\"marker\":{\"colorbar\":{\"outlinewidth\":0,\"ticks\":\"\"}}}],\"bar\":[{\"error_x\":{\"color\":\"#2a3f5f\"},\"error_y\":{\"color\":\"#2a3f5f\"},\"marker\":{\"line\":{\"color\":\"#E5ECF6\",\"width\":0.5},\"pattern\":{\"fillmode\":\"overlay\",\"size\":10,\"solidity\":0.2}},\"type\":\"bar\"}],\"scattergeo\":[{\"type\":\"scattergeo\",\"marker\":{\"colorbar\":{\"outlinewidth\":0,\"ticks\":\"\"}}}],\"scatterpolar\":[{\"type\":\"scatterpolar\",\"marker\":{\"colorbar\":{\"outlinewidth\":0,\"ticks\":\"\"}}}],\"histogram\":[{\"marker\":{\"pattern\":{\"fillmode\":\"overlay\",\"size\":10,\"solidity\":0.2}},\"type\":\"histogram\"}],\"scattergl\":[{\"type\":\"scattergl\",\"marker\":{\"colorbar\":{\"outlinewidth\":0,\"ticks\":\"\"}}}],\"scatter3d\":[{\"type\":\"scatter3d\",\"line\":{\"colorbar\":{\"outlinewidth\":0,\"ticks\":\"\"}},\"marker\":{\"colorbar\":{\"outlinewidth\":0,\"ticks\":\"\"}}}],\"scattermapbox\":[{\"type\":\"scattermapbox\",\"marker\":{\"colorbar\":{\"outlinewidth\":0,\"ticks\":\"\"}}}],\"scatterternary\":[{\"type\":\"scatterternary\",\"marker\":{\"colorbar\":{\"outlinewidth\":0,\"ticks\":\"\"}}}],\"scattercarpet\":[{\"type\":\"scattercarpet\",\"marker\":{\"colorbar\":{\"outlinewidth\":0,\"ticks\":\"\"}}}],\"carpet\":[{\"aaxis\":{\"endlinecolor\":\"#2a3f5f\",\"gridcolor\":\"white\",\"linecolor\":\"white\",\"minorgridcolor\":\"white\",\"startlinecolor\":\"#2a3f5f\"},\"baxis\":{\"endlinecolor\":\"#2a3f5f\",\"gridcolor\":\"white\",\"linecolor\":\"white\",\"minorgridcolor\":\"white\",\"startlinecolor\":\"#2a3f5f\"},\"type\":\"carpet\"}],\"table\":[{\"cells\":{\"fill\":{\"color\":\"#EBF0F8\"},\"line\":{\"color\":\"white\"}},\"header\":{\"fill\":{\"color\":\"#C8D4E3\"},\"line\":{\"color\":\"white\"}},\"type\":\"table\"}],\"barpolar\":[{\"marker\":{\"line\":{\"color\":\"#E5ECF6\",\"width\":0.5},\"pattern\":{\"fillmode\":\"overlay\",\"size\":10,\"solidity\":0.2}},\"type\":\"barpolar\"}],\"pie\":[{\"automargin\":true,\"type\":\"pie\"}]},\"layout\":{\"autotypenumbers\":\"strict\",\"colorway\":[\"#636efa\",\"#EF553B\",\"#00cc96\",\"#ab63fa\",\"#FFA15A\",\"#19d3f3\",\"#FF6692\",\"#B6E880\",\"#FF97FF\",\"#FECB52\"],\"font\":{\"color\":\"#2a3f5f\"},\"hovermode\":\"closest\",\"hoverlabel\":{\"align\":\"left\"},\"paper_bgcolor\":\"white\",\"plot_bgcolor\":\"#E5ECF6\",\"polar\":{\"bgcolor\":\"#E5ECF6\",\"angularaxis\":{\"gridcolor\":\"white\",\"linecolor\":\"white\",\"ticks\":\"\"},\"radialaxis\":{\"gridcolor\":\"white\",\"linecolor\":\"white\",\"ticks\":\"\"}},\"ternary\":{\"bgcolor\":\"#E5ECF6\",\"aaxis\":{\"gridcolor\":\"white\",\"linecolor\":\"white\",\"ticks\":\"\"},\"baxis\":{\"gridcolor\":\"white\",\"linecolor\":\"white\",\"ticks\":\"\"},\"caxis\":{\"gridcolor\":\"white\",\"linecolor\":\"white\",\"ticks\":\"\"}},\"coloraxis\":{\"colorbar\":{\"outlinewidth\":0,\"ticks\":\"\"}},\"colorscale\":{\"sequential\":[[0.0,\"#0d0887\"],[0.1111111111111111,\"#46039f\"],[0.2222222222222222,\"#7201a8\"],[0.3333333333333333,\"#9c179e\"],[0.4444444444444444,\"#bd3786\"],[0.5555555555555556,\"#d8576b\"],[0.6666666666666666,\"#ed7953\"],[0.7777777777777778,\"#fb9f3a\"],[0.8888888888888888,\"#fdca26\"],[1.0,\"#f0f921\"]],\"sequentialminus\":[[0.0,\"#0d0887\"],[0.1111111111111111,\"#46039f\"],[0.2222222222222222,\"#7201a8\"],[0.3333333333333333,\"#9c179e\"],[0.4444444444444444,\"#bd3786\"],[0.5555555555555556,\"#d8576b\"],[0.6666666666666666,\"#ed7953\"],[0.7777777777777778,\"#fb9f3a\"],[0.8888888888888888,\"#fdca26\"],[1.0,\"#f0f921\"]],\"diverging\":[[0,\"#8e0152\"],[0.1,\"#c51b7d\"],[0.2,\"#de77ae\"],[0.3,\"#f1b6da\"],[0.4,\"#fde0ef\"],[0.5,\"#f7f7f7\"],[0.6,\"#e6f5d0\"],[0.7,\"#b8e186\"],[0.8,\"#7fbc41\"],[0.9,\"#4d9221\"],[1,\"#276419\"]]},\"xaxis\":{\"gridcolor\":\"white\",\"linecolor\":\"white\",\"ticks\":\"\",\"title\":{\"standoff\":15},\"zerolinecolor\":\"white\",\"automargin\":true,\"zerolinewidth\":2},\"yaxis\":{\"gridcolor\":\"white\",\"linecolor\":\"white\",\"ticks\":\"\",\"title\":{\"standoff\":15},\"zerolinecolor\":\"white\",\"automargin\":true,\"zerolinewidth\":2},\"scene\":{\"xaxis\":{\"backgroundcolor\":\"#E5ECF6\",\"gridcolor\":\"white\",\"linecolor\":\"white\",\"showbackground\":true,\"ticks\":\"\",\"zerolinecolor\":\"white\",\"gridwidth\":2},\"yaxis\":{\"backgroundcolor\":\"#E5ECF6\",\"gridcolor\":\"white\",\"linecolor\":\"white\",\"showbackground\":true,\"ticks\":\"\",\"zerolinecolor\":\"white\",\"gridwidth\":2},\"zaxis\":{\"backgroundcolor\":\"#E5ECF6\",\"gridcolor\":\"white\",\"linecolor\":\"white\",\"showbackground\":true,\"ticks\":\"\",\"zerolinecolor\":\"white\",\"gridwidth\":2}},\"shapedefaults\":{\"line\":{\"color\":\"#2a3f5f\"}},\"annotationdefaults\":{\"arrowcolor\":\"#2a3f5f\",\"arrowhead\":0,\"arrowwidth\":1},\"geo\":{\"bgcolor\":\"white\",\"landcolor\":\"#E5ECF6\",\"subunitcolor\":\"white\",\"showland\":true,\"showlakes\":true,\"lakecolor\":\"white\"},\"title\":{\"x\":0.05},\"mapbox\":{\"style\":\"light\"}}},\"coloraxis\":{\"colorbar\":{\"title\":{\"text\":\"Annual Salary\"}},\"colorscale\":[[0.0,\"rgb(0, 147, 146)\"],[0.16666666666666666,\"rgb(114, 170, 161)\"],[0.3333333333333333,\"rgb(177, 199, 179)\"],[0.5,\"rgb(241, 234, 200)\"],[0.6666666666666666,\"rgb(229, 185, 173)\"],[0.8333333333333334,\"rgb(217, 137, 148)\"],[1.0,\"rgb(208, 88, 126)\"]]},\"legend\":{\"tracegroupgap\":0},\"title\":{\"text\":\"Annual Salary (avg) for Data Practicioner by Job Title\\u003cbr\\u003e(Hover for details)\\u003c\\u002fbr\\u003e\"},\"height\":900,\"width\":1100},                        {\"responsive\": true}                    ).then(function(){\n",
       "                            \n",
       "var gd = document.getElementById('a70d3d06-e2f1-4045-9de3-8eee3bfcf44b');\n",
       "var x = new MutationObserver(function (mutations, observer) {{\n",
       "        var display = window.getComputedStyle(gd).display;\n",
       "        if (!display || display === 'none') {{\n",
       "            console.log([gd, 'removed!']);\n",
       "            Plotly.purge(gd);\n",
       "            observer.disconnect();\n",
       "        }}\n",
       "}});\n",
       "\n",
       "// Listen for the removal of the full notebook cells\n",
       "var notebookContainer = gd.closest('#notebook-container');\n",
       "if (notebookContainer) {{\n",
       "    x.observe(notebookContainer, {childList: true});\n",
       "}}\n",
       "\n",
       "// Listen for the clearing of the current output cell\n",
       "var outputEl = gd.closest('.output');\n",
       "if (outputEl) {{\n",
       "    x.observe(outputEl, {childList: true});\n",
       "}}\n",
       "\n",
       "                        })                };                });            </script>        </div>"
      ]
     },
     "metadata": {},
     "output_type": "display_data"
    }
   ],
   "source": [
    "import plotly.graph_objects as go\n",
    "fig = px.treemap(salary_df, path=[px.Constant('Data Practicioner Salaries'), 'State', 'Job Title'], values='Annual Salary',\n",
    "                  color='Annual Salary', \n",
    "                 height=900,\n",
    "                 width=1100,\n",
    "                 title='Annual Salary (avg) for Data Practicioner by Job Title<br>(Hover for details)</br>',\n",
    "                 hover_name='State',\n",
    "                 hover_data=['Job Title'],\n",
    "                 color_continuous_scale='Tealrose',\n",
    "                 #color_continuous_midpoint=np.average(salary_df['Annual Salary'])              \n",
    "                )\n",
    "fig.update_traces(hovertemplate='Job Title=%{label}<br>Annual Salary=%{value}<extra></extra>')\n",
    "fig.show()"
   ]
  },
  {
   "cell_type": "code",
   "execution_count": null,
   "id": "c65e2c35-3b1a-4fdb-b598-f5d08e5d925f",
   "metadata": {},
   "outputs": [],
   "source": []
  }
 ],
 "metadata": {
  "kernelspec": {
   "display_name": "Python 3 (ipykernel)",
   "language": "python",
   "name": "python3"
  },
  "language_info": {
   "codemirror_mode": {
    "name": "ipython",
    "version": 3
   },
   "file_extension": ".py",
   "mimetype": "text/x-python",
   "name": "python",
   "nbconvert_exporter": "python",
   "pygments_lexer": "ipython3",
   "version": "3.11.5"
  }
 },
 "nbformat": 4,
 "nbformat_minor": 5
}
